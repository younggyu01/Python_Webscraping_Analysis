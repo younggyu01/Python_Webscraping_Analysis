{
 "cells": [
  {
   "cell_type": "markdown",
   "metadata": {
    "id": "UsiMJRUUrAvT"
   },
   "source": [
    "## **1. 넷플릭스 데이터셋 파악하기**"
   ]
  },
  {
   "cell_type": "markdown",
   "metadata": {
    "id": "DT70BJpCych4"
   },
   "source": [
    "### **캐글의 넷플릭스 데이터셋을 다운로드**\n",
    "* [캐글 사이트 넷플릭스 링크](https://www.kaggle.com/datasets/shivamb/netflix-shows)\n",
    "* [넷플릭스 데이터셋의 변수 설명]\n",
    "    * show_id: 각 쇼의 고유 ID (쇼를 식별할 수 있는 고유한 번호)\n",
    "    * type: 쇼의 카테고리 (영화 또는 TV 쇼)\n",
    "    * title: 쇼의 이름\n",
    "    * director: 쇼의 감독 이름\n",
    "    * cast: 배우의 이름 및 쇼의 다른 출연진\n",
    "    * country: Netflix에서 프로그램을 시청할 수 있는 국가의 이름\n",
    "    * date_added: Netflix에 프로그램이 추가된 날짜\n",
    "    * release_year: 쇼의 출시 연도\n",
    "    * rating: 넷플릭스 등급 (관람 등급, 예: G, PG, TV-MA 등)\n",
    "    * duration: 쇼의 지속 시간 (영화는 시간, TV 쇼는 시즌 및 에피소드 수로 표현)\n",
    "    * listed_in: 쇼의 장르 (예: 액션, 드라마, 코미디 등)\n",
    "    * description: 쇼를 설명하는 일부 텍스트 (쇼의 줄거리 또는 개요)"
   ]
  },
  {
   "cell_type": "markdown",
   "metadata": {
    "id": "DPLHMBcjK71z"
   },
   "source": [
    "#### **데이터 분석 라이브러리 불러오기**\n",
    "*   Pandas, Numpy, Matplotlib, Seaborn"
   ]
  },
  {
   "cell_type": "code",
   "execution_count": 1,
   "metadata": {
    "executionInfo": {
     "elapsed": 2,
     "status": "ok",
     "timestamp": 1743063583716,
     "user": {
      "displayName": "Selena",
      "userId": "06461301400198097430"
     },
     "user_tz": -540
    },
    "id": "hwLFtD4m19yB"
   },
   "outputs": [],
   "source": [
    "# numpy 로드하여 np로 사용\n",
    "# pandas 로드하여 pd로 사용\n",
    "# matplotlib.pyplot 로드하여 plt로 사용\n",
    "# seaborn 로드하여 sns로 사용\n",
    "import numpy as np\n",
    "import pandas as pd\n",
    "\n",
    "import matplotlib\n",
    "import matplotlib.pyplot as plt\n",
    "import matplotlib.font_manager as fm\n",
    "import seaborn as sns"
   ]
  },
  {
   "cell_type": "markdown",
   "metadata": {
    "id": "pthRKV2rK_Pa"
   },
   "source": [
    "#### **csv 파일 불러오기**\n",
    "* `pd.read_csv(\"\")` 코드의 큰 따옴표 안에 `경로 붙여넣기`"
   ]
  },
  {
   "cell_type": "code",
   "execution_count": 3,
   "metadata": {
    "executionInfo": {
     "elapsed": 149,
     "status": "ok",
     "timestamp": 1743063583866,
     "user": {
      "displayName": "Selena",
      "userId": "06461301400198097430"
     },
     "user_tz": -540
    },
    "id": "EKn3-hFo2gCV"
   },
   "outputs": [
    {
     "data": {
      "text/plain": [
       "(8807, 12)"
      ]
     },
     "execution_count": 3,
     "metadata": {},
     "output_type": "execute_result"
    }
   ],
   "source": [
    "# 세션 저장소에 업로드한 csv 파일을 읽어 변수에 할당\n",
    "# csv 파일 읽어오기\n",
    "netflix = pd.read_csv('data/netflix_titles.csv')\n",
    "netflix.shape"
   ]
  },
  {
   "cell_type": "markdown",
   "metadata": {
    "id": "YjOlEpR1Le2g"
   },
   "source": [
    "#### **데이터 내용 확인**\n",
    "- `.columns` : 컬럼명 확인\n",
    "- `.head(3)` : 데이터의 상단 3개 행 출력\n",
    "- `.info()` : 데이터에 대한 전반적인 정보 제공\n",
    "> - 행과 열의 크기\n",
    "> - 컬럼명\n",
    "> - 컬럼별 결측치\n",
    "> - 컬럼별 데이터 타입"
   ]
  },
  {
   "cell_type": "code",
   "execution_count": 4,
   "metadata": {
    "colab": {
     "base_uri": "https://localhost:8080/"
    },
    "executionInfo": {
     "elapsed": 3,
     "status": "ok",
     "timestamp": 1743063583875,
     "user": {
      "displayName": "Selena",
      "userId": "06461301400198097430"
     },
     "user_tz": -540
    },
    "id": "ZaA_OOk82-5a",
    "outputId": "7b1399ec-516b-4020-b491-cd6da5042252"
   },
   "outputs": [
    {
     "data": {
      "text/plain": [
       "Index(['show_id', 'type', 'title', 'director', 'cast', 'country', 'date_added',\n",
       "       'release_year', 'rating', 'duration', 'listed_in', 'description'],\n",
       "      dtype='object')"
      ]
     },
     "execution_count": 4,
     "metadata": {},
     "output_type": "execute_result"
    }
   ],
   "source": [
    "# .columns : 열 이름 확인\n",
    "netflix.columns"
   ]
  },
  {
   "cell_type": "code",
   "execution_count": 5,
   "metadata": {
    "colab": {
     "base_uri": "https://localhost:8080/",
     "height": 282
    },
    "executionInfo": {
     "elapsed": 108,
     "status": "ok",
     "timestamp": 1743063583983,
     "user": {
      "displayName": "Selena",
      "userId": "06461301400198097430"
     },
     "user_tz": -540
    },
    "id": "TFDPuE9S3CKC",
    "outputId": "64123244-0c86-411c-9dd8-d79166b251b8"
   },
   "outputs": [
    {
     "data": {
      "text/html": [
       "<div>\n",
       "<style scoped>\n",
       "    .dataframe tbody tr th:only-of-type {\n",
       "        vertical-align: middle;\n",
       "    }\n",
       "\n",
       "    .dataframe tbody tr th {\n",
       "        vertical-align: top;\n",
       "    }\n",
       "\n",
       "    .dataframe thead th {\n",
       "        text-align: right;\n",
       "    }\n",
       "</style>\n",
       "<table border=\"1\" class=\"dataframe\">\n",
       "  <thead>\n",
       "    <tr style=\"text-align: right;\">\n",
       "      <th></th>\n",
       "      <th>show_id</th>\n",
       "      <th>type</th>\n",
       "      <th>title</th>\n",
       "      <th>director</th>\n",
       "      <th>cast</th>\n",
       "      <th>country</th>\n",
       "      <th>date_added</th>\n",
       "      <th>release_year</th>\n",
       "      <th>rating</th>\n",
       "      <th>duration</th>\n",
       "      <th>listed_in</th>\n",
       "      <th>description</th>\n",
       "    </tr>\n",
       "  </thead>\n",
       "  <tbody>\n",
       "    <tr>\n",
       "      <th>0</th>\n",
       "      <td>s1</td>\n",
       "      <td>Movie</td>\n",
       "      <td>Dick Johnson Is Dead</td>\n",
       "      <td>Kirsten Johnson</td>\n",
       "      <td>NaN</td>\n",
       "      <td>United States</td>\n",
       "      <td>September 25, 2021</td>\n",
       "      <td>2020</td>\n",
       "      <td>PG-13</td>\n",
       "      <td>90 min</td>\n",
       "      <td>Documentaries</td>\n",
       "      <td>As her father nears the end of his life, filmm...</td>\n",
       "    </tr>\n",
       "    <tr>\n",
       "      <th>1</th>\n",
       "      <td>s2</td>\n",
       "      <td>TV Show</td>\n",
       "      <td>Blood &amp; Water</td>\n",
       "      <td>NaN</td>\n",
       "      <td>Ama Qamata, Khosi Ngema, Gail Mabalane, Thaban...</td>\n",
       "      <td>South Africa</td>\n",
       "      <td>September 24, 2021</td>\n",
       "      <td>2021</td>\n",
       "      <td>TV-MA</td>\n",
       "      <td>2 Seasons</td>\n",
       "      <td>International TV Shows, TV Dramas, TV Mysteries</td>\n",
       "      <td>After crossing paths at a party, a Cape Town t...</td>\n",
       "    </tr>\n",
       "    <tr>\n",
       "      <th>2</th>\n",
       "      <td>s3</td>\n",
       "      <td>TV Show</td>\n",
       "      <td>Ganglands</td>\n",
       "      <td>Julien Leclercq</td>\n",
       "      <td>Sami Bouajila, Tracy Gotoas, Samuel Jouy, Nabi...</td>\n",
       "      <td>NaN</td>\n",
       "      <td>September 24, 2021</td>\n",
       "      <td>2021</td>\n",
       "      <td>TV-MA</td>\n",
       "      <td>1 Season</td>\n",
       "      <td>Crime TV Shows, International TV Shows, TV Act...</td>\n",
       "      <td>To protect his family from a powerful drug lor...</td>\n",
       "    </tr>\n",
       "  </tbody>\n",
       "</table>\n",
       "</div>"
      ],
      "text/plain": [
       "  show_id     type                 title         director  \\\n",
       "0      s1    Movie  Dick Johnson Is Dead  Kirsten Johnson   \n",
       "1      s2  TV Show         Blood & Water              NaN   \n",
       "2      s3  TV Show             Ganglands  Julien Leclercq   \n",
       "\n",
       "                                                cast        country  \\\n",
       "0                                                NaN  United States   \n",
       "1  Ama Qamata, Khosi Ngema, Gail Mabalane, Thaban...   South Africa   \n",
       "2  Sami Bouajila, Tracy Gotoas, Samuel Jouy, Nabi...            NaN   \n",
       "\n",
       "           date_added  release_year rating   duration  \\\n",
       "0  September 25, 2021          2020  PG-13     90 min   \n",
       "1  September 24, 2021          2021  TV-MA  2 Seasons   \n",
       "2  September 24, 2021          2021  TV-MA   1 Season   \n",
       "\n",
       "                                           listed_in  \\\n",
       "0                                      Documentaries   \n",
       "1    International TV Shows, TV Dramas, TV Mysteries   \n",
       "2  Crime TV Shows, International TV Shows, TV Act...   \n",
       "\n",
       "                                         description  \n",
       "0  As her father nears the end of his life, filmm...  \n",
       "1  After crossing paths at a party, a Cape Town t...  \n",
       "2  To protect his family from a powerful drug lor...  "
      ]
     },
     "execution_count": 5,
     "metadata": {},
     "output_type": "execute_result"
    }
   ],
   "source": [
    "# .head(3) : 데이터 처음 3개의 행 출력\n",
    "netflix.head(3)"
   ]
  },
  {
   "cell_type": "code",
   "execution_count": 6,
   "metadata": {
    "colab": {
     "base_uri": "https://localhost:8080/"
    },
    "executionInfo": {
     "elapsed": 15,
     "status": "ok",
     "timestamp": 1743063584008,
     "user": {
      "displayName": "Selena",
      "userId": "06461301400198097430"
     },
     "user_tz": -540
    },
    "id": "eJQGkhPl3D2d",
    "outputId": "cfeb6d9d-07bc-4e5e-d19f-2011f366982c"
   },
   "outputs": [
    {
     "name": "stdout",
     "output_type": "stream",
     "text": [
      "<class 'pandas.core.frame.DataFrame'>\n",
      "RangeIndex: 8807 entries, 0 to 8806\n",
      "Data columns (total 12 columns):\n",
      " #   Column        Non-Null Count  Dtype \n",
      "---  ------        --------------  ----- \n",
      " 0   show_id       8807 non-null   object\n",
      " 1   type          8807 non-null   object\n",
      " 2   title         8807 non-null   object\n",
      " 3   director      6173 non-null   object\n",
      " 4   cast          7982 non-null   object\n",
      " 5   country       7976 non-null   object\n",
      " 6   date_added    8797 non-null   object\n",
      " 7   release_year  8807 non-null   int64 \n",
      " 8   rating        8803 non-null   object\n",
      " 9   duration      8804 non-null   object\n",
      " 10  listed_in     8807 non-null   object\n",
      " 11  description   8807 non-null   object\n",
      "dtypes: int64(1), object(11)\n",
      "memory usage: 825.8+ KB\n"
     ]
    }
   ],
   "source": [
    "# .info() : 열에 대한 요약 정보 확인\n",
    "netflix.info()"
   ]
  },
  {
   "cell_type": "markdown",
   "metadata": {
    "id": "GjW8Teoy3I5K"
   },
   "source": [
    "## **2. 넷플릭스 데이터셋 결측치 처리하기**"
   ]
  },
  {
   "cell_type": "markdown",
   "metadata": {
    "id": "3mpsEQl3zlLU"
   },
   "source": [
    "### **결측치란?**\n",
    "* 데이터에 값이 없거나 부적절한 경우 결측치로 표시함\n",
    "* NA : Not Available ( 유효하지 않은 )\n",
    "* NaN : Not a Number ( 숫자가 아닌 )\n",
    "* Null : 아무것도 존재하지 않음을 의미함 \n"
   ]
  },
  {
   "cell_type": "markdown",
   "metadata": {},
   "source": [
    "\n",
    "### **결측치 처리하는 방법**\n",
    "* 방법1 : 결측치가 있는 행 또는 열을 **제거**하기\n",
    "    * 데이터 손실 ( 표본 크기의 축소 ) 발생\n",
    "* 방법2 : 결측치를 다른 값을 **치환**하기\n",
    "    * 데이터 특성에 맞게 평균,중앙값,최빈값 등으로 대체 가능\n",
    "    * 다른 변수와 상관관계가 있을 경우, 알맞은 값을 넣어줄 수 있음\n",
    "    * 도메인 지식이 있는 경우 효율적인 방법\n",
    "* 방법3 : 예측하는 모델을 사용하여 결측치를 대체하기 ( 모델 기반 처리 )\n",
    "    * 예측 모델 또는 특성에 맞는 모델을 사용하여 결측치 처리"
   ]
  },
  {
   "cell_type": "markdown",
   "metadata": {
    "id": "elQERBP33ZZS"
   },
   "source": [
    "### **넷플릭스 결측치 비율 확인하기**\n",
    "* 결측치가 차지하는 비율에 따라 다르게 처리하기\n",
    "    * **결측치가 데이터의 5% 미만**\n",
    "        * 일부분에만 결측치가 존재하므로 결측치가 있는 행을 삭제하는 것이 적합합니다. 데이터 손실이 최소화되면, 분석의 신뢰성에 큰 영향을 미치지 않습니다. \n",
    "    * **결측치가 데이터의 5%에서 20% 사이** \n",
    "        * 결측치가 꽤 많은 상태이므로 삭제보다는 대체하는 하는 방법이 더 적합합니다. 평균,중간값,최빈값 등을 사용해 대체하거나, 필요에 따를 모델 기반 처리도 고려할 수 있습니다.\n",
    "    *  **결측치가 데이터의 20% 이상**\n",
    "        * 결측치가 너무 많은 상태이므로 결측치가 있는 열 전체를 제거하는 것이 권장되지만,데이터 손실이 크기 때문에 신중한 판단이 필요합니다.\n",
    "        * 특히 데이터셋이 작거나 해당 변수가 중요한 역할을 할 때는 모델 기반 대체나 예측 모델을 통해 결측치를 보완하는 것이 더 적합할 수 있습니다. \n",
    "        * 따라서, 결측치가 20% 이상이라도 변수의 중요성,분석 목적,데이터량을 종합적으로 고려해 열을 제거할지, 대체할지를 결정하는 것이 중요합니다.\n",
    "* 이러한 기준을 이론적인 가이드라인일 뿐, 절대적인 규칙은 아닙니다.        "
   ]
  },
  {
   "cell_type": "markdown",
   "metadata": {
    "id": "CpxD33HE1v-A"
   },
   "source": [
    "#### **[파이썬 기초 문법] for문을 이용한 리스트 반복문**"
   ]
  },
  {
   "cell_type": "code",
   "execution_count": 7,
   "metadata": {
    "colab": {
     "base_uri": "https://localhost:8080/"
    },
    "executionInfo": {
     "elapsed": 10,
     "status": "ok",
     "timestamp": 1743063584032,
     "user": {
      "displayName": "Selena",
      "userId": "06461301400198097430"
     },
     "user_tz": -540
    },
    "id": "oRJGfU932EpJ",
    "outputId": "370a3207-a940-4011-a83b-12978a8da54b"
   },
   "outputs": [
    {
     "name": "stdout",
     "output_type": "stream",
     "text": [
      "Korea\n",
      "USA\n",
      "Japan\n"
     ]
    }
   ],
   "source": [
    "# 목표: myList 변수에 국가명이 담긴 리스트를 넣고 반복문으로 출력\n",
    "\n",
    "# myList는 '반복할 수 있는 것'으로 내부적으로 여러 개의 요소를 포함하고 있으며,\n",
    "#           요소의 개수만큼 하나씩 순회\n",
    "# a는 '반복자'로 myList에서 하나씩 꺼낸 요소를 저장하는 반복 변수\n",
    "myList = ['Korea', 'USA', 'Japan']\n",
    "\n",
    "for a in myList:\n",
    "  print(a)"
   ]
  },
  {
   "cell_type": "markdown",
   "metadata": {
    "id": "meUsQQ-J9tRU"
   },
   "source": [
    "#### **[파이썬 기초 문법] 문자열 포맷팅**\n",
    "* 문자열 안에 어떤 값을 삽입하는 방법"
   ]
  },
  {
   "cell_type": "code",
   "execution_count": 8,
   "metadata": {
    "colab": {
     "base_uri": "https://localhost:8080/"
    },
    "executionInfo": {
     "elapsed": 99,
     "status": "ok",
     "timestamp": 1743063584132,
     "user": {
      "displayName": "Selena",
      "userId": "06461301400198097430"
     },
     "user_tz": -540
    },
    "id": "n-tLGanO9xsc",
    "outputId": "644c12d6-d18e-4358-c246-63c244414fed"
   },
   "outputs": [
    {
     "name": "stdout",
     "output_type": "stream",
     "text": [
      "나는 6호선을 타고 다녀.\n",
      "나는 6호선과 4호선을 타고 다녀.\n"
     ]
    }
   ],
   "source": [
    "# 목표: format() 함수를 이용한 문자열 포맷팅 수행\n",
    "\n",
    "# { } 안에 숫자 대입\n",
    "# format 함수 안에 넣을 숫자 삽입\n",
    "print(\"나는 {}호선을 타고 다녀.\".format(6))\n",
    "print(\"나는 {}호선과 {}호선을 타고 다녀.\".format(6, 4))"
   ]
  },
  {
   "cell_type": "markdown",
   "metadata": {
    "id": "lTHT9k8Y6L0_"
   },
   "source": [
    "#### **for문으로 결측치 비율 확인하기**\n",
    "* 결측치 비율 확인하고 처리하기\n",
    "    * .isna().sum()\n",
    "        * .isna()에서 결측치는 True 반환, 그 외에는 False 반환\n",
    "        * .isna().sum() 은 각 열의 결측치 개수 반환\n",
    "        * DataFrame내에서 결측치 개수 반환"
   ]
  },
  {
   "cell_type": "code",
   "execution_count": 9,
   "metadata": {},
   "outputs": [
    {
     "name": "stdout",
     "output_type": "stream",
     "text": [
      "\n",
      "결측치 확인:\n",
      "show_id            0\n",
      "type               0\n",
      "title              0\n",
      "director        2634\n",
      "cast             825\n",
      "country          831\n",
      "date_added        10\n",
      "release_year       0\n",
      "rating             4\n",
      "duration           3\n",
      "listed_in          0\n",
      "description        0\n",
      "dtype: int64\n"
     ]
    }
   ],
   "source": [
    "print(\"\\n결측치 확인:\")\n",
    "print(netflix.isnull().sum())"
   ]
  },
  {
   "cell_type": "code",
   "execution_count": 10,
   "metadata": {},
   "outputs": [
    {
     "name": "stdout",
     "output_type": "stream",
     "text": [
      "show_id            0\n",
      "type               0\n",
      "title              0\n",
      "director        2634\n",
      "cast             825\n",
      "country          831\n",
      "date_added        10\n",
      "release_year       0\n",
      "rating             4\n",
      "duration           3\n",
      "listed_in          0\n",
      "description        0\n",
      "dtype: int64\n"
     ]
    }
   ],
   "source": [
    "print(netflix.isna().sum())"
   ]
  },
  {
   "cell_type": "code",
   "execution_count": 11,
   "metadata": {
    "colab": {
     "base_uri": "https://localhost:8080/"
    },
    "executionInfo": {
     "elapsed": 4,
     "status": "ok",
     "timestamp": 1743063584133,
     "user": {
      "displayName": "Selena",
      "userId": "06461301400198097430"
     },
     "user_tz": -540
    },
    "id": "7R7G3c8n3oX4",
    "outputId": "e84799ae-299e-40d9-8d63-57ec07d0358b"
   },
   "outputs": [
    {
     "name": "stdout",
     "output_type": "stream",
     "text": [
      "director null rate: 29.91%\n",
      "cast null rate: 9.37%\n",
      "country null rate: 9.44%\n",
      "date_added null rate: 0.11%\n",
      "rating null rate: 0.05%\n",
      "duration null rate: 0.03%\n"
     ]
    }
   ],
   "source": [
    "# for 반복문을 통해 각 컬럼별 결측치 비율을 계산하여 문자열로 출력\n",
    "\n",
    "# for i in netflix.columns : 각 열에 대해 반복\n",
    "\n",
    "# netflix[i].isna().sum() : netflix 데이터 열(column)의 결측치 개수의 합\n",
    "# .isna( ) : 결측 값은 True 반환, 그 외에는 False 반환\n",
    "# len(netflix) : netflix 데이터 행(row) 개수\n",
    "# * 100 : 결측치 비율인 0.xx 를 보기 쉽게 표현하기 위해\n",
    "\n",
    "# if missingValueRate > 0 : 결측치가 있을 때 실행\n",
    "\n",
    "# 열 이름과 결측치 비율 출력\n",
    "# \"문자열\".format() : 문자열 포맷팅 기법으로 `{ }`에 차례대로 매핑\n",
    "#                     `{0}`에는 i 매핑, `{1}`에는 round(missingValueRate, 2) 매핑\n",
    "# round(missingValueRate, 2) : 소수점 2자리까지 반올림\n",
    "\n",
    "for i in netflix.columns :\n",
    "    missingValueRate = netflix[i].isna().sum() / len(netflix) * 100\n",
    "    if missingValueRate > 0 :\n",
    "        print(\"{} null rate: {}%\".format(i,round(missingValueRate, 2)))"
   ]
  },
  {
   "cell_type": "code",
   "execution_count": null,
   "metadata": {
    "colab": {
     "base_uri": "https://localhost:8080/"
    },
    "executionInfo": {
     "elapsed": 3,
     "status": "ok",
     "timestamp": 1743063584133,
     "user": {
      "displayName": "Selena",
      "userId": "06461301400198097430"
     },
     "user_tz": -540
    },
    "id": "S7F-Q4odzScX",
    "outputId": "06194777-0ca9-4895-8943-6b7d2546ce53"
   },
   "outputs": [],
   "source": [
    "# netflix.columns의 결과는 Pandas의 Index 객체이며,\n",
    "# 파이썬의 리스트처럼 for 문에서 요소를 하나씩 꺼내 사용!\n",
    "netflix.columns"
   ]
  },
  {
   "cell_type": "markdown",
   "metadata": {
    "id": "hGXJWGvk6x7x"
   },
   "source": [
    "#### **결측치 비율에 따른 처리 방법**\n",
    "* 결측치 비율이 20% 이상인 director 컬럼은 결측치를 대체하는 방식으로 처리\n",
    "* 결측치 비율이 country(5% ~ 20%) 컬럼과 cast(9.44%)은 결측치 대체로 처리\n",
    "* 결측치 비율이 5% 미만인 date_add(0.11%), rating(0.05%), duration(0.03%) 결측치 비율이 낮기 때문에 결측치가 있는 행을 삭제로 처리\n",
    "* 결측치 처리하는 함수\n",
    "    * fillna() - 결측치를 특정값을 채우거나 대체하여 처리\n",
    "    * repace(np.nan,'문자') - 결측치를 문자열 바꾸기 함수로 처리하기, np.nan은 결측치를 의미한다.\n",
    "    * dropna(axis=0) - 결측치가 존재하는 행 전체 제거\n",
    "\t\t* axis = 0 : Row, axis = 1 : Column"
   ]
  },
  {
   "cell_type": "markdown",
   "metadata": {
    "id": "fusO6bac6X83"
   },
   "source": [
    "#### **fillna( ) 함수로 결측치를 다른 값으로 대체하기**"
   ]
  },
  {
   "cell_type": "code",
   "execution_count": 18,
   "metadata": {},
   "outputs": [
    {
     "data": {
      "text/plain": [
       "country\n",
       "United States     2818\n",
       "India              972\n",
       "No Data            831\n",
       "United Kingdom     419\n",
       "Japan              245\n",
       "South Korea        199\n",
       "Canada             181\n",
       "Spain              145\n",
       "France             124\n",
       "Mexico             110\n",
       "Name: count, dtype: int64"
      ]
     },
     "execution_count": 18,
     "metadata": {},
     "output_type": "execute_result"
    }
   ],
   "source": [
    "netflix['country'].value_counts().head(10)"
   ]
  },
  {
   "cell_type": "code",
   "execution_count": 16,
   "metadata": {
    "executionInfo": {
     "elapsed": 9,
     "status": "ok",
     "timestamp": 1743063584141,
     "user": {
      "displayName": "Selena",
      "userId": "06461301400198097430"
     },
     "user_tz": -540
    },
    "id": "TB5n6AJS4t8n"
   },
   "outputs": [],
   "source": [
    "# .fillna( ) : 결측치를 다른 값으로 대체하여 처리\n",
    "# 결측치 비율 : country(9.44%)\n",
    "netflix['country'] = netflix['country'].fillna('No Data')\n",
    "# inplace 속성이 원본 데이터를 즉시 변경함 (pandas 2 버전에서는 warning)\n",
    "#netflix['country'].fillna('No Data', inplace=True)"
   ]
  },
  {
   "cell_type": "code",
   "execution_count": 19,
   "metadata": {},
   "outputs": [
    {
     "name": "stdout",
     "output_type": "stream",
     "text": [
      "831\n"
     ]
    },
    {
     "data": {
      "text/html": [
       "<div>\n",
       "<style scoped>\n",
       "    .dataframe tbody tr th:only-of-type {\n",
       "        vertical-align: middle;\n",
       "    }\n",
       "\n",
       "    .dataframe tbody tr th {\n",
       "        vertical-align: top;\n",
       "    }\n",
       "\n",
       "    .dataframe thead th {\n",
       "        text-align: right;\n",
       "    }\n",
       "</style>\n",
       "<table border=\"1\" class=\"dataframe\">\n",
       "  <thead>\n",
       "    <tr style=\"text-align: right;\">\n",
       "      <th></th>\n",
       "      <th>show_id</th>\n",
       "      <th>type</th>\n",
       "      <th>title</th>\n",
       "      <th>director</th>\n",
       "      <th>cast</th>\n",
       "      <th>country</th>\n",
       "      <th>date_added</th>\n",
       "      <th>release_year</th>\n",
       "      <th>rating</th>\n",
       "      <th>duration</th>\n",
       "      <th>listed_in</th>\n",
       "      <th>description</th>\n",
       "    </tr>\n",
       "  </thead>\n",
       "  <tbody>\n",
       "    <tr>\n",
       "      <th>2</th>\n",
       "      <td>s3</td>\n",
       "      <td>TV Show</td>\n",
       "      <td>Ganglands</td>\n",
       "      <td>Julien Leclercq</td>\n",
       "      <td>Sami Bouajila, Tracy Gotoas, Samuel Jouy, Nabi...</td>\n",
       "      <td>No Data</td>\n",
       "      <td>September 24, 2021</td>\n",
       "      <td>2021</td>\n",
       "      <td>TV-MA</td>\n",
       "      <td>1 Season</td>\n",
       "      <td>Crime TV Shows, International TV Shows, TV Act...</td>\n",
       "      <td>To protect his family from a powerful drug lor...</td>\n",
       "    </tr>\n",
       "    <tr>\n",
       "      <th>3</th>\n",
       "      <td>s4</td>\n",
       "      <td>TV Show</td>\n",
       "      <td>Jailbirds New Orleans</td>\n",
       "      <td>NaN</td>\n",
       "      <td>NaN</td>\n",
       "      <td>No Data</td>\n",
       "      <td>September 24, 2021</td>\n",
       "      <td>2021</td>\n",
       "      <td>TV-MA</td>\n",
       "      <td>1 Season</td>\n",
       "      <td>Docuseries, Reality TV</td>\n",
       "      <td>Feuds, flirtations and toilet talk go down amo...</td>\n",
       "    </tr>\n",
       "    <tr>\n",
       "      <th>5</th>\n",
       "      <td>s6</td>\n",
       "      <td>TV Show</td>\n",
       "      <td>Midnight Mass</td>\n",
       "      <td>Mike Flanagan</td>\n",
       "      <td>Kate Siegel, Zach Gilford, Hamish Linklater, H...</td>\n",
       "      <td>No Data</td>\n",
       "      <td>September 24, 2021</td>\n",
       "      <td>2021</td>\n",
       "      <td>TV-MA</td>\n",
       "      <td>1 Season</td>\n",
       "      <td>TV Dramas, TV Horror, TV Mysteries</td>\n",
       "      <td>The arrival of a charismatic young priest brin...</td>\n",
       "    </tr>\n",
       "    <tr>\n",
       "      <th>6</th>\n",
       "      <td>s7</td>\n",
       "      <td>Movie</td>\n",
       "      <td>My Little Pony: A New Generation</td>\n",
       "      <td>Robert Cullen, José Luis Ucha</td>\n",
       "      <td>Vanessa Hudgens, Kimiko Glenn, James Marsden, ...</td>\n",
       "      <td>No Data</td>\n",
       "      <td>September 24, 2021</td>\n",
       "      <td>2021</td>\n",
       "      <td>PG</td>\n",
       "      <td>91 min</td>\n",
       "      <td>Children &amp; Family Movies</td>\n",
       "      <td>Equestria's divided. But a bright-eyed hero be...</td>\n",
       "    </tr>\n",
       "    <tr>\n",
       "      <th>10</th>\n",
       "      <td>s11</td>\n",
       "      <td>TV Show</td>\n",
       "      <td>Vendetta: Truth, Lies and The Mafia</td>\n",
       "      <td>NaN</td>\n",
       "      <td>NaN</td>\n",
       "      <td>No Data</td>\n",
       "      <td>September 24, 2021</td>\n",
       "      <td>2021</td>\n",
       "      <td>TV-MA</td>\n",
       "      <td>1 Season</td>\n",
       "      <td>Crime TV Shows, Docuseries, International TV S...</td>\n",
       "      <td>Sicily boasts a bold \"Anti-Mafia\" coalition. B...</td>\n",
       "    </tr>\n",
       "  </tbody>\n",
       "</table>\n",
       "</div>"
      ],
      "text/plain": [
       "   show_id     type                                title  \\\n",
       "2       s3  TV Show                            Ganglands   \n",
       "3       s4  TV Show                Jailbirds New Orleans   \n",
       "5       s6  TV Show                        Midnight Mass   \n",
       "6       s7    Movie     My Little Pony: A New Generation   \n",
       "10     s11  TV Show  Vendetta: Truth, Lies and The Mafia   \n",
       "\n",
       "                         director  \\\n",
       "2                 Julien Leclercq   \n",
       "3                             NaN   \n",
       "5                   Mike Flanagan   \n",
       "6   Robert Cullen, José Luis Ucha   \n",
       "10                            NaN   \n",
       "\n",
       "                                                 cast  country  \\\n",
       "2   Sami Bouajila, Tracy Gotoas, Samuel Jouy, Nabi...  No Data   \n",
       "3                                                 NaN  No Data   \n",
       "5   Kate Siegel, Zach Gilford, Hamish Linklater, H...  No Data   \n",
       "6   Vanessa Hudgens, Kimiko Glenn, James Marsden, ...  No Data   \n",
       "10                                                NaN  No Data   \n",
       "\n",
       "            date_added  release_year rating  duration  \\\n",
       "2   September 24, 2021          2021  TV-MA  1 Season   \n",
       "3   September 24, 2021          2021  TV-MA  1 Season   \n",
       "5   September 24, 2021          2021  TV-MA  1 Season   \n",
       "6   September 24, 2021          2021     PG    91 min   \n",
       "10  September 24, 2021          2021  TV-MA  1 Season   \n",
       "\n",
       "                                            listed_in  \\\n",
       "2   Crime TV Shows, International TV Shows, TV Act...   \n",
       "3                              Docuseries, Reality TV   \n",
       "5                  TV Dramas, TV Horror, TV Mysteries   \n",
       "6                            Children & Family Movies   \n",
       "10  Crime TV Shows, Docuseries, International TV S...   \n",
       "\n",
       "                                          description  \n",
       "2   To protect his family from a powerful drug lor...  \n",
       "3   Feuds, flirtations and toilet talk go down amo...  \n",
       "5   The arrival of a charismatic young priest brin...  \n",
       "6   Equestria's divided. But a bright-eyed hero be...  \n",
       "10  Sicily boasts a bold \"Anti-Mafia\" coalition. B...  "
      ]
     },
     "execution_count": 19,
     "metadata": {},
     "output_type": "execute_result"
    }
   ],
   "source": [
    "print(len(netflix.loc[netflix['country'] == 'No Data']))\n",
    "netflix.loc[netflix['country'] == 'No Data'].head()"
   ]
  },
  {
   "cell_type": "markdown",
   "metadata": {
    "id": "amdt26g_6aot"
   },
   "source": [
    "#### **replace( ) 함수로 결측치를 다른 값으로 대체하기**"
   ]
  },
  {
   "cell_type": "code",
   "execution_count": 20,
   "metadata": {
    "executionInfo": {
     "elapsed": 13,
     "status": "ok",
     "timestamp": 1743063584155,
     "user": {
      "displayName": "Selena",
      "userId": "06461301400198097430"
     },
     "user_tz": -540
    },
    "id": "VoCIFjTk5DfL"
   },
   "outputs": [],
   "source": [
    "# .replace(np.nan, 'b') : 결측치를 문자열 바꾸기 함수를 통해 처리\n",
    "# 결측치 비율 : director(29.91%), cast(9.37%)\n",
    "netflix['director'] = netflix['director'].replace(np.nan, 'No Data')\n",
    "netflix['cast'] = netflix['cast'].replace(np.nan, 'No Data')"
   ]
  },
  {
   "cell_type": "code",
   "execution_count": 21,
   "metadata": {},
   "outputs": [
    {
     "data": {
      "text/plain": [
       "director\n",
       "No Data                           2634\n",
       "Rajiv Chilaka                       19\n",
       "Raúl Campos, Jan Suter              18\n",
       "Suhas Kadav                         16\n",
       "Marcus Raboy                        16\n",
       "                                  ... \n",
       "Raymie Muzquiz, Stu Livingston       1\n",
       "Joe Menendez                         1\n",
       "Eric Bross                           1\n",
       "Will Eisenberg                       1\n",
       "Mozez Singh                          1\n",
       "Name: count, Length: 4529, dtype: int64"
      ]
     },
     "execution_count": 21,
     "metadata": {},
     "output_type": "execute_result"
    }
   ],
   "source": [
    "netflix['director'].value_counts()"
   ]
  },
  {
   "cell_type": "code",
   "execution_count": 22,
   "metadata": {},
   "outputs": [
    {
     "data": {
      "text/plain": [
       "cast\n",
       "No Data                                                                                                                                                                                       825\n",
       "David Attenborough                                                                                                                                                                             19\n",
       "Vatsal Dubey, Julie Tejwani, Rupa Bhimani, Jigna Bhardwaj, Rajesh Kava, Mousam, Swapnil                                                                                                        14\n",
       "Samuel West                                                                                                                                                                                    10\n",
       "Jeff Dunham                                                                                                                                                                                     7\n",
       "                                                                                                                                                                                             ... \n",
       "Nick Lachey, Vanessa Lachey                                                                                                                                                                     1\n",
       "Takeru Sato, Kasumi Arimura, Haru, Kentaro Sakaguchi, Takayuki Yamada, Kendo Kobayashi, Ken Yasuda, Arata Furuta, Suzuki Matsuo, Koichi Yamadera, Arata Iura, Chikako Kaku, Kotaro Yoshida      1\n",
       "Toyin Abraham, Sambasa Nzeribe, Chioma Chukwuka Akpotha, Chioma Omeruah, Chiwetalu Agu, Dele Odule, Femi Adebayo, Bayray McNwizu, Biodun Stephen                                                1\n",
       "Neeraj Kabi, Geetanjali Kulkarni, Danish Husain, Sheeba Chaddha, Paras Priyadarshan, Anshul Chauhan, Anud Singh Dhaka, Shirin Sewani, Mihir Ahuja, Vasundhara Rajput                            1\n",
       "Vicky Kaushal, Sarah-Jane Dias, Raaghav Chanana, Manish Chaudhary, Meghna Malik, Malkeet Rauni, Anita Shabdish, Chittaranjan Tripathy                                                           1\n",
       "Name: count, Length: 7693, dtype: int64"
      ]
     },
     "execution_count": 22,
     "metadata": {},
     "output_type": "execute_result"
    }
   ],
   "source": [
    "netflix['cast'].value_counts()"
   ]
  },
  {
   "cell_type": "markdown",
   "metadata": {
    "id": "0Y9Gxirx6c2N"
   },
   "source": [
    "#### **dropna( )로 결측치를 가진 행 제거하기**\n",
    "- `.dropna(axis = 0)` : 결측치가 있는 행 전체 제거\n",
    "- `.dropna(axis = 1)` : 결측치가 있는 열 전체 제거\n",
    "- inplace=True 이므로 DataFrame에 즉시 반영됨"
   ]
  },
  {
   "cell_type": "code",
   "execution_count": 23,
   "metadata": {},
   "outputs": [
    {
     "data": {
      "text/plain": [
       "(8807, 12)"
      ]
     },
     "execution_count": 23,
     "metadata": {},
     "output_type": "execute_result"
    }
   ],
   "source": [
    "netflix.shape"
   ]
  },
  {
   "cell_type": "code",
   "execution_count": 24,
   "metadata": {
    "executionInfo": {
     "elapsed": 8,
     "status": "ok",
     "timestamp": 1743063584164,
     "user": {
      "displayName": "Selena",
      "userId": "06461301400198097430"
     },
     "user_tz": -540
    },
    "id": "4ixcBEpR5eZO"
   },
   "outputs": [
    {
     "name": "stdout",
     "output_type": "stream",
     "text": [
      "(8790, 12)\n"
     ]
    }
   ],
   "source": [
    "# .dropna(axis = 0) : 결측치가 있는 행 전체 제거\n",
    "# 원본 객체를 수정하려면 inplace = True 옵션 추가\n",
    "# 결측치 비율 : date_added(0.11%), rating(0.05%), duration(0.03%)\n",
    "netflix.dropna(axis = 0, inplace=True)\n",
    "print(netflix.shape)"
   ]
  },
  {
   "cell_type": "markdown",
   "metadata": {
    "id": "-jw3_aUE7Cku"
   },
   "source": [
    "#### **처리된 결측치 확인 - info( )**"
   ]
  },
  {
   "cell_type": "code",
   "execution_count": null,
   "metadata": {
    "colab": {
     "base_uri": "https://localhost:8080/"
    },
    "executionInfo": {
     "elapsed": 24,
     "status": "ok",
     "timestamp": 1743063584188,
     "user": {
      "displayName": "Selena",
      "userId": "06461301400198097430"
     },
     "user_tz": -540
    },
    "id": "aw8qOZsj5qET",
    "outputId": "babb3f1b-17c7-4679-ca03-00965b7b791e"
   },
   "outputs": [],
   "source": [
    "# .info() : 열에 대한 요약 정보 확인\n",
    "# 8807 rows(원본 데이터 행 개수) - 17 rows(결측치 행) = 8790 rows(결측치가 제거된 행 개수)\n",
    "netflix.info()"
   ]
  },
  {
   "cell_type": "markdown",
   "metadata": {
    "id": "E1JRQMFH7IC4"
   },
   "source": [
    "#### **처리된 결측치 확인 - .isna( ).sum( )**"
   ]
  },
  {
   "cell_type": "code",
   "execution_count": null,
   "metadata": {
    "colab": {
     "base_uri": "https://localhost:8080/",
     "height": 460
    },
    "executionInfo": {
     "elapsed": 41,
     "status": "ok",
     "timestamp": 1743063584228,
     "user": {
      "displayName": "Selena",
      "userId": "06461301400198097430"
     },
     "user_tz": -540
    },
    "id": "20NssI5O5uGU",
    "outputId": "25998d17-4d4a-44a6-eb44-c8f1333b60a4"
   },
   "outputs": [],
   "source": [
    "# 데이터프레임의 각 컬럼별 결측치 개수 반환\n",
    "# isna() == isnull() : 결측 값은 True 반환하고, 그 외에는 False 반환\n",
    "netflix.isna().sum()"
   ]
  },
  {
   "cell_type": "markdown",
   "metadata": {
    "id": "AGkLst5i5x5t"
   },
   "source": [
    "## **3. 넷플릭스 피처 엔지니어링하기**"
   ]
  },
  {
   "cell_type": "markdown",
   "metadata": {
    "id": "2JpaZ1MvC69Z"
   },
   "source": [
    "#### **[파이썬 기초 문법] 딕셔너리**\n",
    "- 딕셔너리는 중괄호 { }로 선언하며, 'key : value' 형태를 쉼표(,)로 연결하여 생성\n",
    "- 일반적으로 key는 문자열을 사용\n",
    "- { key1 : value1, key2 : value2, ... key_n : value_n }"
   ]
  },
  {
   "cell_type": "code",
   "execution_count": null,
   "metadata": {
    "colab": {
     "base_uri": "https://localhost:8080/"
    },
    "executionInfo": {
     "elapsed": 12,
     "status": "ok",
     "timestamp": 1743063584228,
     "user": {
      "displayName": "Selena",
      "userId": "06461301400198097430"
     },
     "user_tz": -540
    },
    "id": "GsCOR_zvJrL7",
    "outputId": "7381d626-27e8-4e98-fb46-54d4e497c793"
   },
   "outputs": [],
   "source": [
    "# 파이썬 딕셔너리 생성\n",
    "grade_dic = {\n",
    "    \"A\" : 100,\n",
    "    \"B\" : 90,\n",
    "    \"C\" : 80\n",
    "}\n",
    "print(grade_dic)"
   ]
  },
  {
   "cell_type": "markdown",
   "metadata": {
    "id": "1DWi7wCHKpO1"
   },
   "source": [
    "#### **[파이썬 문법] 판다스의 데이터프레임**\n",
    "* 데이터프레임은 행과 열로 만들어지는 2차원 배열의 형태\n",
    "* 파이썬 딕셔너리로 데이터프레임 생성 가능!"
   ]
  },
  {
   "cell_type": "code",
   "execution_count": null,
   "metadata": {
    "colab": {
     "base_uri": "https://localhost:8080/"
    },
    "executionInfo": {
     "elapsed": 10,
     "status": "ok",
     "timestamp": 1743063584229,
     "user": {
      "displayName": "Selena",
      "userId": "06461301400198097430"
     },
     "user_tz": -540
    },
    "id": "KmeOfFh6KtLF",
    "outputId": "68028a22-77cd-4dea-fc04-5a93853cb4a7"
   },
   "outputs": [],
   "source": [
    "# 판다스 데이터프레임 생성\n",
    "person = pd.DataFrame({\n",
    "    \"name\" : [\"Selena\", \"Seungwoo\", \"Louis\"],\n",
    "    \"job\" : [\"Data Scientist\", \"Chef\", \"Home Protector\"],\n",
    "    \"grade\" : [\"A\", \"B\", \"C\"]\n",
    "})\n",
    "print(person)"
   ]
  },
  {
   "cell_type": "markdown",
   "metadata": {
    "id": "5vcVmkTNC9cx"
   },
   "source": [
    "#### **[파이썬 기초 문법] map 함수**\n",
    "* 기존 값에서 새로운 값으로 변환할 때 (예: 등급을 점수로 변환)"
   ]
  },
  {
   "cell_type": "code",
   "execution_count": null,
   "metadata": {
    "colab": {
     "base_uri": "https://localhost:8080/"
    },
    "executionInfo": {
     "elapsed": 3,
     "status": "ok",
     "timestamp": 1743063584229,
     "user": {
      "displayName": "Selena",
      "userId": "06461301400198097430"
     },
     "user_tz": -540
    },
    "id": "G7EDE10cF8mP",
    "outputId": "8af4fcf8-26f5-4b37-a42c-9be41fb5e467"
   },
   "outputs": [],
   "source": [
    "# 목표: map 함수 이용하여 grade 열의 값을 점수로 변환하기\n",
    "person['grade'] = person['grade'].map(grade_dic)\n",
    "print(person)"
   ]
  },
  {
   "cell_type": "markdown",
   "metadata": {
    "id": "FMRJW-117Qzq"
   },
   "source": [
    "### **넷플릭스 시청 등급 변수 생성하기**\n",
    "* Feature Engineering - 기존에 존재하는 변수를 활용하여 새로운 정보를 추가로 생성하는 과정\n",
    "* 시청 등급 설명표를 참고하여 Netflix의 rating 변수를 이용한 age_group(시청 등급) 정보를 변수로 생성\n",
    "\n",
    "- `.map( )` : 사전에 정의한 내용을 변수에 적용\n",
    "\n",
    "- [넷플릭스 시청 등급 설명표](https://www.primevideo.com/help/ref=atv_hp_nd_cnt?nodeId=GFGQU3WYEG6FSJFJ)"
   ]
  },
  {
   "cell_type": "code",
   "execution_count": null,
   "metadata": {
    "colab": {
     "base_uri": "https://localhost:8080/",
     "height": 458
    },
    "executionInfo": {
     "elapsed": 12,
     "status": "ok",
     "timestamp": 1743063584241,
     "user": {
      "displayName": "Selena",
      "userId": "06461301400198097430"
     },
     "user_tz": -540
    },
    "id": "ye8ijPow7tKN",
    "outputId": "d965470f-f294-4e04-9cbb-841852f7ec04"
   },
   "outputs": [],
   "source": [
    "netflix['rating']"
   ]
  },
  {
   "cell_type": "code",
   "execution_count": null,
   "metadata": {
    "colab": {
     "base_uri": "https://localhost:8080/",
     "height": 268
    },
    "executionInfo": {
     "elapsed": 50,
     "status": "ok",
     "timestamp": 1743063584291,
     "user": {
      "displayName": "Selena",
      "userId": "06461301400198097430"
     },
     "user_tz": -540
    },
    "id": "yP5Dqi4953x0",
    "outputId": "a8c73773-d46d-4a1b-c6f2-91798a4cf5cd"
   },
   "outputs": [],
   "source": [
    "# 시청 등급 기준표를 참고하여 Netflix의 rating 변수를 이용한 age_group_dic 변수 생성\n",
    "# rating 컬럼의 값을 age_group이라는 새로운 컬럼으로 복사\n",
    "netflix['age_group'] = netflix['rating']\n",
    "\n",
    "# 시청 등급 코드를 더 이해하기 쉬운 표현으로 매핑할 딕셔너리 정의(key, value 선언)\n",
    "age_group_dic = {\n",
    "    'G': 'All',\n",
    "    'TV-G': 'All',\n",
    "    'TV-Y': 'All',\n",
    "    'PG': 'Older Kids',\n",
    "    'TV-Y7': 'Older Kids',\n",
    "    'TV-Y7-FV': 'Older Kids',\n",
    "    'TV-PG': 'Older Kids',\n",
    "    'PG-13': 'Teens',\n",
    "    'TV-14': 'Young Adults',\n",
    "    'NC-17': 'Adults',\n",
    "    'NR': 'Adults',\n",
    "    'UR': 'Adults',\n",
    "    'R': 'Adults',\n",
    "    'TV-MA': 'Adults'\n",
    "    }\n",
    "\n",
    "# map 함수를 이용하여 rating 컬럼의 값을 딕셔너리를 기반으로 변환하여 age_group 컬럼에 저장\n",
    "# .map( ) : 사전에 정의한 내용을 변수에 적용\n",
    "netflix['age_group'] = netflix['age_group'].map(age_group_dic)\n",
    "netflix.head(2)"
   ]
  },
  {
   "cell_type": "code",
   "execution_count": null,
   "metadata": {},
   "outputs": [],
   "source": [
    "netflix['age_group'].value_counts()"
   ]
  },
  {
   "cell_type": "markdown",
   "metadata": {
    "id": "HQMgVb5D7x1E"
   },
   "source": [
    "## **4. 넷플릭스 시각화하기**\n",
    "### **넷플릭스 색상 시각화하기**\n",
    "* sns.palplot([`색상RBG`]) : 색상 확인하는 함수\n",
    "* plt.title() : 그래프의 타이틀 설정\n",
    "* plt.show() : 화면에 표시하는 기능을 하며, Jupyter를 사용할 때는 자동으로 표시되기 때문에 호출할 필요가 없음(하지만, 쓰는 걸 권장)"
   ]
  },
  {
   "cell_type": "code",
   "execution_count": null,
   "metadata": {
    "colab": {
     "base_uri": "https://localhost:8080/",
     "height": 157
    },
    "executionInfo": {
     "elapsed": 56,
     "status": "ok",
     "timestamp": 1743063584346,
     "user": {
      "displayName": "Selena",
      "userId": "06461301400198097430"
     },
     "user_tz": -540
    },
    "id": "xLV9X3pk8KA0",
    "outputId": "423dfbc2-85f0-4da0-8218-75c32a34587f"
   },
   "outputs": [],
   "source": [
    "# 넷플릭스 브랜드 상징 색깔 시각화\n",
    "sns.palplot(['#221f1f', '#b20710', '#e50914', '#f5f5f1'])\n",
    "\n",
    "# 제목 정하기\n",
    "plt.title('Netflix brand palette', loc='left', fontfamily='serif', fontsize=15, y=1.2)\n",
    "plt.show()"
   ]
  },
  {
   "cell_type": "markdown",
   "metadata": {
    "id": "SYF5n4oD8Pjn"
   },
   "source": [
    "### **넷플릭스 오징어 게임 검색하기**\n",
    "* Squid Game(오징어 게임) 검색 조건\n",
    "* str.contains() : 지정한 문자열이 포함되어 있으면 True 반환, 그 외에는 False 반환\n",
    "    * na = False : 값이 NA일 경우, False로 처리\n",
    "    * case = False : 대소문자를 구분하지 않고 검색\n"
   ]
  },
  {
   "cell_type": "code",
   "execution_count": null,
   "metadata": {},
   "outputs": [],
   "source": [
    "print(type(netflix['title']))\n",
    "print(type(netflix['title']).str)"
   ]
  },
  {
   "cell_type": "code",
   "execution_count": null,
   "metadata": {
    "colab": {
     "base_uri": "https://localhost:8080/",
     "height": 458
    },
    "executionInfo": {
     "elapsed": 28,
     "status": "ok",
     "timestamp": 1743063584374,
     "user": {
      "displayName": "Selena",
      "userId": "06461301400198097430"
     },
     "user_tz": -540
    },
    "id": "Hr0anSn88RZz",
    "outputId": "532a0fc9-fc9f-43a6-c92f-a23d4d1ccda5"
   },
   "outputs": [],
   "source": [
    "\n",
    "netflix['title'].str.contains('squid game', na=False, case=False)"
   ]
  },
  {
   "cell_type": "code",
   "execution_count": null,
   "metadata": {
    "colab": {
     "base_uri": "https://localhost:8080/",
     "height": 150
    },
    "executionInfo": {
     "elapsed": 24,
     "status": "ok",
     "timestamp": 1743063584429,
     "user": {
      "displayName": "Selena",
      "userId": "06461301400198097430"
     },
     "user_tz": -540
    },
    "id": "DOU4L3am8lIB",
    "outputId": "39a3ef10-e982-450d-be1c-b5a22636e724"
   },
   "outputs": [],
   "source": [
    "# 오징어 게임을 검색한 조건을 넷플릭스 데이터에 넣어서 True인 값만 출력\n",
    "netflix[netflix['title'].str.contains('Squid Game', na=False, case=False)]"
   ]
  },
  {
   "cell_type": "code",
   "execution_count": null,
   "metadata": {},
   "outputs": [],
   "source": [
    "netflix.loc[netflix['title'].str.contains('Squid Game', na=False, case=False)]"
   ]
  },
  {
   "cell_type": "markdown",
   "metadata": {
    "id": "MWm-_CEk8jyu"
   },
   "source": [
    "### **넷플릭스 파이 차트 그리기**\n",
    "* 넷플릭스 파이 차트 그리기\n",
    "    * plt.pie() - Pie Plot 시각화\n",
    "        * labels : 부채꼴 조각 이름\n",
    "        * autopct : 부채꼴 안에 표기될 숫자 형식 지정\n",
    "            * 문자열 % 포맷팅으로 %0.f 형태는 소수점 없이 정수처럼 인식\n",
    "            * 진짜 %를 표시하기 위해 %% 로 작성\n",
    "        * startangle : 부채꼴이 그려지는 시작 각도 설정, 90이면 12시 방향\n",
    "        * explode : 부채꼴이 Pie Plt의 중심에서 벗어나는 정도 설정\n",
    "        * shadow : 그림자 효과 표시\n",
    "    * plt.subtitle() : 전체 Plot의 제목\n",
    "    * plt.title() : 서브 Plot의 제목\n",
    "    *             "
   ]
  },
  {
   "cell_type": "code",
   "execution_count": null,
   "metadata": {
    "colab": {
     "base_uri": "https://localhost:8080/"
    },
    "executionInfo": {
     "elapsed": 14,
     "status": "ok",
     "timestamp": 1743063584430,
     "user": {
      "displayName": "Selena",
      "userId": "06461301400198097430"
     },
     "user_tz": -540
    },
    "id": "ECIIKIOF8rTO",
    "outputId": "679c7c0c-404e-4046-dfca-1c51f12a0eb9"
   },
   "outputs": [],
   "source": [
    "# Movies & TV shows의 각각 value_counts 출력\n",
    "# .value_counts() : 값의 개수 출력\n",
    "type_counts = netflix['type'].value_counts()\n",
    "print(type_counts)\n",
    "print(type_counts.index)"
   ]
  },
  {
   "cell_type": "code",
   "execution_count": null,
   "metadata": {
    "colab": {
     "base_uri": "https://localhost:8080/",
     "height": 472
    },
    "executionInfo": {
     "elapsed": 134,
     "status": "ok",
     "timestamp": 1743063584592,
     "user": {
      "displayName": "Selena",
      "userId": "06461301400198097430"
     },
     "user_tz": -540
    },
    "id": "FRpSyogZ8yyU",
    "outputId": "a3b83958-1218-4829-d768-f78f6d1eb901"
   },
   "outputs": [],
   "source": [
    "# 5 x 5 크기의 플롯 만들기\n",
    "# Figure 크기 설정 및 배경색 설정\n",
    "fig = plt.figure(figsize=(5, 5))\n",
    "\n",
    "# pie plot 통해 Movies & TV shows 각각 비율 시각화\n",
    "# plt.pie의 매개변수 설명\n",
    "# labels : 부채꼴 조각 이름\n",
    "# autopct : 부채꼴 안에 표시될 숫자 형식 지정\n",
    "#           문자열에서 % 포맷팅으로 %0.f 형태로 사용하면 소수점 없이 정수처럼 인식\n",
    "#           진짜 %를 표시하기 위해 %%로 작성\n",
    "# startangle : 부채꼴이 그려지는 시작 각도 설정, 90이면 12시 방향\n",
    "# explode : 부채꼴이 파이 플롯의 중심에서 벗어나는 정도 설정\n",
    "# shadow : 그림자 효과 표시\n",
    "plt.pie(type_counts, labels=type_counts.index, autopct='%0.f%%', startangle=120,\n",
    "        explode=[0.08, 0.08], shadow=True, colors=['#b20710', '#221f1f'], textprops={'color': 'magenta', 'fontsize': 12})\n",
    "\n",
    "plt.suptitle('Movie & TV Show distribution', fontfamily='serif', fontsize=15, fontweight='bold')\n",
    "plt.title('We see more movies than TV shows on Netflix.', fontfamily='serif', fontsize=12)\n",
    "plt.show()"
   ]
  },
  {
   "cell_type": "markdown",
   "metadata": {
    "id": "8MUYE-iYCMyb"
   },
   "source": [
    "### **넷플릭스 워드 클라우드**\n",
    "* 워드 클라우드란 텍스트 데이터의 빈도나 중요도를 이용하여 데이터를 시각화하는 방법\n",
    "    * 중요한 것을 진한 색이나 크기를 크게 하여 만드는 것이 일반적\n",
    "\n",
    "* from wordcloud import WordCloud \n",
    "    * 워드 클라우드 생성 역할을 하는 클래스\n",
    "* from PIL import Image  \n",
    "    * 워드 클라우드를 원하는 형태로 그리기 위해 Image를 불러오는 패키지\n",
    "* WordCloud().generate(text) : 선언해준 text에서 wordcloud를 생성\n",
    "    * text 변환 - wordcloud에서 작동할 수 있도록 DataFrame을 list로 1차 변환시키고, str(문자열)로 2차 변환\n",
    "    * mask : 단어를 그릴 위치, 흰색(#FFFF) 항목은 Masking 된 것으로 간주함\n",
    "* plt.matplotlib.colors.LinearSegmentedColormap.from_list()\n",
    "    * 컬러맵 생성    \n",
    "* plt.imshow()\n",
    "    * array에 색을 채워서 Image로 표시함\n",
    "* plt.axis('off')\n",
    "    * 축(axis) 삭제    "
   ]
  },
  {
   "cell_type": "markdown",
   "metadata": {},
   "source": [
    "#### wordcloud 설치"
   ]
  },
  {
   "cell_type": "code",
   "execution_count": null,
   "metadata": {},
   "outputs": [],
   "source": [
    "%pip install -q wordcloud"
   ]
  },
  {
   "cell_type": "code",
   "execution_count": null,
   "metadata": {},
   "outputs": [],
   "source": [
    "# 넷플릭스 데이터의 description 열 이용한 워드 클라우드 생성\n",
    "\n",
    "# from wordcloud import WordCloud : 워드 클라우드 생성에 필요한 모듈\n",
    "# from PIL import Image : 워드 클라우드를 원하는 형태로 그리기 위해 그림을 불러오는 패키지\n",
    "from wordcloud import WordCloud\n",
    "from PIL import Image\n",
    "\n",
    "plt.figure(figsize=(15, 5))\n",
    "\n",
    "# wordcolud에서 작동할 수 있도록 데이터프레임을 list로 1차 변환시키고\n",
    "# str(문자열)로 2차 변환\n",
    "text = str(list(netflix['description']))\n",
    "text"
   ]
  },
  {
   "cell_type": "code",
   "execution_count": null,
   "metadata": {},
   "outputs": [],
   "source": [
    "\n",
    "\n",
    "# mask : 단어를 그릴 위치 설정, 흰색(#FFFFFF) 항목은 마스킹된 것으로 간주\n",
    "# 로고 이미지 열고 넘파이 배열로 변환\n",
    "mask = np.array(Image.open('data/netflix_logo.jpg'))\n",
    "mask"
   ]
  },
  {
   "cell_type": "code",
   "execution_count": null,
   "metadata": {},
   "outputs": [],
   "source": [
    "\n",
    "# 워드 클라우드 색상맵 만들기\n",
    "cmap = plt.matplotlib.colors.LinearSegmentedColormap.from_list('', ['#221f1f','#b20710'])\n",
    "cmap"
   ]
  },
  {
   "cell_type": "code",
   "execution_count": null,
   "metadata": {},
   "outputs": [],
   "source": [
    "\n",
    "# 워드 클라우드 생성\n",
    "# WordCloud( ).generate(text) : 선언해준 text에서 wordcloud를 생성\n",
    "wordcloud = WordCloud(background_color = 'white', width = 1400, height = 1400,\n",
    "                      max_words = 170, mask = mask, colormap=cmap).generate(text)\n",
    "\n",
    "plt.suptitle('Keywords in the description of Movies and TV shows',\n",
    "             fontweight='bold', fontfamily='serif', fontsize=15)\n",
    "\n",
    "# 워드 클라우드 표시\n",
    "# plt.imshow( ) : array에 색을 채워서 이미지로 표시\n",
    "plt.imshow(wordcloud)\n",
    "\n",
    "# 축 감추기\n",
    "plt.axis('off')\n",
    "plt.show()"
   ]
  },
  {
   "cell_type": "code",
   "execution_count": null,
   "metadata": {},
   "outputs": [],
   "source": [
    "from wordcloud import WordCloud\n",
    "from PIL import Image\n",
    "\n",
    "plt.figure(figsize=(15, 5))\n",
    "\n",
    "# wordcolud에서 작동할 수 있도록 데이터프레임을 list로 1차 변환시키고\n",
    "# str(문자열)로 2차 변환\n",
    "text = str(list(netflix['description']))\n",
    "mask = np.array(Image.open('data/netflix_logo.jpg'))\n",
    "cmap = plt.matplotlib.colors.LinearSegmentedColormap.from_list('', ['#221f1f','#b20710'])\n",
    "\n",
    "wordcloud = WordCloud(background_color = 'white', width = 1400, height = 1400,\n",
    "                      max_words = 170, mask = mask, colormap=cmap).generate(text)\n",
    "\n",
    "plt.suptitle('Keywords in the description of Movies and TV shows',\n",
    "             fontweight='bold', fontfamily='serif', fontsize=15)\n",
    "\n",
    "# 워드 클라우드 표시\n",
    "# plt.imshow( ) : array에 색을 채워서 이미지로 표시\n",
    "plt.imshow(wordcloud)\n",
    "\n",
    "# 축 감추기\n",
    "plt.axis('off')\n",
    "plt.show()"
   ]
  },
  {
   "cell_type": "markdown",
   "metadata": {},
   "source": [
    "### 넷플릭스 장르 분포 Bar Plot\n",
    "* 장르 분리 및 개별 장르 카운트\n"
   ]
  },
  {
   "cell_type": "code",
   "execution_count": null,
   "metadata": {},
   "outputs": [],
   "source": [
    "netflix['listed_in'].value_counts()"
   ]
  },
  {
   "cell_type": "code",
   "execution_count": null,
   "metadata": {},
   "outputs": [],
   "source": [
    "# 장르 분리 및 개별 장르 카운트\n",
    "genre_series = netflix['listed_in'].str.split(', ').explode()\n",
    "genre_series.value_counts()"
   ]
  },
  {
   "cell_type": "code",
   "execution_count": null,
   "metadata": {},
   "outputs": [],
   "source": [
    "# Series 객체에서 reset_index() 함수를 호출하면 index의 값이 컬럼이 되므로 DataFrame 객체로 변경이 된다.\n",
    "genre_counts = genre_series.value_counts().reset_index()\n",
    "genre_counts.head(3)"
   ]
  },
  {
   "cell_type": "code",
   "execution_count": null,
   "metadata": {},
   "outputs": [],
   "source": [
    "# listed_in 컬럼명이 genre 로 변경됨\n",
    "genre_counts.columns = ['genre', 'count']\n",
    "genre_counts.head(3)"
   ]
  },
  {
   "cell_type": "code",
   "execution_count": null,
   "metadata": {},
   "outputs": [],
   "source": [
    "font_path = 'C:\\\\windows\\\\Fonts\\\\malgun.ttf'\n",
    "#font의 파일정보로 font name 을 알아내기\n",
    "font_prop = fm.FontProperties(fname=font_path).get_name()\n",
    "print(font_prop)\n",
    "matplotlib.rc('font', family=font_prop)"
   ]
  },
  {
   "cell_type": "code",
   "execution_count": null,
   "metadata": {},
   "outputs": [],
   "source": [
    "\n",
    "# 시각화\n",
    "plt.figure(figsize=(12, 6))\n",
    "sns.barplot(\n",
    "    data=genre_counts,\n",
    "    x='genre', y='count',\n",
    "    hue='genre', palette='viridis',\n",
    "    legend=False\n",
    ")\n",
    "\n",
    "plt.xticks(rotation=45, ha='right')\n",
    "plt.title('Netflix 콘텐츠 장르 분포', fontsize=16)\n",
    "plt.xlabel('장르')\n",
    "plt.ylabel('작품 수')\n",
    "plt.tight_layout()\n",
    "plt.show()"
   ]
  },
  {
   "cell_type": "markdown",
   "metadata": {},
   "source": [
    "### 인기 배우 TOP N 추출\n"
   ]
  },
  {
   "cell_type": "code",
   "execution_count": null,
   "metadata": {},
   "outputs": [],
   "source": [
    "# 배우 분리 (explode)\n",
    "cast_series = netflix['cast'].str.split(', ').explode()\n",
    "cast_series"
   ]
  },
  {
   "cell_type": "code",
   "execution_count": null,
   "metadata": {},
   "outputs": [],
   "source": [
    "# 'No Data'는 따로 카운트해서 확인만 하고 싶다면\n",
    "no_data_count = (cast_series == 'No Data').sum()\n",
    "print(f\"'No Data' 카운트: {no_data_count}\")"
   ]
  },
  {
   "cell_type": "code",
   "execution_count": null,
   "metadata": {},
   "outputs": [],
   "source": [
    "# 'No Data' 제거\n",
    "cast_series_data = cast_series[cast_series != 'No Data']\n",
    "cast_series_data.value_counts().reset_index().head(10)"
   ]
  },
  {
   "cell_type": "code",
   "execution_count": null,
   "metadata": {},
   "outputs": [],
   "source": [
    "\n",
    "# 상위 10명 배우 추출\n",
    "top_actors = cast_series_data.value_counts().head(10).reset_index()\n",
    "top_actors.columns = ['actor', 'count']\n",
    "top_actors"
   ]
  },
  {
   "cell_type": "code",
   "execution_count": null,
   "metadata": {},
   "outputs": [],
   "source": [
    "\n",
    "# 시각화\n",
    "plt.figure(figsize=(10, 5))\n",
    "#sns.barplot(x=top_actors.index, y=top_actors.values, palette='mako')\n",
    "sns.barplot(\n",
    "    data=top_actors,\n",
    "    x='actor', y='count',\n",
    "    hue='actor',      # <-- hue 설정\n",
    "    palette='mako',\n",
    "    legend=False      # <-- 범례 숨기기\n",
    ")\n",
    "\n",
    "plt.xticks(rotation=45, ha='right')\n",
    "plt.title('넷플릭스 출연작이 가장 많은 배우 TOP 10')\n",
    "plt.xlabel('배우')\n",
    "plt.ylabel('출연 작품 수')\n",
    "plt.tight_layout()\n",
    "plt.show()"
   ]
  },
  {
   "cell_type": "markdown",
   "metadata": {},
   "source": [
    "#### 특정 배우의 출연작 필터링 함수"
   ]
  },
  {
   "cell_type": "code",
   "execution_count": null,
   "metadata": {},
   "outputs": [],
   "source": [
    "def get_actor_titles(actor_name):\n",
    "    \"\"\"입력한 배우가 출연한 넷플릭스 콘텐츠 리스트 반환\"\"\"\n",
    "    return netflix[netflix['cast'].str.contains(actor_name, na=False)][['title', 'type', 'release_year', 'listed_in']]\n",
    "\n",
    "get_actor_titles('Shah Rukh Khan')"
   ]
  },
  {
   "cell_type": "markdown",
   "metadata": {
    "id": "D7HhRWrrouer"
   },
   "source": [
    "> [분석 연습을 위한 추천 데이터셋]\n",
    "> * Q1. 캐글에서 넷플릭스 데이터셋 이외에도 데이터 분석 연습을 하기 좋은 다른 데이터셋을 추천해 주세요."
   ]
  },
  {
   "cell_type": "markdown",
   "metadata": {
    "id": "fkf-N0q5ozKz"
   },
   "source": [
    "> [넷플릭스 데이터셋 피처 엔지니어링]\n",
    "> * Q2. 넷플릭스 데이터셋에서 어떤 추가적인 변수를 피처 엔지니어링을 통해 생성할 수 있을까요?\n"
   ]
  },
  {
   "cell_type": "markdown",
   "metadata": {
    "id": "TQlQ-Q3UpAFE"
   },
   "source": [
    "> [추천 시스템을 위한 변수]\n",
    "> * Q3. 넷플릭스 데이터셋을 기반으로 추천 시스템을 구축하기 위해 어떤 변수를 사용할 수 있을까요?"
   ]
  },
  {
   "cell_type": "markdown",
   "metadata": {
    "id": "qdTaTGNhsFit"
   },
   "source": [
    "> [수평 막대 그래프 코드]\n",
    "> * Q4. 넷플릭스 데이터셋을 이용해 수평 막대 그래프를 그리는 코드를 작성해주세요."
   ]
  },
  {
   "cell_type": "markdown",
   "metadata": {
    "id": "-R3FevYEp6J8"
   },
   "source": [
    "> [사용자 집단 분석을 위한 변수]\n",
    "> * Q5. 넷플릭스에서 특정 장르나 주제의 콘텐츠가 특정 사용자 집단에게 더 인기가 있는지 분석하려면 어떤 변수를 활용해야 할까요?"
   ]
  },
  {
   "cell_type": "markdown",
   "metadata": {
    "id": "mp8JdV3qq3jF"
   },
   "source": [
    "[넷플릭스 데이터셋의 변수 설명]\n",
    "\n",
    "* show_id: 각 쇼의 고유 ID (쇼를 식별할 수 있는 고유한 번호)\n",
    "\n",
    "* type: 쇼의 카테고리 (영화 또는 TV 쇼)\n",
    "\n",
    "* title: 쇼의 이름\n",
    "\n",
    "* director: 쇼의 감독 이름\n",
    "\n",
    "* cast: 배우의 이름 및 쇼의 다른 출연진\n",
    "\n",
    "* country: Netflix에서 프로그램을 시청할 수 있는 국가의 이름\n",
    "\n",
    "* date_added: Netflix에 프로그램이 추가된 날짜\n",
    "\n",
    "* release_year: 쇼의 출시 연도\n",
    "\n",
    "* rating: 넷플릭스 등급 (관람 등급, 예: G, PG, TV-MA 등)\n",
    "\n",
    "* duration: 쇼의 지속 시간 (영화는 시간, TV 쇼는 시즌 및 에피소드 수로 표현)\n",
    "\n",
    "* listed_in: 쇼의 장르 (예: 액션, 드라마, 코미디 등)\n",
    "\n",
    "* description: 쇼를 설명하는 일부 텍스트 (쇼의 줄거리 또는 개요)"
   ]
  }
 ],
 "metadata": {
  "colab": {
   "provenance": []
  },
  "kernelspec": {
   "display_name": "base",
   "language": "python",
   "name": "python3"
  },
  "language_info": {
   "codemirror_mode": {
    "name": "ipython",
    "version": 3
   },
   "file_extension": ".py",
   "mimetype": "text/x-python",
   "name": "python",
   "nbconvert_exporter": "python",
   "pygments_lexer": "ipython3",
   "version": "3.12.7"
  }
 },
 "nbformat": 4,
 "nbformat_minor": 0
}
