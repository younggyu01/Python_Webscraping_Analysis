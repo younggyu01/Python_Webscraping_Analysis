{
 "cells": [
  {
   "cell_type": "markdown",
   "id": "eb0bfa44",
   "metadata": {},
   "source": [
    "## 1. 뉴스제목 가져오기\n",
    "* user-agent 요청헤더를 반드시 설정해야 한다."
   ]
  },
  {
   "cell_type": "code",
   "execution_count": 1,
   "id": "f0d27781",
   "metadata": {},
   "outputs": [
    {
     "name": "stdout",
     "output_type": "stream",
     "text": [
      "Name: requests\n",
      "Version: 2.32.3\n",
      "Summary: Python HTTP for Humans.\n",
      "Home-page: https://requests.readthedocs.io\n",
      "Author: Kenneth Reitz\n",
      "Author-email: me@kennethreitz.org\n",
      "License: Apache-2.0\n",
      "Location: C:\\Users\\82103\\anaconda3\\Lib\\site-packages\n",
      "Requires: certifi, charset-normalizer, idna, urllib3\n",
      "Required-by: anaconda-catalogs, anaconda-client, anaconda-cloud-auth, anaconda-project, conda, conda-build, conda-repo-cli, conda_package_streaming, cookiecutter, datashader, jupyterlab_server, panel, requests-file, requests-toolbelt, Sphinx, streamlit, tensorflow, tldextract\n"
     ]
    }
   ],
   "source": [
    "# requests 라이브러리 설치여부 확인\n",
    "!pip show requests"
   ]
  },
  {
   "cell_type": "code",
   "execution_count": 2,
   "id": "f7798ea8",
   "metadata": {},
   "outputs": [
    {
     "name": "stdout",
     "output_type": "stream",
     "text": [
      "Name: beautifulsoup4\n",
      "Version: 4.12.3\n",
      "Summary: Screen-scraping library\n",
      "Home-page: https://www.crummy.com/software/BeautifulSoup/bs4/\n",
      "Author: \n",
      "Author-email: Leonard Richardson <leonardr@segfault.org>\n",
      "License: MIT License\n",
      "Location: C:\\Users\\82103\\anaconda3\\Lib\\site-packages\n",
      "Requires: soupsieve\n",
      "Required-by: conda-build, nbconvert\n"
     ]
    }
   ],
   "source": [
    "# beautifulsoup4 라이브러리 설치여부 확인\n",
    "!pip show beautifulsoup4"
   ]
  },
  {
   "cell_type": "code",
   "execution_count": 4,
   "id": "bf80a429",
   "metadata": {},
   "outputs": [],
   "source": [
    "# reqeusts, bs4 import\n",
    "import requests\n",
    "# BeautifulSoup import\n",
    "import bs4\n",
    "# BeautifulSoup 클래스 import\n",
    "from bs4 import BeautifulSoup"
   ]
  },
  {
   "cell_type": "code",
   "execution_count": 5,
   "id": "9788d6ac",
   "metadata": {},
   "outputs": [
    {
     "name": "stdout",
     "output_type": "stream",
     "text": [
      "requests 버전 = 2.32.3\n",
      "bs4 버전 = 4.12.3\n"
     ]
    }
   ],
   "source": [
    "# requests, bs4 버전 확인하기\n",
    "print(f'requests 버전 = {requests.__version__}')\n",
    "print(f'bs4 버전 = {bs4.__version__}')"
   ]
  },
  {
   "cell_type": "markdown",
   "id": "ccb91def-cde3-4aeb-b0e5-2e7233500333",
   "metadata": {},
   "source": [
    "### 1. 뉴스 제목 추출하기"
   ]
  },
  {
   "cell_type": "code",
   "execution_count": 9,
   "id": "94c12fd6",
   "metadata": {},
   "outputs": [
    {
     "name": "stdout",
     "output_type": "stream",
     "text": [
      "https://news.naver.com/section/105\n"
     ]
    }
   ],
   "source": [
    "# IT/과학 뉴스 \n",
    "req_param = {\n",
    "    'sid': 105\n",
    "}\n",
    "\n",
    "sid = 104\n",
    "# url = f'https://news.naver.com/section/{sid}'\n",
    "url = 'https://news.naver.com/section/{sid}'.format(**req_param)\n",
    "print(url)\n"
   ]
  },
  {
   "cell_type": "code",
   "execution_count": 31,
   "id": "aabdd38c",
   "metadata": {},
   "outputs": [
    {
     "name": "stdout",
     "output_type": "stream",
     "text": [
      "https://news.naver.com/section/105\n",
      "200 True\n",
      "<class 'requests.models.Response'>\n",
      "<Response [200]>\n",
      "88\n",
      "<class 'bs4.element.ResultSet'>\n",
      "1 LGU+, 밸류업 약속 지킨다…4년 만에 자사주 추가 매입(종합)\n",
      "3 갤럭시Z 폴드7·Z 플립7, 1주일만에 104만대 판매…신기록\n",
      "5 디즈니 ‘파인’ 흥행에 웃는 카카오…이어지는 웹툰 역주행\n",
      "7 네이버클라우드, 추론모델 상업용 무료 공개…원천기술로 생태계 확장\n",
      "9 털린 줄도 몰랐던 개인정보, 메일·SNS로 실시간 알림 받는다\n",
      "11 BC카드, AI 검색 스타트업 ‘라이너’와 전략적 협약 체결\n",
      "13 오픈AI·MIT도 관심…K-휴머노이드가 온다\n",
      "15 지아이이노베이션, 에임드바이오와 손잡고 4兆 규모 뇌종양 치료제 공동개발\n",
      "17 삼성전자 “HBM 16단부터 하이브리드 본딩 점진적 도입”\n",
      "19 50만번 접었다 펴도 멀쩡…2.5배 강해진 삼성디스플레이 폴더블 OLED\n",
      "21 접는 폰 사상 최다 사전 판매, 갤럭시Z...'가로'가 '세로'를 처음 이겼다\n",
      "23 1.46조원 정부 'GPU 확보 사업' 최종 발표 임박…공공 비중이 승부 가른다\n",
      "25 아이폰 교통카드 장착, 韓서 갤럭시 아성 흔드나\n",
      "27 삼성전자, 'HBM4E 16단'서 하이브리드 본딩 도입 검토…샘플 평가 中\n",
      "29 [단독]애플페이 교통카드 출시에…삼페 교통카드도 수수료 '0%'\n",
      "31 \"수정하지 말라 11번 말했는데\"…데이터베이스 지운 바이브 코딩\n",
      "33 \"日 귀화한 '뉴토끼' 잡아라\"…만화가들 대규모 서명운동, 무슨 일?\n",
      "35 \"하루 25억 건\"…오픈AI, '챗GPT'로 구글 검색 턱밑까지 추격\n",
      "37 [써보고서] 애플 이용자도 이제는 지갑 안갖고 다녀도 됩니다\n",
      "39 알츠하이머병 고칠 약, 이미 있었다\n",
      "41 [1분건강] 자궁 출혈 지속된다면 ‘자궁내막암’ 의심\n",
      "43 [이슈플러스] 단통법 폐지 첫날, '대란'은 없었다\n",
      "45 11년 만에 단통법 폐지…“같은 단말기도 가격 다를 수 있어 따져봐야”\n",
      "47 최태원 차녀 최민정, 군대서 비극 겪더니…“극단선택 동료들 보고 창업”\n",
      "49 출시도 전에...갤럭시Z7 역대 최대 104만대 팔려\n",
      "51 '단통법 폐지' 첫 날…통신사는 '눈치싸움', 유통점은 '보조금 전쟁' 돌입\n",
      "53 \"갤Z폴드7 싸게 사는 법?\"...단통법 끝, '보조금 전쟁' 얼마까지 받나\n",
      "55 파라마운트, '오라클 클라우드'로 IT 대수술…1억 달러 계약 임박\n",
      "57 전기차 보조금 재지원 나서는 독일⋅영국…K-배터리 영향은? [소부장박대리]\n",
      "59 퓨리오사AI AI 추론 가속기 '레니게이드', LG '엑사원'에 도입\n",
      "61 지아이이노베이션, 에임드바이오와 손잡고 4兆 규모 뇌종양 치료제 공동개발\n",
      "63 대기업도 개인정보 유출 '참사'..실시간 유출 알림으로 보안 의식 업\n",
      "65 [이슈플러스] 통신시장 경쟁 물꼬 텄다…첫날 분위기는 '폭풍전야'\n",
      "67 단통법 오늘 폐지…이통사 보조금 전쟁 시작되나\n",
      "69 [현장] LG \"국가대표 AI, 우리 생태계로…글로벌 G3 도약할 것\"\n",
      "71 [현장] LG, '엑사원 생태계' 시대 연다…\"자체 AI 모델로 기술 주권 실현\"\n",
      "73 ‘극한폭우 한 달 빨라’ 7월 폭우 빈도 최대 3.7배 증가\n",
      "75 헥토파이낸셜, 스테이블코인 유통 본격화\n",
      "77 연중 가장 덥다는 '대서'…잠들기 힘든 열대야, 이것만은 피해야\n",
      "79 \"모기 물린 자리에 고름까지\"…여름철 연조직염 주의보\n",
      "81 응급실 8~9월에 가장 붐볐다…일사병 등 온열질환 때문\n",
      "83 [이구순의 느린걸음] ‘국가대표 AI’, 우물 안 AI 되지 않기를 바란다\n",
      "85 [굿바이, 단통법]② 단말 구매시 '호갱'되지 않는 법은 [팩트체크]\n",
      "87 [현장] 총기 풀린 대한민국?…'트리거' 제작진 \"현 세태에 상상력 더했다\"\n"
     ]
    }
   ],
   "source": [
    "# IT/과학 뉴스 \n",
    "req_param = {\n",
    "    'sid': 105\n",
    "}\n",
    "url = 'https://news.naver.com/section/{sid}'.format(**req_param)\n",
    "print(url)\n",
    "\n",
    "# 요청 헤더 설정 : 브라우저 정보\n",
    "req_header = {\n",
    "    \"user-agent\": \"Mozilla/5.0 (Windows NT 10.0; Win64; x64) AppleWebKit/537.36 (KHTML, like Gecko) Chrome/104.0.0.0 Safari/537.36\"\n",
    "}\n",
    "\n",
    "# requests 의 get() 함수 호출하기 \n",
    "res = requests.get(url, headers=req_header)\n",
    "print(res.status_code, res.ok)\n",
    "print(type(res))\n",
    "print(res)\n",
    "\n",
    "# 응답(response)이 OK 이면 응답(response)에서 text 추출\n",
    "if res.ok:\n",
    "    html = res.text\n",
    "    # BeautifulSoup 객체 생성 \n",
    "    soup = BeautifulSoup(html, \"html.parser\")\n",
    "    # print(soup) \n",
    "    # CSS 선택자\n",
    "    # print(soup.select(\"div.sa_text a[href*='mnews/article']\"))\n",
    "    '''\n",
    "        <div class='sa_text'>\n",
    "            <a href=\"https://n.news.naver.com/mnews/article/366/0001094461\">\n",
    "    '''\n",
    "    a_tags = soup.select(\"div.sa_text a[href*='mnews/article']\")\n",
    "    print(len(a_tags))\n",
    "    print(type(a_tags)) # [Tag,Tag,Tag]\n",
    "\n",
    "    for idx,a_tag in enumerate(a_tags,1):\n",
    "        if a_tag.text:\n",
    "            title = a_tag.text.strip()\n",
    "            print(f'{idx} {title}')\n",
    "\n",
    "# <a> 태그 리스트 순회하기    \n",
    "\n",
    "# 응답(response)이 Error 이면 status code 출력    \n",
    "\n"
   ]
  },
  {
   "cell_type": "markdown",
   "id": "45640860-a449-4285-90d7-5f300292b461",
   "metadata": {},
   "source": [
    "### 1.1 뉴스제목 추출하는 함수 선언하기"
   ]
  },
  {
   "cell_type": "code",
   "execution_count": null,
   "id": "9f2e4ef8",
   "metadata": {},
   "outputs": [],
   "source": [
    "import requests\n",
    "from bs4 import BeautifulSoup\n",
    "\n",
    "section_dict = {100:'정치',101:'경제',102:'사회',103:'생활/문화',104:'세계',105:'IT/과학'}\n",
    "\n",
    "def print_news(sid, section):  #print_new(103,'생활/문화') \n",
    "    pass"
   ]
  },
  {
   "cell_type": "code",
   "execution_count": null,
   "id": "858952c6",
   "metadata": {},
   "outputs": [],
   "source": [
    "print_news(103,section_dict[103])"
   ]
  },
  {
   "cell_type": "markdown",
   "id": "323196dc",
   "metadata": {},
   "source": [
    "### 2. Image 다운로드\n",
    "* referer 요청 헤더를 반드시 설정해야 한다."
   ]
  },
  {
   "cell_type": "code",
   "execution_count": null,
   "id": "c72d6cb1",
   "metadata": {},
   "outputs": [],
   "source": [
    "import requests\n",
    "import os\n",
    "\n",
    "req_header = {\n",
    "    'referer':''\n",
    "}\n",
    "\n",
    "img_urls = [\n",
    "    'https://image-comic.pstatic.net/webtoon/798173/5/20220804112251_d97bd1e1b38f0cd022e4e3639d2926b3_IMAG01_1.jpg',\n",
    "    'https://image-comic.pstatic.net/webtoon/798173/5/20220804112251_d97bd1e1b38f0cd022e4e3639d2926b3_IMAG01_2.jpg',\n",
    "    'https://image-comic.pstatic.net/webtoon/798173/5/20220804112251_d97bd1e1b38f0cd022e4e3639d2926b3_IMAG01_3.jpg'\n",
    "]\n",
    "\n",
    "for img_url in img_urls:\n",
    "    pass\n",
    "    # requests 의 get(url, headers) 함수 호출하기 \n",
    "        \n",
    "        # binary 응답 데이터 가져오기\n",
    "        \n",
    "        # url에서 파일명만 추출하기\n",
    "        \n",
    "        # binday data를 file에 write하기\n"
   ]
  },
  {
   "cell_type": "markdown",
   "id": "e8b00a04",
   "metadata": {},
   "source": [
    "* 현재 요청된 페이지의 image 모두 다운로드 해보기"
   ]
  },
  {
   "cell_type": "code",
   "execution_count": null,
   "id": "b30f7bf5",
   "metadata": {},
   "outputs": [],
   "source": []
  },
  {
   "cell_type": "markdown",
   "id": "2ac9f5f9",
   "metadata": {},
   "source": [
    "### 3. 파일 업로드 하기\n",
    "* http://httpbin.org/post 업로드 요청을 할 수 있는 url"
   ]
  },
  {
   "cell_type": "code",
   "execution_count": null,
   "id": "04da4790",
   "metadata": {},
   "outputs": [
    {
     "name": "stdout",
     "output_type": "stream",
     "text": [
      "200\n"
     ]
    }
   ],
   "source": [
    "import requests\n",
    "\n",
    "upload_files = {\n",
    "    \n",
    "}\n",
    "#print(upload_files)\n",
    "\n",
    "url = 'http://httpbin.org/post'\n",
    "# file 업로드 하려면 requests의 post 함수에 files 속성을 사용합니다.\n",
    "\n"
   ]
  },
  {
   "cell_type": "markdown",
   "id": "7ad65f12",
   "metadata": {},
   "source": [
    "### 4. 캡챠(이미지) API 호출하기\n",
    "* urllib 사용\n",
    "* 1. 캡차 키 발급 요청\n",
    "  2. 캡차 이미지 요청\n",
    "  3. 사용자 입력값 검증 요청"
   ]
  },
  {
   "cell_type": "code",
   "execution_count": null,
   "id": "bc4ae360-e772-4873-8642-d3494edd34e1",
   "metadata": {},
   "outputs": [],
   "source": [
    "# 캡차 키 발급 요청\n"
   ]
  },
  {
   "cell_type": "code",
   "execution_count": null,
   "id": "7b95b6a0-c218-4792-82a6-da4d80872071",
   "metadata": {},
   "outputs": [],
   "source": [
    "# 캡차 이미지 요청\n"
   ]
  },
  {
   "cell_type": "code",
   "execution_count": null,
   "id": "a79076af-2cd0-4de2-8301-316b9130c55e",
   "metadata": {},
   "outputs": [],
   "source": [
    "#  사용자 입력값 검증 요청\n",
    "\n"
   ]
  },
  {
   "cell_type": "markdown",
   "id": "b7d984a6",
   "metadata": {},
   "source": [
    "* requests를 사용하는 코드로 변경하기\n",
    "* [requests docs](https://requests.readthedocs.io/en/latest/user/quickstart/)"
   ]
  },
  {
   "cell_type": "code",
   "execution_count": null,
   "id": "727b427b",
   "metadata": {
    "scrolled": true
   },
   "outputs": [
    {
     "name": "stdout",
     "output_type": "stream",
     "text": [
      "Error Code: 403\n"
     ]
    }
   ],
   "source": [
    "# 사용자 입력값 검증 요청\n",
    "\n"
   ]
  },
  {
   "cell_type": "markdown",
   "id": "d5e1179a",
   "metadata": {},
   "source": [
    "### 5. 블로그 검색하기"
   ]
  },
  {
   "cell_type": "code",
   "execution_count": null,
   "id": "877d0c7f",
   "metadata": {},
   "outputs": [],
   "source": [
    "import requests\n",
    "import pprint\n",
    "\n",
    "headers = {\n",
    "    'X-Naver-Client-Id': '',\n",
    "    'X-Naver-Client-Secret': '',\n",
    "}\n",
    "\n",
    "payload = {\n",
    "    'query': '파이썬',\n",
    "    'display': 100,\n",
    "    'sort': 'sim'\n",
    "}\n",
    "\n",
    "url = 'https://openapi.naver.com/v1/search/blog.json'\n",
    "\n",
    "\n",
    "# requests get(url, params, headers) 요청 \n",
    "\n",
    "# json() 함수로 응답 결과 가져오오기\n",
    "# 'title' , 'bloggername' , 'description' , 'bloggerlink' , 'link'\n",
    "\n",
    "# 'data/nhnblog.txt' 파일 생성하기\n"
   ]
  }
 ],
 "metadata": {
  "kernelspec": {
   "display_name": "base",
   "language": "python",
   "name": "python3"
  },
  "language_info": {
   "codemirror_mode": {
    "name": "ipython",
    "version": 3
   },
   "file_extension": ".py",
   "mimetype": "text/x-python",
   "name": "python",
   "nbconvert_exporter": "python",
   "pygments_lexer": "ipython3",
   "version": "3.12.7"
  }
 },
 "nbformat": 4,
 "nbformat_minor": 5
}
