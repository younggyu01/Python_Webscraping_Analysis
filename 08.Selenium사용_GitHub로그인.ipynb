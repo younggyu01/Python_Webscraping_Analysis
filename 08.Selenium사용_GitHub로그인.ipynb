{
 "cells": [
  {
   "cell_type": "markdown",
   "metadata": {},
   "source": [
    "* [webdriver-manager github](https://github.com/SergeyPirogov/webdriver_manager)\n",
    "* [webdriver-manager PYPI](https://pypi.org/project/webdriver-manager/#use-with-ie)"
   ]
  },
  {
   "cell_type": "code",
   "execution_count": 2,
   "metadata": {},
   "outputs": [
    {
     "name": "stdout",
     "output_type": "stream",
     "text": [
      "Name: webdriver-manager\n",
      "Version: 4.0.1\n",
      "Summary: Library provides the way to automatically manage drivers for different browsers\n",
      "Home-page: https://github.com/SergeyPirogov/webdriver_manager\n",
      "Author: Sergey Pirogov\n",
      "Author-email: automationremarks@gmail.com\n",
      "License: \n",
      "Location: c:\\users\\vega2\\anaconda3\\lib\\site-packages\n",
      "Requires: packaging, python-dotenv, requests\n",
      "Required-by: \n"
     ]
    }
   ],
   "source": [
    "!pip show webdriver-manager"
   ]
  },
  {
   "cell_type": "code",
   "execution_count": 3,
   "metadata": {},
   "outputs": [
    {
     "name": "stdout",
     "output_type": "stream",
     "text": [
      "Name: selenium\n",
      "Version: 4.19.0\n",
      "Summary: \n",
      "Home-page: https://www.selenium.dev\n",
      "Author: \n",
      "Author-email: \n",
      "License: Apache 2.0\n",
      "Location: c:\\users\\vega2\\anaconda3\\lib\\site-packages\n",
      "Requires: certifi, trio, trio-websocket, typing_extensions, urllib3\n",
      "Required-by: \n"
     ]
    }
   ],
   "source": [
    "#pip install selenium\n",
    "!pip show selenium"
   ]
  },
  {
   "cell_type": "code",
   "execution_count": 4,
   "metadata": {},
   "outputs": [
    {
     "data": {
      "text/plain": [
       "'4.19.0'"
      ]
     },
     "execution_count": 4,
     "metadata": {},
     "output_type": "execute_result"
    }
   ],
   "source": [
    "import selenium\n",
    "\n",
    "selenium.__version__"
   ]
  },
  {
   "cell_type": "markdown",
   "metadata": {},
   "source": [
    "### WebDriver 의 Chrome 객체생성\n",
    "* python.org 웹사이트로 요청을 보내기\n",
    "* pypi 메뉴를 클릭해서 pypi.org 웹사이트로 이동하기"
   ]
  },
  {
   "cell_type": "code",
   "execution_count": 5,
   "metadata": {},
   "outputs": [
    {
     "name": "stdout",
     "output_type": "stream",
     "text": [
      "[<selenium.webdriver.remote.webelement.WebElement (session=\"49d24e74e1e36dcb4e6c84969fc7d317\", element=\"f.EBB456DCB53BA767F54BD286745BE629.d.80D9A70D22D9332EB2FC29E725C63738.e.7\")>, <selenium.webdriver.remote.webelement.WebElement (session=\"49d24e74e1e36dcb4e6c84969fc7d317\", element=\"f.EBB456DCB53BA767F54BD286745BE629.d.80D9A70D22D9332EB2FC29E725C63738.e.8\")>, <selenium.webdriver.remote.webelement.WebElement (session=\"49d24e74e1e36dcb4e6c84969fc7d317\", element=\"f.EBB456DCB53BA767F54BD286745BE629.d.80D9A70D22D9332EB2FC29E725C63738.e.9\")>, <selenium.webdriver.remote.webelement.WebElement (session=\"49d24e74e1e36dcb4e6c84969fc7d317\", element=\"f.EBB456DCB53BA767F54BD286745BE629.d.80D9A70D22D9332EB2FC29E725C63738.e.10\")>, <selenium.webdriver.remote.webelement.WebElement (session=\"49d24e74e1e36dcb4e6c84969fc7d317\", element=\"f.EBB456DCB53BA767F54BD286745BE629.d.80D9A70D22D9332EB2FC29E725C63738.e.11\")>, <selenium.webdriver.remote.webelement.WebElement (session=\"49d24e74e1e36dcb4e6c84969fc7d317\", element=\"f.EBB456DCB53BA767F54BD286745BE629.d.80D9A70D22D9332EB2FC29E725C63738.e.12\")>]\n",
      "Python <class 'selenium.webdriver.remote.webelement.WebElement'>\n",
      "PSF <class 'selenium.webdriver.remote.webelement.WebElement'>\n",
      "Docs <class 'selenium.webdriver.remote.webelement.WebElement'>\n",
      "PyPI <class 'selenium.webdriver.remote.webelement.WebElement'>\n",
      "Jobs <class 'selenium.webdriver.remote.webelement.WebElement'>\n",
      "Community <class 'selenium.webdriver.remote.webelement.WebElement'>\n"
     ]
    }
   ],
   "source": [
    "from selenium import webdriver\n",
    "from selenium.webdriver.chrome.service import Service\n",
    "from webdriver_manager.chrome import ChromeDriverManager\n",
    "from selenium.webdriver.common.by import By\n",
    "import time\n",
    "\n",
    "driver = webdriver.Chrome(service=Service(ChromeDriverManager().install()))\n",
    "driver.get(\"https://www.python.org/\")\n",
    "\n",
    "#webdriver에 포함된 Chrome 객체를 생성 - chromedriver.exe 사용해서\n",
    "\n",
    "#li 엘리먼트 선택해서 가져오기\n",
    "li_tags = driver.find_elements(By.CSS_SELECTOR,'div#top ul.menu li')\n",
    "print(li_tags)\n",
    "#pypi 엘리먼트를 찾아서 저장할 변수 선언\n",
    "pypi = None\n",
    "for li_tag in li_tags:\n",
    "    print(li_tag.text, type(li_tag))\n",
    "    if li_tag.text == 'PyPI':\n",
    "        pypi = li_tag\n",
    "        \n",
    "time.sleep(3)\n",
    "\n",
    "#pypi 엘리멘트의 click() 함수 호출\n",
    "pypi.click()\n",
    "\n",
    "#5초로 waiting time 설정\n",
    "time.sleep(5)\n",
    "#driver 종료\n",
    "driver.quit()"
   ]
  },
  {
   "cell_type": "markdown",
   "metadata": {},
   "source": [
    "### 네이버 포털의 image를 save 해보기"
   ]
  },
  {
   "cell_type": "code",
   "execution_count": 6,
   "metadata": {},
   "outputs": [],
   "source": [
    "import os\n",
    "#img 디렉토리 생성\n",
    "#img 디렉토리가 없으면\n",
    "if not os.path.isdir('img'):\n",
    "    os.mkdir('img')   "
   ]
  },
  {
   "cell_type": "code",
   "execution_count": 7,
   "metadata": {},
   "outputs": [],
   "source": [
    "from selenium import webdriver\n",
    "from selenium.webdriver.chrome.service import Service\n",
    "from webdriver_manager.chrome import ChromeDriverManager\n",
    "import time\n",
    "\n",
    "driver = webdriver.Chrome(service=Service(ChromeDriverManager().install()))\n",
    "driver.get(\"https://www.naver.com/\")\n",
    "driver.save_screenshot('img/naver.png')\n",
    "\n",
    "time.sleep(3)\n",
    "driver.quit()"
   ]
  },
  {
   "cell_type": "markdown",
   "metadata": {},
   "source": [
    "### 네이버 포털에 파이썬 검색어를 입력\n",
    "* 검색어를 입력하고 엔터를 치고\n",
    "* 검색된 결과중에서 지식인에 검색된 링크를 클릭"
   ]
  },
  {
   "cell_type": "code",
   "execution_count": 6,
   "metadata": {},
   "outputs": [],
   "source": [
    "from selenium import webdriver\n",
    "from selenium.webdriver.chrome.service import Service\n",
    "from webdriver_manager.chrome import ChromeDriverManager\n",
    "from selenium.webdriver.common.by import By\n",
    "from selenium.webdriver.common.keys import Keys\n",
    "import time\n",
    "\n",
    "driver = webdriver.Chrome(service=Service(ChromeDriverManager().install()))\n",
    "#네이버 포털에 요청 보내기\n",
    "driver.get('https://www.naver.com/')\n",
    "time.sleep(2)\n",
    "\n",
    "#검색어 엘리먼트 가져오기\n",
    "search_tag = driver.find_element(By.CSS_SELECTOR,'#query')\n",
    "#print(search_tag)\n",
    "\n",
    "#검색창에 파이썬 키워드를 입력한다.\n",
    "search_tag.send_keys('python')\n",
    "#엔터를 입력한다.\n",
    "search_tag.send_keys(Keys.ENTER)\n",
    "time.sleep(5)\n",
    "\n",
    "#검색된 결과 중에서 a tag 가져오기 <a class='lnk_tit'>\n",
    "a_tags = driver.find_elements(By.CSS_SELECTOR,'a.lnk_tit')\n",
    "if a_tags:\n",
    "    #첫번째 a tag 선택하고, click() 함수 호출\n",
    "    a_tags[0].click()\n",
    "\n",
    "#지연 시간을 5초로 설정\n",
    "time.sleep(5)\n",
    "#driver 종료\n",
    "driver.quit()"
   ]
  },
  {
   "cell_type": "markdown",
   "metadata": {},
   "source": [
    "### GitHub 로그인 / 로그아웃\n",
    "* id 와 password를 입력하고 패스워드 필드에서 엔터를 치거나 로그인 버튼 클릭해서 로그인\n",
    "* 로그인 후에 이름과 메일건수를 알아내기\n",
    "* 로그아웃 버튼을 클릭해서 로그아웃 "
   ]
  },
  {
   "cell_type": "markdown",
   "metadata": {},
   "source": [
    "### 로그인 실패할 경우 처리한 코드"
   ]
  },
  {
   "cell_type": "code",
   "execution_count": 7,
   "metadata": {},
   "outputs": [
    {
     "name": "stdout",
     "output_type": "stream",
     "text": [
      "login_ok True\n",
      "'WebDriver' object has no attribute 'find_elements_by_name'\n"
     ]
    }
   ],
   "source": [
    "from selenium import webdriver\n",
    "from selenium.webdriver.chrome.service import Service\n",
    "from webdriver_manager.chrome import ChromeDriverManager\n",
    "from selenium.webdriver.common.by import By\n",
    "from selenium.webdriver.common.keys import Keys\n",
    "import time\n",
    "\n",
    "from selenium.webdriver.support.ui import WebDriverWait\n",
    "from selenium.webdriver.support import expected_conditions as EC\n",
    "from selenium.webdriver.common.by import By\n",
    "\n",
    "from selenium.common.exceptions import NoSuchElementException\n",
    "\n",
    "url = 'https://github.com/login'\n",
    "\n",
    "driver = webdriver.Chrome(service=Service(ChromeDriverManager().install()))\n",
    "#github login에 요청 보내기\n",
    "driver.get(url)\n",
    "\n",
    "#웹리소스 로딩을 위해서 2초 wait를 반드시 해주어야 합니다. \n",
    "#클래스 선택자를 못가져오고 에러가 발생했던 원인은 웹리소스들이 로딩이 되기 전에 tag를 가져와서 에러가 발생하였음\n",
    "driver.implicitly_wait(2)\n",
    "\n",
    "#time.sleep(2)\n",
    "\n",
    "#id와 password를 엘리먼트 찾고, 값을 입력하기\n",
    "driver.find_element(By.CSS_SELECTOR,'input#login_field').send_keys('user')\n",
    "driver.find_element(By.CSS_SELECTOR,'input#password').send_keys('pass')\n",
    "time.sleep(2)\n",
    "\n",
    "# #password필드에서 엔터치기\n",
    "driver.find_element(By.CSS_SELECTOR,'input#password').send_keys(Keys.RETURN)\n",
    "\n",
    "login_ok = None\n",
    "try:        \n",
    "    div_error = driver.find_element(By.CSS_SELECTOR,'div.js-flash-alert')\n",
    "    print(div_error)\n",
    "    if div_error:\n",
    "        login_ok = False\n",
    "        print(\"login fail ----------------\",login_ok)    \n",
    "except NoSuchElementException as nexp:\n",
    "    # 로그인 정상이면 div.js-flash-alert 태그가 없으므로 NoSuchElementException 이 발생함\n",
    "    login_ok = True\n",
    "except Exception as exp:\n",
    "    print(exp)\n",
    "\n",
    "print('login_ok', login_ok)\n",
    "\n",
    "if login_ok:    \n",
    "    try:\n",
    "        # 아바타 버튼 선택해서 클릭\n",
    "        avatar_img = driver.find_elements(By.CSS_SELECTOR, 'span.Button-label img')\n",
    "        if avatar_img:\n",
    "            avatar_img[0].click()\n",
    "            time.sleep(4)\n",
    "            \n",
    "            # repositories 메뉴 선택해서 클릭\n",
    "            repo_a_tag = driver.find_elements(By.CSS_SELECTOR,\"a[href*='?tab=repositories']\")\n",
    "            if repo_a_tag:\n",
    "                repo_a_tag[0].click()\n",
    "            time.sleep(4)\n",
    "\n",
    "            # repository 목록에서 첫번째 repository 클릭\n",
    "            repo1_a_tags = driver.find_elements(By.CSS_SELECTOR,\"ul li.col-12 h3.wb-break-all a\")\n",
    "            if repo1_a_tags:\n",
    "                repo1_a_tags[0].click()\n",
    "            time.sleep(4)\n",
    "            \n",
    "        # 아바타 버튼 선택해서 클릭            \n",
    "        avatar_img = driver.find_elements(By.CSS_SELECTOR, 'span.Button-label img')\n",
    "        if avatar_img:\n",
    "            avatar_img[0].click()\n",
    "            time.sleep(4)\n",
    "            \n",
    "            # 로그아웃 메뉴 선택해서 클릭\n",
    "            logout_a_tag = driver.find_elements(By.CSS_SELECTOR,\"a[href='/logout']\")\n",
    "            if logout_a_tag:\n",
    "                logout_a_tag[0].click()\n",
    "                \n",
    "        time.sleep(2)\n",
    "        #logout_input = driver.find_elements(By.CSS_SELECTOR,\"form input[name='commit']\")\n",
    "        logout_input = driver.find_elements_by_name(\"commit\")\n",
    "        if logout_input:\n",
    "            logout_input.submit()\n",
    "        time.sleep(2)\n",
    "        \n",
    "    except Exception as exp:\n",
    "        print(exp)\n",
    "\n",
    "time.sleep(3)\n",
    "driver.quit()"
   ]
  },
  {
   "cell_type": "markdown",
   "metadata": {},
   "source": [
    "### 리팩토링 된 코드"
   ]
  },
  {
   "cell_type": "code",
   "execution_count": null,
   "metadata": {},
   "outputs": [],
   "source": [
    "from selenium import webdriver\n",
    "from selenium.webdriver.chrome.service import Service\n",
    "from webdriver_manager.chrome import ChromeDriverManager\n",
    "from selenium.webdriver.common.by import By\n",
    "from selenium.webdriver.common.keys import Keys\n",
    "from selenium.webdriver.support.ui import WebDriverWait\n",
    "from selenium.webdriver.support import expected_conditions as EC\n",
    "from selenium.common.exceptions import NoSuchElementException, TimeoutException\n",
    "import time\n",
    "\n",
    "# 상수 정의\n",
    "LOGIN_URL = 'https://github.com/login'\n",
    "USERNAME = 'your_username'  # 실제 사용자명으로 변경\n",
    "PASSWORD = 'your_password'  # 실제 비밀번호로 변경\n",
    "WAIT_TIMEOUT = 10\n",
    "\n",
    "def initialize_driver():\n",
    "    \"\"\"웹드라이버 초기화\"\"\"\n",
    "    service = Service(ChromeDriverManager().install())\n",
    "    driver = webdriver.Chrome(service=service)\n",
    "    driver.implicitly_wait(2)  # 암시적 대기 설정\n",
    "    return driver\n",
    "\n",
    "def wait_for_element(driver, locator, timeout=WAIT_TIMEOUT):\n",
    "    \"\"\"요소가 나타날 때까지 명시적으로 대기\"\"\"\n",
    "    try:\n",
    "        return WebDriverWait(driver, timeout).until(\n",
    "            EC.presence_of_element_located(locator)\n",
    "        )\n",
    "    except TimeoutException:\n",
    "        print(f\"요소를 찾을 수 없음: {locator}\")\n",
    "        return None\n",
    "\n",
    "def login(driver):\n",
    "    \"\"\"GitHub 로그인 시도\"\"\"\n",
    "    driver.get(LOGIN_URL)\n",
    "    \n",
    "    # 로그인 필드 찾기 및 입력\n",
    "    username_field = wait_for_element(driver, (By.CSS_SELECTOR, 'input#login_field'))\n",
    "    password_field = wait_for_element(driver, (By.CSS_SELECTOR, 'input#password'))\n",
    "    \n",
    "    if username_field and password_field:\n",
    "        username_field.send_keys(USERNAME)\n",
    "        password_field.send_keys(PASSWORD)\n",
    "        password_field.send_keys(Keys.RETURN)\n",
    "        time.sleep(2)  # 로그인 처리 대기\n",
    "        \n",
    "        # 로그인 성공 여부 확인\n",
    "        try:\n",
    "            error_div = driver.find_element(By.CSS_SELECTOR, 'div.js-flash-alert')\n",
    "            if error_div:\n",
    "                print(\"로그인 실패\")\n",
    "                return False\n",
    "        except NoSuchElementException:\n",
    "            print(\"로그인 성공\")\n",
    "            return True\n",
    "    return False\n",
    "\n",
    "def navigate_to_repositories(driver):\n",
    "    \"\"\"리포지토리 페이지로 이동\"\"\"\n",
    "    avatar = wait_for_element(driver, (By.CSS_SELECTOR, 'span.Button-label img'))\n",
    "    if avatar:\n",
    "        avatar.click()\n",
    "        time.sleep(1)  # 드롭다운 메뉴 나타날 때까지 대기\n",
    "        \n",
    "        repo_link = wait_for_element(driver, (By.CSS_SELECTOR, \"a[href*='?tab=repositories']\"))\n",
    "        if repo_link:\n",
    "            repo_link.click()\n",
    "            time.sleep(2)\n",
    "            return True\n",
    "    return False\n",
    "\n",
    "def select_first_repository(driver):\n",
    "    \"\"\"첫 번째 리포지토리 선택\"\"\"\n",
    "    repo_links = driver.find_elements(By.CSS_SELECTOR, \"ul li.col-12 h3.wb-break-all a\")\n",
    "    if repo_links:\n",
    "        repo_links[0].click()\n",
    "        time.sleep(2)\n",
    "        return True\n",
    "    return False\n",
    "\n",
    "def logout(driver):\n",
    "    \"\"\"로그아웃 수행\"\"\"\n",
    "    avatar = wait_for_element(driver, (By.CSS_SELECTOR, 'span.Button-label img'))\n",
    "    if avatar:\n",
    "        avatar.click()\n",
    "        time.sleep(1)\n",
    "        \n",
    "        logout_link = wait_for_element(driver, (By.CSS_SELECTOR, \"a[href='/logout']\"))\n",
    "        if logout_link:\n",
    "            logout_link.click()\n",
    "            time.sleep(1)\n",
    "            \n",
    "            logout_button = wait_for_element(driver, (By.NAME, 'commit'))\n",
    "            if logout_button:\n",
    "                logout_button.submit()\n",
    "                time.sleep(2)\n",
    "\n",
    "def main():\n",
    "    driver = None\n",
    "    try:\n",
    "        # 1. 드라이버 초기화\n",
    "        driver = initialize_driver()\n",
    "        \n",
    "        # 2. 로그인 시도\n",
    "        if not login(driver):\n",
    "            return  # 로그인 실패 시 종료\n",
    "        \n",
    "        # 3. 리포지토리 페이지로 이동\n",
    "        if navigate_to_repositories(driver):\n",
    "            # 4. 첫 번째 리포지토리 선택\n",
    "            select_first_repository(driver)\n",
    "        \n",
    "        # 5. 로그아웃\n",
    "        logout(driver)\n",
    "        \n",
    "    except Exception as e:\n",
    "        print(f\"오류 발생: {e}\")\n",
    "    finally:\n",
    "        if driver:\n",
    "            driver.quit()\n",
    "\n",
    "if __name__ == \"__main__\":\n",
    "    main()"
   ]
  },
  {
   "cell_type": "code",
   "execution_count": null,
   "metadata": {},
   "outputs": [],
   "source": []
  }
 ],
 "metadata": {
  "kernelspec": {
   "display_name": "Python 3 (ipykernel)",
   "language": "python",
   "name": "python3"
  },
  "language_info": {
   "codemirror_mode": {
    "name": "ipython",
    "version": 3
   },
   "file_extension": ".py",
   "mimetype": "text/x-python",
   "name": "python",
   "nbconvert_exporter": "python",
   "pygments_lexer": "ipython3",
   "version": "3.12.4"
  }
 },
 "nbformat": 4,
 "nbformat_minor": 4
}
