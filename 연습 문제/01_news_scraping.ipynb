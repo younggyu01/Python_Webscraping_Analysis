{
 "cells": [
  {
   "cell_type": "markdown",
   "id": "0376f016",
   "metadata": {},
   "source": [
    "## 1. 웹스크래핑 연습문제\n",
    "- 1-1. Daum 뉴스기사 제목 스크래핑하기"
   ]
  },
  {
   "cell_type": "markdown",
   "id": "e79326a3",
   "metadata": {},
   "source": [
    "질문1 :  아래의 url에서 뉴스기사의 링크와 제목을 출력하세요."
   ]
  },
  {
   "cell_type": "code",
   "execution_count": 32,
   "id": "1ebab02b",
   "metadata": {},
   "outputs": [],
   "source": [
    "url = 'https://news.daum.net/economy'"
   ]
  },
  {
   "cell_type": "code",
   "execution_count": 33,
   "id": "1c8f1a9c",
   "metadata": {},
   "outputs": [],
   "source": [
    "# reqeusts, bs4 import\n",
    "import requests\n",
    "# BeautifulSoup import\n",
    "import bs4\n",
    "# BeautifulSoup 클래스 import\n",
    "from bs4 import BeautifulSoup"
   ]
  },
  {
   "cell_type": "code",
   "execution_count": 52,
   "id": "d7caa0c6",
   "metadata": {},
   "outputs": [
    {
     "name": "stdout",
     "output_type": "stream",
     "text": [
      "https://news.daum.net/economy\n",
      "<class 'requests.models.Response'>\n",
      "200\n",
      "<class 'bs4.element.Tag'> 9\n",
      "https://v.daum.net/v/20250722210317765 \"\n",
      "\" 韓 반도체는 깨어날 줄 모르고 [AI 칩 전쟁…한국은 없다?]\n",
      "https://v.daum.net/v/20250722204242273 \"\n",
      "\" 소비쿠폰 쓰려다가 '화들짝'…\"여기서는 못써요\" 응답에 '당황'한 소비자\n",
      "https://v.daum.net/v/20250722202007801 \"\n",
      "\" ‘해수부 부산 시대’ 조선·해양플랜트까지 업무 넓혀야\n",
      "https://v.daum.net/v/20250722200357366 \"\n",
      "\" [이슈대담] “2040년 석탄화력발전소 폐쇄…신재생 에너지 전환”\n",
      "https://v.daum.net/v/20250722190900992 \"\n",
      "\" 경제통상 외교수장들, 대거 미국행... 관세 타결·한미정상회담 열릴까\n",
      "https://v.daum.net/v/20250722185103483 \"\n",
      "\" 퇴근하면 시작된다...유통업계 다시 불붙은 '6시 쇼핑' 전쟁\n",
      "https://v.daum.net/v/20250722183143976 \"\n",
      "\" “자율주행, 이동약자 지원하는 ‘공공성’에 초점 맞춰야”\n",
      "https://v.daum.net/v/20250722181057244 \"\n",
      "\" 꾸준히 강세 흐름 보이는 메이저 알트코인들 : 코리안 크립토 위클리 [INFCL 리서치]\n",
      "https://v.daum.net/v/20250722175548581 \"\n",
      "\" 세계시장 제패한 K뷰티·푸드…'첨단' 아니라며 R&D지원은 쥐꼬리\n"
     ]
    }
   ],
   "source": [
    "url = 'https://news.daum.net/economy'\n",
    "\n",
    "# 요청 헤더 설정 : 브라우저 정보\n",
    "req_header = {\n",
    "    \"user-agent\": \"Mozilla/5.0 (Windows NT 10.0; Win64; x64) AppleWebKit/537.36 (KHTML, like Gecko) Chrome/104.0.0.0 Safari/537.36\"\n",
    "}\n",
    "\n",
    "# requests 의 get() 함수 호출하기 \n",
    "res = requests.get(url, headers=req_header)\n",
    "\n",
    "print(url)\n",
    "print(type(res))\n",
    "print(res.status_code)\n",
    "print(type(a_tag), len(soup.select('ul.list_newsheadline2 li')))\n",
    "\n",
    "# 응답(response)이 OK 이면 응답(response)에서 text 추출\n",
    "if res.ok:\n",
    "    res.encoding = 'utf-8'\n",
    "    html = res.text\n",
    "    soup = BeautifulSoup(html, \"html.parser\")\n",
    "    for li_tag in soup.select('ul.list_newsheadline2 li'):\n",
    "        a_tag = li_tag.find('a')\n",
    "        if a_tag.text:\n",
    "            link = a_tag['href']\t\n",
    "            strong_tag = li_tag.select_one('div.cont_thumb strong.tit_txt')\n",
    "            title = strong_tag.text\n",
    "            print(f'{link} \"\\n\" {title}')\n",
    "\n",
    "else:\n",
    "    print(f'Error Code = {res.status_code}')\n",
    "\n",
    "        \n"
   ]
  },
  {
   "cell_type": "markdown",
   "id": "1ea8f7f5",
   "metadata": {},
   "source": [
    "## 질문2:  여러개의 section 중 하나를 선택해서 url에서 뉴스기사의 링크와 제목을 출력하는 코드를 함수로 작성하기"
   ]
  },
  {
   "cell_type": "code",
   "execution_count": 60,
   "id": "714a3102",
   "metadata": {},
   "outputs": [],
   "source": [
    "# 홈 URL\n",
    "url_home = 'https://news.daum.net/home'\n",
    "# 기후/환경 뉴스 URL\n",
    "url_climate = 'https://news.daum.net/climate'\n",
    "# 사회 뉴스 URL\n",
    "url_society = 'https://news.daum.net/society'\n",
    "# 경제 뉴스 URL\n",
    "url_economy = 'https://news.daum.net/economy'\n",
    "# 정치 뉴스 URL\n",
    "url_politics = 'https://news.daum.net/politics'\n",
    "# 국제 뉴스 URL\n",
    "url_world = 'https://news.daum.net/world'\n",
    "# 문화 뉴스 URL\n",
    "url_culture = 'https://news.daum.net/culture'\n",
    "# 생활 뉴스 URL\n",
    "url_life = 'https://news.daum.net/life'\n",
    "# IT/과학 뉴스 URL\n",
    "url_tech = 'https://news.daum.net/tech'\n",
    "# 인물 URL\n",
    "url_people = 'https://news.daum.net/people'\n",
    "\n",
    "\n",
    "section_dict = {'홈':'home','기후/환경':'climate','사회':'society','경제':'economy','정치':'politics',\n",
    "                '국제':'world','문화':'culture','생활':'life','IT/과학':'tech','인물':'people'}\n",
    "\n",
    "# 함수선언\n",
    "def print_news(section):\n",
    "    category = section_dict[section]\n",
    "    url = f'https://news.daum.net/{category}'\n",
    "    print(f'======> {url} {section} 뉴스 <======')\n",
    "\t\n",
    "    # 요청 헤더 설정 : 브라우저 정보\n",
    "    req_header = {\n",
    "        \"user-agent\": \"Mozilla/5.0 (Windows NT 10.0; Win64; x64) AppleWebKit/537.36 (KHTML, like Gecko) Chrome/104.0.0.0 Safari/537.36\"\n",
    "    }\n",
    "    # requests 의 get() 함수 호출하기 \n",
    "    res = requests.get(url, headers=req_header)\n",
    "\n",
    "    # 응답(response)이 OK 이면 응답(response)에서 text 추출\n",
    "    if res.ok:\n",
    "        res.encoding = 'utf-8'\n",
    "        html = res.text\n",
    "        soup = BeautifulSoup(html, \"html.parser\")\n",
    "        for li_tag in soup.select('ul.list_newsheadline2 li'):\n",
    "            a_tag = li_tag.find('a')\n",
    "            if a_tag.text:\n",
    "                link = a_tag['href']\t\n",
    "                strong_tag = li_tag.select_one('div.cont_thumb strong.tit_txt')\n",
    "                title = strong_tag.text\n",
    "                print(f'{link} \"\\n\" {title}')\n",
    "\n",
    "    else:\n",
    "        print(f'Error Code = {res.status_code}')\n",
    "\t"
   ]
  },
  {
   "cell_type": "code",
   "execution_count": 61,
   "id": "9882b4c1",
   "metadata": {},
   "outputs": [
    {
     "name": "stdout",
     "output_type": "stream",
     "text": [
      "======> https://news.daum.net/economy 경제 뉴스 <======\n",
      "https://v.daum.net/v/20250722210317765 \"\n",
      "\" 韓 반도체는 깨어날 줄 모르고 [AI 칩 전쟁…한국은 없다?]\n",
      "https://v.daum.net/v/20250722204242273 \"\n",
      "\" 소비쿠폰 쓰려다가 '화들짝'…\"여기서는 못써요\" 응답에 '당황'한 소비자\n",
      "https://v.daum.net/v/20250722202007801 \"\n",
      "\" ‘해수부 부산 시대’ 조선·해양플랜트까지 업무 넓혀야\n",
      "https://v.daum.net/v/20250722200357366 \"\n",
      "\" [이슈대담] “2040년 석탄화력발전소 폐쇄…신재생 에너지 전환”\n",
      "https://v.daum.net/v/20250722190900992 \"\n",
      "\" 경제통상 외교수장들, 대거 미국행... 관세 타결·한미정상회담 열릴까\n",
      "https://v.daum.net/v/20250722185103483 \"\n",
      "\" 퇴근하면 시작된다...유통업계 다시 불붙은 '6시 쇼핑' 전쟁\n",
      "https://v.daum.net/v/20250722183143976 \"\n",
      "\" “자율주행, 이동약자 지원하는 ‘공공성’에 초점 맞춰야”\n",
      "https://v.daum.net/v/20250722181057244 \"\n",
      "\" 꾸준히 강세 흐름 보이는 메이저 알트코인들 : 코리안 크립토 위클리 [INFCL 리서치]\n",
      "https://v.daum.net/v/20250722175548581 \"\n",
      "\" 세계시장 제패한 K뷰티·푸드…'첨단' 아니라며 R&D지원은 쥐꼬리\n"
     ]
    }
   ],
   "source": [
    "print_news('경제')"
   ]
  },
  {
   "cell_type": "code",
   "execution_count": 63,
   "id": "b32b3824",
   "metadata": {},
   "outputs": [
    {
     "name": "stdout",
     "output_type": "stream",
     "text": [
      "======> https://news.daum.net/society 사회 뉴스 <======\n",
      "https://v.daum.net/v/20250722214226532 \"\n",
      "\" [호우 피해 합천 가회면 가보니] 수마 휩쓸고 간 마을, 쓰레기밭으로 변했다\n",
      "https://v.daum.net/v/20250722213920464 \"\n",
      "\" 2043년 대학 신입생 절반도 못 채운다…입학자원 급감 '경고등'\n",
      "https://v.daum.net/v/20250722213017302 \"\n",
      "\" [28] ‘모란이 피기까지는’...김영랑은 항일 저항시인이었다. [광주전남독립운동현장 50]\n",
      "https://v.daum.net/v/20250722210541832 \"\n",
      "\" 760억 등친 '수원 왕회장' 숨은 재산 추적…감옥서도 돈벌이, 피해자 두 번 울린 전세사기단\n",
      "https://v.daum.net/v/20250722210344774 \"\n",
      "\" “×× 시청인데요, 물품 대리납품 좀…” 전국 공무원 사칭 사기 주의!!\n",
      "https://v.daum.net/v/20250722205947653 \"\n",
      "\" 의대생 복귀 방안 협의 막바지…반대 국민청원은 5만 돌파\n",
      "https://v.daum.net/v/20250722205117470 \"\n",
      "\" [밀착카메라] 장마엔 젖어서, 폭염엔 더워서…안전 위험한 '폐지 어르신'\n",
      "https://v.daum.net/v/20250722204626341 \"\n",
      "\" [호국의 성지 남해 관음포]삼별초는 왜 남해로 향했나\n",
      "https://v.daum.net/v/20250722204505326 \"\n",
      "\" “800억 어디서 구하나” 부산오페라하우스 발등의 불\n"
     ]
    }
   ],
   "source": [
    "print_news('사회')"
   ]
  },
  {
   "cell_type": "code",
   "execution_count": 64,
   "id": "d335121d",
   "metadata": {},
   "outputs": [
    {
     "name": "stdout",
     "output_type": "stream",
     "text": [
      "======> https://news.daum.net/home 홈 뉴스 <======\n",
      "https://v.daum.net/v/20250722211005937 \"\n",
      "\" 가평 캠핑장 참변 가족 수색 사흘째…실종자 수색·복구 총력전\n",
      "https://v.daum.net/v/20250722204242273 \"\n",
      "\" 소비쿠폰 쓰려다가 '화들짝'…\"여기서는 못써요\" 응답에 '당황'한 소비자\n",
      "https://v.daum.net/v/20250722203141032 \"\n",
      "\" 강선우 감싸는 민주 지도부…물밑선 “여의도 감수성, 국민에 뒤처져”\n",
      "https://v.daum.net/v/20250722195213116 \"\n",
      "\" 윤석열 돌연 \"정치탄압\" 입장문‥김건희 출석 임박하자?\n",
      "https://v.daum.net/v/20250722192831557 \"\n",
      "\" 트럼프는 왜 탈중앙화된 통화를 원하나 : 스테이블코인의 본질\n",
      "https://v.daum.net/v/20250722183541061 \"\n",
      "\" 李대통령 \"민생쿠폰은 소비회복, 추가 프로그램 준비\"…소비쿠폰 '깡' 주의(종합)\n",
      "https://v.daum.net/v/20250722182503746 \"\n",
      "\" 소비쿠폰 첫날에만 1조2700억 지급.. 식당·미용실 등 \"손님 늘것\" 기대감\n",
      "https://v.daum.net/v/20250722182057590 \"\n",
      "\" '公私 구분 모호' 의원-보좌진…姜논란 계기 관계재정립 목소리(종합)\n",
      "https://v.daum.net/v/20250722180655078 \"\n",
      "\" 통일교, 펜스 전 미 부통령 7억 원 주고 초청…윤석열과 회동 주선\n",
      "https://v.daum.net/v/20250722214300560 \"\n",
      "\" [농촌 살리는 귀농스토리] ‘아버지 농법’ 걷어내고 ‘선진기술’로 일군 ‘대농의 꿈’\n",
      "https://v.daum.net/v/20250722192238426 \"\n",
      "\" 황규철 옥천군수 “옥천의 미래 위한 초심 잃지 않겠다”\n",
      "https://v.daum.net/v/20250722192212410 \"\n",
      "\" “그 시절 떠오르니 즐겁구먼유”\n",
      "https://v.daum.net/v/20250722184640374 \"\n",
      "\" [인터뷰…공감] “러브버그와 공존 방법 찾겠다” 박선재 국립생물자원관 연구관\n",
      "https://v.daum.net/v/20250722181926533 \"\n",
      "\" 올해 JW성천상에 강동원·전진경 부부 의사···\"생명 존중 실천하는 참 의료인 될 것\"\n",
      "https://v.daum.net/v/20250722192903566 \"\n",
      "\" [그래픽] 집중호우 피해 지역 6곳 특별재난지역 선포\n",
      "https://v.daum.net/v/20250722210126707 \"\n",
      "\" 2025년 7월 23일[김용민의 그림마당]\n"
     ]
    }
   ],
   "source": [
    "print_news('홈')"
   ]
  },
  {
   "cell_type": "code",
   "execution_count": 66,
   "id": "df657030",
   "metadata": {},
   "outputs": [
    {
     "name": "stdout",
     "output_type": "stream",
     "text": [
      "======> https://news.daum.net/climate 기후/환경 뉴스 <======\n",
      "https://v.daum.net/v/20250722212725253 \"\n",
      "\" “이번에도 자중지란?”…RE100 국가산단 앞두고 전북 또 갈등\n",
      "https://v.daum.net/v/20250722211237993 \"\n",
      "\" 모로코, 기후변화 맞서 오아시스 지키는 농민들\n",
      "https://v.daum.net/v/20250722205453547 \"\n",
      "\" \"누가 국가유산에\" 청주 상당산성에 의문의 쓰레기 더미\n",
      "https://v.daum.net/v/20250722201755739 \"\n",
      "\" 기후변화로 여름 폭우 한 달 빨라진다…7월이 ‘신(新) 장마 재난’ 중심\n",
      "https://v.daum.net/v/20250722195504173 \"\n",
      "\" [인천시, 탄소중립도시연합 가입] 세계적 기후 선도, 글로벌 협력 주도\n",
      "https://v.daum.net/v/20250722194703016 \"\n",
      "\" 환경 장관 “환경부 직원 전기차 타는 비율 국민 평균 수준”\n",
      "https://v.daum.net/v/20250722192326445 \"\n",
      "\" 베이징 대기질 개선 이끈 베이징대 석좌교수 \"탄소중립이 건강\"\n",
      "https://v.daum.net/v/20250722184347309 \"\n",
      "\" '기후부' 신설 빨라지나…환경장관 \"산업부, 그대로 존재 안해\"\n",
      "https://v.daum.net/v/20250722184158229 \"\n",
      "\" “동물 보호 외치면서 ‘뱀가죽’ 지갑?” 이런 게 수두룩…놀라운 ‘반전’ 알고 보니 [지구, 뭐래?]\n"
     ]
    }
   ],
   "source": [
    "print_news('기후/환경')"
   ]
  },
  {
   "cell_type": "code",
   "execution_count": 67,
   "id": "d33bcb2a",
   "metadata": {},
   "outputs": [
    {
     "name": "stdout",
     "output_type": "stream",
     "text": [
      "======> https://news.daum.net/politics 정치 뉴스 <======\n",
      "https://v.daum.net/v/20250722212725253 \"\n",
      "\" “이번에도 자중지란?”…RE100 국가산단 앞두고 전북 또 갈등\n",
      "https://v.daum.net/v/20250722210909913 \"\n",
      "\" 정부·여당 “소비 쿠폰, 지방경제 활성화에 도움”\n",
      "https://v.daum.net/v/20250722210504812 \"\n",
      "\" “보좌진 갑질, 일반 직장과 달라”…여당 지도부 ‘황당 옹호론’\n",
      "https://v.daum.net/v/20250722210411793 \"\n",
      "\" 광주 택시요금 하반기 13.35% 인상 잠정합의\n",
      "https://v.daum.net/v/20250722210257750 \"\n",
      "\" 신임 인사처장 \"문재인이 모든 고통 원천\"…윤건영 \"화가 난다\"\n",
      "https://v.daum.net/v/20250722203141032 \"\n",
      "\" 강선우 감싸는 민주 지도부…물밑선 “여의도 감수성, 국민에 뒤처져”\n",
      "https://v.daum.net/v/20250722202747942 \"\n",
      "\" 비도덕적이지만 비합리적이지 않은 북한, 미국과 협상에 나올까?\n",
      "https://v.daum.net/v/20250722202410881 \"\n",
      "\" 조갑제 인터뷰 : 국힘 새 대표에 OOO?…\"국힘은 그럼 끝나는 겁니다\" [스프]\n",
      "https://v.daum.net/v/20250722202401873 \"\n",
      "\" \"헌재 때려부수자\"던 서천호, 지역구 사천 집 팔았다\n",
      "https://v.daum.net/v/20250722214915691 \"\n",
      "\" '북한 무인기' 덮으려 허위보고서?...'김용현 비선 보고' 의혹도\n",
      "https://v.daum.net/v/20250722213307377 \"\n",
      "\" [단독] 특검, 김용대 23일 재소환…“김용현, 남포 등에 계속 보내라”\n",
      "https://v.daum.net/v/20250722210506815 \"\n",
      "\" 평양 무인기 ‘윤석열 → 김용현 → 김용대’ 지시 구조 확인될까\n",
      "https://v.daum.net/v/20250722192537509 \"\n",
      "\" [단독] \"김용현, 실패한 작전 아니니까 힘내라…표창 추천 지시\"\n",
      "https://v.daum.net/v/20250722164659625 \"\n",
      "\" [사사건건] “보수 추천, 여당 의견”…대통령실은 책임 없나?\n"
     ]
    }
   ],
   "source": [
    "print_news('정치')"
   ]
  },
  {
   "cell_type": "code",
   "execution_count": 68,
   "id": "79b58cfc",
   "metadata": {},
   "outputs": [
    {
     "name": "stdout",
     "output_type": "stream",
     "text": [
      "======> https://news.daum.net/world 국제 뉴스 <======\n",
      "https://v.daum.net/v/20250722203305073 \"\n",
      "\" 러, 15세 아이들까지 동원…‘자폭 드론’ 한 달 5200대 찍어낸다\n",
      "https://v.daum.net/v/20250722201501645 \"\n",
      "\" 손발 안 맞는 오픈AI·소프트뱅크...트럼프의 700조 짜리 ‘AI 뉴딜’ 삐걱\n",
      "https://v.daum.net/v/20250722200644433 \"\n",
      "\" 콘크리트 지지층 등 돌려… “자민·공명연합 한계”\n",
      "https://v.daum.net/v/20250722193001577 \"\n",
      "\" “이 나라가 부러운 점도 있네”...AI 열풍속 이공계 선호 ‘뚜렷’한 중국, 의대 인기는 급락\n",
      "https://v.daum.net/v/20250722182345694 \"\n",
      "\" 하필 지금 꺼낸 ‘킹 목사’ 암살 문건… ‘엡스타인 덮기용’ 의혹 [뉴스 투데이]\n",
      "https://v.daum.net/v/20250722174401053 \"\n",
      "\" 美 \"시한보다 중요한 건 합의의 질\"···韓 고강도 압박하나\n",
      "https://v.daum.net/v/20250722173641738 \"\n",
      "\" 美 견제 급한 中·EU···'희토류 - 전기차 빅딜' 나오나\n",
      "https://v.daum.net/v/20250722172804339 \"\n",
      "\" ‘돕겠다’ 접근해 성적 대가 요구···가자지구 여성들이 처한 이중의 위험\n",
      "https://v.daum.net/v/20250722172334200 \"\n",
      "\" 이시바 ‘버티기’에 불붙은 ‘퇴진론’···“리콜 규정이라도 써야”\n"
     ]
    }
   ],
   "source": [
    "print_news('국제')"
   ]
  },
  {
   "cell_type": "code",
   "execution_count": 69,
   "id": "85b22bc2",
   "metadata": {},
   "outputs": [
    {
     "name": "stdout",
     "output_type": "stream",
     "text": [
      "======> https://news.daum.net/culture 문화 뉴스 <======\n",
      "https://v.daum.net/v/20250722213302374 \"\n",
      "\" 34년 만에 다시 만난 ‘동승’… 배우의 번민과 마주하다\n",
      "https://v.daum.net/v/20250722211726083 \"\n",
      "\" \"개발 과정 연극 보여드립니다\"…세종문화회관 싱크넥스트 '문 속의 문'\n",
      "https://v.daum.net/v/20250722204129249 \"\n",
      "\" 인생을 즐기는 자 오라! 아모르 파티\n",
      "https://v.daum.net/v/20250722200204319 \"\n",
      "\" '케데헌' 그 한의원이 진짜 있다고?…외국인들 난리난 곳 [현장+]\n",
      "https://v.daum.net/v/20250722195700200 \"\n",
      "\" 서울 공연장 부족→고양으로 몰린 대형 공연…해법은?[현장EN:]\n",
      "https://v.daum.net/v/20250722194131890 \"\n",
      "\" 송계 최병오 유작전…26일까지 동구 미로센터\n",
      "https://v.daum.net/v/20250722193511738 \"\n",
      "\" “365일, 24시간 언제·어디서든 아동 소외되지 않기를” 허승연 센터장 [인터뷰]\n",
      "https://v.daum.net/v/20250722192639517 \"\n",
      "\" ‘추상화 선구자’ 넘어 보이지 않는 세계 탐구까지…클린트 부산 소환\n",
      "https://v.daum.net/v/20250722181639438 \"\n",
      "\" 세계유산 등재도 결국 국력·정치력 대결이다\n"
     ]
    }
   ],
   "source": [
    "print_news('문화')"
   ]
  },
  {
   "cell_type": "code",
   "execution_count": 70,
   "id": "5e8a41da",
   "metadata": {},
   "outputs": [
    {
     "name": "stdout",
     "output_type": "stream",
     "text": [
      "======> https://news.daum.net/life 생활 뉴스 <======\n",
      "https://v.daum.net/v/20250722213146346 \"\n",
      "\" 평발인 우리 아이, 교정기·물리치료 필요할까요?\n",
      "https://v.daum.net/v/20250722165508958 \"\n",
      "\" 스타필드, 드디어 사대문 안으로…‘에비뉴’로 도심 정조준(종합)\n",
      "https://v.daum.net/v/20250722160909710 \"\n",
      "\" \"편하게 한의진료 받을 권리 필요 가로막는 규제는 과감히 고쳐야\"\n",
      "https://v.daum.net/v/20250722160906705 \"\n",
      "\" 삶의 질 확 떨어뜨리는 이명…한의 특화진료 '이내풍' 국내외서 호평\n",
      "https://v.daum.net/v/20250722160903696 \"\n",
      "\" 무더운 여름철…왜 식욕 없고 소화도 잘 안될까\n",
      "https://v.daum.net/v/20250722160603507 \"\n",
      "\" 황제 다이어트?…'살빼는 최적의 장'아세요\n",
      "https://v.daum.net/v/20250722144947570 \"\n",
      "\" 의사들이 꼽은 ‘뇌 기능’ 떨어뜨리는 최악의 습관은?\n",
      "https://v.daum.net/v/20250722144459322 \"\n",
      "\" '중국판 다이소' 요요소, 韓1호점 내고 마케팅·물류 인력채용 \"C커머스 오프라인도 공세\"\n",
      "https://v.daum.net/v/20250722115703004 \"\n",
      "\" 스팸-쟌슨빌, 뭐가 더 낫지? 하버드대가 매긴 '최악 식품'\n",
      "https://v.daum.net/v/20250722213440398 \"\n",
      "\" [날씨] 절기 '대서' 무더위 계속…전국 폭염특보 내려져\n"
     ]
    }
   ],
   "source": [
    "print_news('생활')"
   ]
  },
  {
   "cell_type": "code",
   "execution_count": 71,
   "id": "5e7e39fd",
   "metadata": {},
   "outputs": [
    {
     "name": "stdout",
     "output_type": "stream",
     "text": [
      "======> https://news.daum.net/tech IT/과학 뉴스 <======\n",
      "https://v.daum.net/v/20250722210457803 \"\n",
      "\" 그리팅, 상반기 중소기업 도입률 전년비 158%↑\n",
      "https://v.daum.net/v/20250722203940178 \"\n",
      "\" 한국형 AI 휴머노이드 키는 160cm에 체중 55kg…브레인은 대·소뇌로 분리\n",
      "https://v.daum.net/v/20250722203203049 \"\n",
      "\" \"1번 출구에서 톡 주면 모시러 갑니다\"…은밀한 제안 [현장+]\n",
      "https://v.daum.net/v/20250722195503171 \"\n",
      "\" 니케 그 이상으로 성장하는 '도로롱'\n",
      "https://v.daum.net/v/20250722190141778 \"\n",
      "\" 단통법 폐지 첫날, 소비자도 '성지'도 고요했다 [르포]\n",
      "https://v.daum.net/v/20250722185608598 \"\n",
      "\" 디지털트윈·메타버스 융합 ‘시티버스’ 시대… 미래 도시 표준화 포럼 출범\n",
      "https://v.daum.net/v/20250722185605597 \"\n",
      "\" [리뷰] 데가 운명의 경계 \"확장된 설정, 아쉬운 설득력\"\n",
      "https://v.daum.net/v/20250722185404538 \"\n",
      "\" 박진석 오로스테크놀로지 전무 “AI 시대 반도체 개발 더 빨라야...생태계 설계할 마지막 시기”\n",
      "https://v.daum.net/v/20250722184158229 \"\n",
      "\" “동물 보호 외치면서 ‘뱀가죽’ 지갑?” 이런 게 수두룩…놀라운 ‘반전’ 알고 보니 [지구, 뭐래?]\n"
     ]
    }
   ],
   "source": [
    "print_news('IT/과학')"
   ]
  },
  {
   "cell_type": "code",
   "execution_count": 72,
   "id": "32e218c3",
   "metadata": {},
   "outputs": [
    {
     "name": "stdout",
     "output_type": "stream",
     "text": [
      "======> https://news.daum.net/people 인물 뉴스 <======\n",
      "https://v.daum.net/v/20250722214300560 \"\n",
      "\" [농촌 살리는 귀농스토리] ‘아버지 농법’ 걷어내고 ‘선진기술’로 일군 ‘대농의 꿈’\n",
      "https://v.daum.net/v/20250722192238426 \"\n",
      "\" 황규철 옥천군수 “옥천의 미래 위한 초심 잃지 않겠다”\n",
      "https://v.daum.net/v/20250722192212410 \"\n",
      "\" “그 시절 떠오르니 즐겁구먼유”\n",
      "https://v.daum.net/v/20250722184640374 \"\n",
      "\" [인터뷰…공감] “러브버그와 공존 방법 찾겠다” 박선재 국립생물자원관 연구관\n",
      "https://v.daum.net/v/20250722175908739 \"\n",
      "\" [인터뷰] 홍덕기 부산체중·고 사이클팀 감독 “올해 상반기 상승세 이어나가 전국 최강팀 발돋움할 것”\n",
      "https://v.daum.net/v/20250722110743169 \"\n",
      "\" [청년이 돌아왔다, 귀향시대] (20·끝) 이제는 귀향 아닌 정착\n",
      "https://v.daum.net/v/20250722060027468 \"\n",
      "\" [예술가의 방] 도자공예가 편예린 | 전원생활\n",
      "https://v.daum.net/v/20250722050313918 \"\n",
      "\" \"여행은 내 경계 확인하는 경험\"…휠체어 타고 세계 누빈 유튜버\n",
      "https://v.daum.net/v/20250722030327266 \"\n",
      "\" “가상 K팝 아이돌, BTS도 못가본 경지 올라”\n",
      "https://v.daum.net/v/20250722043157507 \"\n",
      "\" [가만한 당신] 아이의 열정으로 일식을 쫓은 \"아마추어\" NASA 과학자\n",
      "https://v.daum.net/v/20250721183651189 \"\n",
      "\" 고미술-현대미술 관통하는 ‘조형정신’ 읽어냈던 컬렉터\n",
      "https://v.daum.net/v/20250716050208639 \"\n",
      "\" ‘조수미를 픽업한 지휘자의 대명사’ 헤르베르트 폰 카라얀[신문에서 찾았다 오늘 별이 된 사람]\n",
      "https://v.daum.net/v/20250714184637316 \"\n",
      "\" 조작간첩 50년 만의 무죄 “동지들 곁에서 외롭지 않겠죠”\n",
      "https://v.daum.net/v/20250713193144618 \"\n",
      "\" “박창희 교수, 50년대 재일동포 차별에 평생 민족 문제 파고들어”\n",
      "https://v.daum.net/v/20250722184640374 \"\n",
      "\" [인터뷰…공감] “러브버그와 공존 방법 찾겠다” 박선재 국립생물자원관 연구관\n"
     ]
    }
   ],
   "source": [
    "print_news('인물')"
   ]
  },
  {
   "cell_type": "markdown",
   "id": "32be0de9",
   "metadata": {},
   "source": [
    "## 2. 웹스크래핑 연습문제"
   ]
  },
  {
   "cell_type": "markdown",
   "id": "e1476cfb",
   "metadata": {},
   "source": [
    "#### 2-1. Nate 뉴스기사 제목 스크래핑하기 (필수)\n",
    "#### https://news.nate.com/recent?mid=n0100\n",
    "#### 최신뉴스, 정치 , 경제, 사회, 세계, IT/과학 \n",
    "#### 6개의 섹션의 뉴스를 출력하는 함수를 생성하여 스크래핑 하기\n",
    "\n",
    "#### Image, 기사제목, 기사링크\n"
   ]
  },
  {
   "cell_type": "markdown",
   "id": "96eb94ba",
   "metadata": {},
   "source": [
    "뉴스기사의 Image를 출력 하세요 \n",
    "\n",
    "from urllib.parse import urljoin\n",
    "from IPython.display import Image, display\n",
    "\n",
    "url = 'https://news.nate.com/'\n",
    "\n",
    "src = '//thumbnews.nateimg.co.kr/news90///news.nateimg.co.kr/orgImg/na/2025/07/23/7408335_high.jpg'\n",
    "\n",
    "1) Image의 도메인이름이 포함된 경로와 src 속성의 경로를 합치려면 urljoin 함수를 사용하세요.\n",
    "\n",
    "2) Image 출력은 Image 클래스와 display 함수를 사용하세요.\n",
    "\n",
    "3) img 엘리먼트의 존재 여부를 체크하신 후에 src 속성의 이미지를 경로를 추출하기\n",
    "=> Image 가 없는 뉴스도 있기 때문에 \n"
   ]
  },
  {
   "cell_type": "code",
   "execution_count": 51,
   "id": "47960fde",
   "metadata": {},
   "outputs": [],
   "source": [
    "# reqeusts, bs4 import\n",
    "import requests\n",
    "# BeautifulSoup import\n",
    "import bs4\n",
    "# BeautifulSoup 클래스 import\n",
    "from bs4 import BeautifulSoup\n",
    "from urllib.parse import urljoin\n",
    "from IPython.display import Image, display\n",
    "\n",
    "section_url_dict = {\n",
    "    '최신': 'https://news.nate.com/recent?mid=n0100',\n",
    "    '정치': 'https://news.nate.com/section?mid=n0200',\n",
    "    '경제': 'https://news.nate.com/section?mid=n0300',\n",
    "    '사회': 'https://news.nate.com/section?mid=n0400',\n",
    "    '세계': 'https://news.nate.com/section?mid=n0500',\n",
    "    'IT/과학': 'https://news.nate.com/section?mid=n0600',\n",
    "}\n",
    "\n",
    "# 함수선언\n",
    "def print_nate_news(section):\n",
    "    url = section_url_dict[section]\n",
    "    print(f'{section} 뉴스 {url}')\n",
    "\n",
    "    # 요청 헤더 설정 : 브라우저 정보\n",
    "    req_header = {\n",
    "        \"user-agent\": \"Mozilla/5.0 (Windows NT 10.0; Win64; x64) AppleWebKit/537.36 (KHTML, like Gecko) Chrome/104.0.0.0 Safari/537.36\"\n",
    "    }\n",
    "    # requests 의 get() 함수 호출하기 \n",
    "    res = requests.get(url, headers=req_header)\n",
    "\n",
    "    # 응답(response)이 OK 이면 응답(response)에서 text 추출\n",
    "    if res.ok:\n",
    "        html = res.text\n",
    "        # BeautifulSoup 객체 생성 \n",
    "        soup = BeautifulSoup(html, \"html.parser\")\n",
    "        '''\n",
    "        <div class=\"mlt01\">\n",
    "\t\t\t<a href=\"//news.nate.com/view/20250723n36406?mid=n0100\" class=\"lt1\"> \n",
    "        '''\n",
    "        a_tags = soup.select(\"div.mlt01 a[href*='com/view/'].lt1\") \n",
    "        \n",
    "        # <a> 태그 리스트 순회하기  \n",
    "        for idx,a_tag in enumerate(a_tags,1):\n",
    "            title_tag = a_tag.select_one(\"h2.tit\") # 제목만 출력 본문 X\n",
    "            img_tag = a_tag.select_one(\"img\")\n",
    "            if a_tag.text:\n",
    "                title = title_tag.text.strip() # 제목\n",
    "                link = urljoin(url, a_tag['href']) # 절대 경로\n",
    "\n",
    "                # 이미지 존재 여부\n",
    "                if img_tag and img_tag.has_attr('src'):\n",
    "                    img = urljoin(url, img_tag['src'])\n",
    "                    display(Image(url=img))\n",
    "                else:\n",
    "                    print(\"이미지 없음\")\n",
    "\n",
    "                print(f'{title} {link}')\n",
    "    else:\n",
    "        # 응답(response)이 Error 이면 status code 출력 \n",
    "        print(f'Error Code = {res.status_code}')\n",
    "\t"
   ]
  },
  {
   "cell_type": "code",
   "execution_count": 86,
   "id": "146d349f",
   "metadata": {},
   "outputs": [
    {
     "name": "stdout",
     "output_type": "stream",
     "text": [
      "최신 뉴스 https://news.nate.com/recent?mid=n0100\n"
     ]
    },
    {
     "data": {
      "text/html": [
       "<img src=\"https://thumbnews.nateimg.co.kr/news90///news.nateimg.co.kr/orgImg/tn/2025/07/23/2025072317282862430_1.jpg\"/>"
      ],
      "text/plain": [
       "<IPython.core.display.Image object>"
      ]
     },
     "metadata": {},
     "output_type": "display_data"
    },
    {
     "name": "stdout",
     "output_type": "stream",
     "text": [
      "'전북 또 이겼다' 공식전 22경기 무패 '파죽지세'…강원에 2-0 완승 '김진규·콤파뇨 연속골' [전주 현장리뷰] https://news.nate.com/view/20250723n38806?mid=n0100\n"
     ]
    },
    {
     "data": {
      "text/html": [
       "<img src=\"https://thumbnews.nateimg.co.kr/news90///news.nateimg.co.kr/orgImg/is/2025/07/23/isp20250723000395.800x.0.jpg\"/>"
      ],
      "text/plain": [
       "<IPython.core.display.Image object>"
      ]
     },
     "metadata": {},
     "output_type": "display_data"
    },
    {
     "name": "stdout",
     "output_type": "stream",
     "text": [
      "전진우 'PK·퇴장 유도' 존재감…전북, 리그 19경기 무패 질주 [IS 전주] https://news.nate.com/view/20250723n38805?mid=n0100\n"
     ]
    },
    {
     "data": {
      "text/html": [
       "<img src=\"https://thumbnews.nateimg.co.kr/news90///news.nateimg.co.kr/orgImg/mk/2025/07/23/news-p.v1.20250723.79223312497c41d4b39bb8b684ed80e9_P1.png\"/>"
      ],
      "text/plain": [
       "<IPython.core.display.Image object>"
      ]
     },
     "metadata": {},
     "output_type": "display_data"
    },
    {
     "name": "stdout",
     "output_type": "stream",
     "text": [
      "[르포] \"아재폰 꼬리표 확실히 떼겠다\"…삼성, 여심 잡으러 야구장에 '이것' 설치 https://news.nate.com/view/20250723n38522?mid=n0100\n"
     ]
    },
    {
     "data": {
      "text/html": [
       "<img src=\"https://thumbnews.nateimg.co.kr/news90///news.nateimg.co.kr/orgImg/cz/2025/07/23/cz_1753273744996_446538_0.jpg\"/>"
      ],
      "text/plain": [
       "<IPython.core.display.Image object>"
      ]
     },
     "metadata": {},
     "output_type": "display_data"
    },
    {
     "name": "stdout",
     "output_type": "stream",
     "text": [
      "\"일 하나는 제대로\" 외치던 강민수 국세청장의 퇴임 https://news.nate.com/view/20250723n15735?mid=n0100\n"
     ]
    },
    {
     "data": {
      "text/html": [
       "<img src=\"https://thumbnews.nateimg.co.kr/news90///news.nateimg.co.kr/orgImg/kh/2025/07/23/l_2025072401000711800071331.jpg\"/>"
      ],
      "text/plain": [
       "<IPython.core.display.Image object>"
      ]
     },
     "metadata": {},
     "output_type": "display_data"
    },
    {
     "name": "stdout",
     "output_type": "stream",
     "text": [
      "김건희 측 \"하루에 혐의 한 개씩 조사해달라\"…특검 \"협의 불필요\" 거절 https://news.nate.com/view/20250723n38802?mid=n0100\n",
      "이미지 없음\n",
      "'김건희 선물용' 샤넬백 영수증, 통일교 제출용 기안서 확보 https://news.nate.com/view/20250723n38801?mid=n0100\n",
      "이미지 없음\n",
      "'영장 기각' 김용대 드론사령관 재소환 https://news.nate.com/view/20250723n38800?mid=n0100\n"
     ]
    },
    {
     "data": {
      "text/html": [
       "<img src=\"https://thumbnews.nateimg.co.kr/news90///news.nateimg.co.kr/orgImg/kh/2025/07/23/l_2025072401000724400071281.jpg\"/>"
      ],
      "text/plain": [
       "<IPython.core.display.Image object>"
      ]
     },
     "metadata": {},
     "output_type": "display_data"
    },
    {
     "name": "stdout",
     "output_type": "stream",
     "text": [
      "동력 잃은 혁신위, 역공 나선 반탄파…국힘, 총체적 난국 https://news.nate.com/view/20250723n38799?mid=n0100\n"
     ]
    },
    {
     "data": {
      "text/html": [
       "<img src=\"https://thumbnews.nateimg.co.kr/news90///news.nateimg.co.kr/orgImg/kh/2025/07/23/l_2025072401000715600071301.jpg\"/>"
      ],
      "text/plain": [
       "<IPython.core.display.Image object>"
      ]
     },
     "metadata": {},
     "output_type": "display_data"
    },
    {
     "name": "stdout",
     "output_type": "stream",
     "text": [
      "김상환 헌법재판소장 임명동의안 국회 통과…헌재, 3개월 만에 '9인 완전체' https://news.nate.com/view/20250723n38798?mid=n0100\n"
     ]
    },
    {
     "data": {
      "text/html": [
       "<img src=\"https://thumbnews.nateimg.co.kr/news90///news.nateimg.co.kr/orgImg/st/2025/07/23/23_1016674_50176.jpg\"/>"
      ],
      "text/plain": [
       "<IPython.core.display.Image object>"
      ]
     },
     "metadata": {},
     "output_type": "display_data"
    },
    {
     "name": "stdout",
     "output_type": "stream",
     "text": [
      "'슈돌' 심형탁 子, 태어나보니 '피겨 수저'…\"장난감 큰게 수억 원, 전부 하루 것\" [TV캡처] https://news.nate.com/view/20250723n38797?mid=n0100\n"
     ]
    },
    {
     "data": {
      "text/html": [
       "<img src=\"https://thumbnews.nateimg.co.kr/news90///news.nateimg.co.kr/orgImg/nn/2025/07/23/202507232014416110_1.jpg\"/>"
      ],
      "text/plain": [
       "<IPython.core.display.Image object>"
      ]
     },
     "metadata": {},
     "output_type": "display_data"
    },
    {
     "name": "stdout",
     "output_type": "stream",
     "text": [
      "BTS RM도 품절돼 못 산 국중박 굿즈 제작 비화→'케데헌' 덕 품절대란까지(유퀴즈) https://news.nate.com/view/20250723n38796?mid=n0100\n"
     ]
    },
    {
     "data": {
      "text/html": [
       "<img src=\"https://thumbnews.nateimg.co.kr/news90///news.nateimg.co.kr/orgImg/is/2025/07/23/isp20250723000327.682x.0.jpg\"/>"
      ],
      "text/plain": [
       "<IPython.core.display.Image object>"
      ]
     },
     "metadata": {},
     "output_type": "display_data"
    },
    {
     "name": "stdout",
     "output_type": "stream",
     "text": [
      "'무적' 전북, 리그 19경기 무패 도전…전진우-콤파뇨 선발 출격 [IS 전주] https://news.nate.com/view/20250723n34473?mid=n0100\n"
     ]
    },
    {
     "data": {
      "text/html": [
       "<img src=\"https://thumbnews.nateimg.co.kr/news90///news.nateimg.co.kr/orgImg/tn/2025/07/23/2025072320185389458_4.jpg\"/>"
      ],
      "text/plain": [
       "<IPython.core.display.Image object>"
      ]
     },
     "metadata": {},
     "output_type": "display_data"
    },
    {
     "name": "stdout",
     "output_type": "stream",
     "text": [
      "'치명타' 극장 결승 실점 울산, 대전에 1-2 패→9경기 무승 수렁…마지막 승리 무려 '두 달 전' https://news.nate.com/view/20250723n38794?mid=n0100\n"
     ]
    },
    {
     "data": {
      "text/html": [
       "<img src=\"https://thumbnews.nateimg.co.kr/news90///news.nateimg.co.kr/orgImg/na/2025/07/23/7393062_high.jpg\"/>"
      ],
      "text/plain": [
       "<IPython.core.display.Image object>"
      ]
     },
     "metadata": {},
     "output_type": "display_data"
    },
    {
     "name": "stdout",
     "output_type": "stream",
     "text": [
      "강선우, 대통령실·당 교감 거쳐 전격 사퇴…정청래·박찬대도 인지 https://news.nate.com/view/20250723n38793?mid=n0100\n"
     ]
    },
    {
     "data": {
      "text/html": [
       "<img src=\"https://thumbnews.nateimg.co.kr/news90///news.nateimg.co.kr/orgImg/ni/2025/07/23/2507232124305110_w.jpg\"/>"
      ],
      "text/plain": [
       "<IPython.core.display.Image object>"
      ]
     },
     "metadata": {},
     "output_type": "display_data"
    },
    {
     "name": "stdout",
     "output_type": "stream",
     "text": [
      "평택 신축공사장서 맨홀 질식사고…작업자 2명 중상 https://news.nate.com/view/20250723n38792?mid=n0100\n",
      "이미지 없음\n",
      "[프로축구 울산전적] 대전 2-1 울산 https://news.nate.com/view/20250723n38790?mid=n0100\n",
      "이미지 없음\n",
      "지영준·박형명 '내란 옹호·극우' 논란에…국힘, 인권위원 선출안 본회의 상정 보류 https://news.nate.com/view/20250723n38789?mid=n0100\n"
     ]
    },
    {
     "data": {
      "text/html": [
       "<img src=\"https://thumbnews.nateimg.co.kr/news90///news.nateimg.co.kr/orgImg/sv/2025/07/23/202094312_700.jpg\"/>"
      ],
      "text/plain": [
       "<IPython.core.display.Image object>"
      ]
     },
     "metadata": {},
     "output_type": "display_data"
    },
    {
     "name": "stdout",
     "output_type": "stream",
     "text": [
      "\"그런 말하면 미친 사람 취급\" 종로 귀금속 거리 속사정 https://news.nate.com/view/20250723n38788?mid=n0100\n"
     ]
    },
    {
     "data": {
      "text/html": [
       "<img src=\"https://thumbnews.nateimg.co.kr/news90///news.nateimg.co.kr/orgImg/na/2025/07/23/3447278_high.jpg\"/>"
      ],
      "text/plain": [
       "<IPython.core.display.Image object>"
      ]
     },
     "metadata": {},
     "output_type": "display_data"
    },
    {
     "name": "stdout",
     "output_type": "stream",
     "text": [
      "인천 신항 물류창고서 40대 일용직 근로자 지게차에 깔려 사망 https://news.nate.com/view/20250723n38661?mid=n0100\n"
     ]
    },
    {
     "data": {
      "text/html": [
       "<img src=\"https://thumbnews.nateimg.co.kr/news90///news.nateimg.co.kr/orgImg/na/2025/07/23/7409480_high.jpg\"/>"
      ],
      "text/plain": [
       "<IPython.core.display.Image object>"
      ]
     },
     "metadata": {},
     "output_type": "display_data"
    },
    {
     "name": "stdout",
     "output_type": "stream",
     "text": [
      "李대통령 '소비쿠폰 색깔 차별' 질타에…광주 공무원들 밤샘 대기 https://news.nate.com/view/20250723n38150?mid=n0100\n"
     ]
    }
   ],
   "source": [
    "print_nate_news('최신')"
   ]
  },
  {
   "cell_type": "code",
   "execution_count": 52,
   "id": "837cb941",
   "metadata": {},
   "outputs": [
    {
     "name": "stdout",
     "output_type": "stream",
     "text": [
      "정치 뉴스 https://news.nate.com/section?mid=n0200\n"
     ]
    },
    {
     "data": {
      "text/html": [
       "<img src=\"https://thumbnews.nateimg.co.kr/news90///news.nateimg.co.kr/orgImg/yt/2025/07/23/PYH2025071420380001300_P2.jpg\"/>"
      ],
      "text/plain": [
       "<IPython.core.display.Image object>"
      ]
     },
     "metadata": {},
     "output_type": "display_data"
    },
    {
     "name": "stdout",
     "output_type": "stream",
     "text": [
      "'의원 불패' 신화 깨졌다…강선우, 현역 첫 청문회 낙마 불명예 https://news.nate.com/view/20250723n36323?mid=n0200\n"
     ]
    },
    {
     "data": {
      "text/html": [
       "<img src=\"https://thumbnews.nateimg.co.kr/news90///news.nateimg.co.kr/orgImg/hk/2025/07/23/ZN.41201162.1.jpg\"/>"
      ],
      "text/plain": [
       "<IPython.core.display.Image object>"
      ]
     },
     "metadata": {},
     "output_type": "display_data"
    },
    {
     "name": "stdout",
     "output_type": "stream",
     "text": [
      "윤희숙 \"당헌·당규에 사죄 넣자\"…의원들 \"숙의 필요\" https://news.nate.com/view/20250723n33663?mid=n0200\n"
     ]
    },
    {
     "data": {
      "text/html": [
       "<img src=\"https://thumbnews.nateimg.co.kr/news90///news.nateimg.co.kr/orgImg/na/2025/07/23/7392529_high.jpg\"/>"
      ],
      "text/plain": [
       "<IPython.core.display.Image object>"
      ]
     },
     "metadata": {},
     "output_type": "display_data"
    },
    {
     "name": "stdout",
     "output_type": "stream",
     "text": [
      "강선우 전격 사퇴에 민주당 '발칵'…\"좀더 빨랐으면\" \"힘내시라\" https://news.nate.com/view/20250723n30784?mid=n0200\n"
     ]
    },
    {
     "data": {
      "text/html": [
       "<img src=\"https://thumbnews.nateimg.co.kr/news90///news.nateimg.co.kr/orgImg/fn/2025/07/23/202507231034246516_l.jpg\"/>"
      ],
      "text/plain": [
       "<IPython.core.display.Image object>"
      ]
     },
     "metadata": {},
     "output_type": "display_data"
    },
    {
     "name": "stdout",
     "output_type": "stream",
     "text": [
      "\"오세훈 '극우 유튜버' 됐나\" 비판에 \"안보철학 전달한 것\" https://news.nate.com/view/20250723n26831?mid=n0200\n"
     ]
    },
    {
     "data": {
      "text/html": [
       "<img src=\"https://thumbnews.nateimg.co.kr/news90///news.nateimg.co.kr/orgImg/fn/2025/07/23/202507151925012739_l.jpg\"/>"
      ],
      "text/plain": [
       "<IPython.core.display.Image object>"
      ]
     },
     "metadata": {},
     "output_type": "display_data"
    },
    {
     "name": "stdout",
     "output_type": "stream",
     "text": [
      "\"APEC후원 해외기업은 하나도 없네\"…10대 국내기업은 현대차뿐인 이유가? https://news.nate.com/view/20250723n20965?mid=n0200\n"
     ]
    },
    {
     "data": {
      "text/html": [
       "<img src=\"https://thumbnews.nateimg.co.kr/news90///news.nateimg.co.kr/orgImg/se/2025/07/23/2GVGN24JMN_4.jpg\"/>"
      ],
      "text/plain": [
       "<IPython.core.display.Image object>"
      ]
     },
     "metadata": {},
     "output_type": "display_data"
    },
    {
     "name": "stdout",
     "output_type": "stream",
     "text": [
      "[단독]특검, 오산 공군기지 레이더시설 압색···'평양 무인기' 이적죄 정조준 https://news.nate.com/view/20250723n19524?mid=n0200\n"
     ]
    },
    {
     "data": {
      "text/html": [
       "<img src=\"https://thumbnews.nateimg.co.kr/news90///news.nateimg.co.kr/orgImg/hn/2025/07/23/53_17532492058907_6917532491720818.png\"/>"
      ],
      "text/plain": [
       "<IPython.core.display.Image object>"
      ]
     },
     "metadata": {},
     "output_type": "display_data"
    },
    {
     "name": "stdout",
     "output_type": "stream",
     "text": [
      "윤석열 '에어컨 방' 하루 2.3회…시간제한 없는 '변호인 접견' 찬스? https://news.nate.com/view/20250723n22422?mid=n0200\n"
     ]
    },
    {
     "data": {
      "text/html": [
       "<img src=\"https://thumbnews.nateimg.co.kr/news90///news.nateimg.co.kr/orgImg/kx/2025/07/23/2025072314345515290_1753248895_0028438824.jpg\"/>"
      ],
      "text/plain": [
       "<IPython.core.display.Image object>"
      ]
     },
     "metadata": {},
     "output_type": "display_data"
    },
    {
     "name": "stdout",
     "output_type": "stream",
     "text": [
      "李, 색깔별 소비 쿠폰에 \"인권 감수성 부족\" 강력 질타 https://news.nate.com/view/20250723n22494?mid=n0200\n"
     ]
    },
    {
     "data": {
      "text/html": [
       "<img src=\"https://thumbnews.nateimg.co.kr/news90///news.nateimg.co.kr/orgImg/mh/2025/07/23/news-p.v1.20250723.7e7da489d72f49a9b2a8bdda3e4f6787_P1.jpg\"/>"
      ],
      "text/plain": [
       "<IPython.core.display.Image object>"
      ]
     },
     "metadata": {},
     "output_type": "display_data"
    },
    {
     "name": "stdout",
     "output_type": "stream",
     "text": [
      "홍준표 \"국힘 딱하다, 정청래가 가만 놔두겠나?\" https://news.nate.com/view/20250723n09836?mid=n0200\n"
     ]
    },
    {
     "data": {
      "text/html": [
       "<img src=\"https://thumbnews.nateimg.co.kr/news90///news.nateimg.co.kr/orgImg/na/2025/07/23/7408350_high.jpg\"/>"
      ],
      "text/plain": [
       "<IPython.core.display.Image object>"
      ]
     },
     "metadata": {},
     "output_type": "display_data"
    },
    {
     "name": "stdout",
     "output_type": "stream",
     "text": [
      "'당대표 출마' 장동혁 \"내가 극우? 혁신이라며 당 싸움터 만들어\"(종합) https://news.nate.com/view/20250723n12909?mid=n0200\n"
     ]
    },
    {
     "data": {
      "text/html": [
       "<img src=\"https://thumbnews.nateimg.co.kr/news90///news.nateimg.co.kr/orgImg/sg/2025/07/23/20250722516299.jpg\"/>"
      ],
      "text/plain": [
       "<IPython.core.display.Image object>"
      ]
     },
     "metadata": {},
     "output_type": "display_data"
    },
    {
     "name": "stdout",
     "output_type": "stream",
     "text": [
      "'의사 출신' 정은경 복지장관 취임…\"국민 중심 의료개혁 추진하겠다\" https://news.nate.com/view/20250723n02192?mid=n0200\n"
     ]
    },
    {
     "data": {
      "text/html": [
       "<img src=\"https://thumbnews.nateimg.co.kr/news90///news.nateimg.co.kr/orgImg/hr/2025/07/23/news-p.v1.20250608.453edaab2ac14a1c9b0e62d285a5cfa6_P1.png\"/>"
      ],
      "text/plain": [
       "<IPython.core.display.Image object>"
      ]
     },
     "metadata": {},
     "output_type": "display_data"
    },
    {
     "name": "stdout",
     "output_type": "stream",
     "text": [
      "초선 주진우, 국민의힘 당권 도전…\"젊고 강한 보수로 탈바꿈\" https://news.nate.com/view/20250723n06655?mid=n0200\n"
     ]
    },
    {
     "data": {
      "text/html": [
       "<img src=\"https://thumbnews.nateimg.co.kr/news90///news.nateimg.co.kr/orgImg/na/2025/07/23/5248888_high.jpg\"/>"
      ],
      "text/plain": [
       "<IPython.core.display.Image object>"
      ]
     },
     "metadata": {},
     "output_type": "display_data"
    },
    {
     "name": "stdout",
     "output_type": "stream",
     "text": [
      "안철수 \"尹 들이받고 싶었다…다 줄 것처럼 해놓고 복지장관 딱 한번 제의\" https://news.nate.com/view/20250723n05453?mid=n0200\n"
     ]
    },
    {
     "data": {
      "text/html": [
       "<img src=\"https://thumbnews.nateimg.co.kr/news90///news.nateimg.co.kr/orgImg/na/2025/07/23/7125677_high.jpg\"/>"
      ],
      "text/plain": [
       "<IPython.core.display.Image object>"
      ]
     },
     "metadata": {},
     "output_type": "display_data"
    },
    {
     "name": "stdout",
     "output_type": "stream",
     "text": [
      "[단독] \"언론사 단전·단수 가능한가\"…이상민 소환 앞두고 진술 확보 https://news.nate.com/view/20250723n05676?mid=n0200\n"
     ]
    },
    {
     "data": {
      "text/html": [
       "<img src=\"https://thumbnews.nateimg.co.kr/news90///news.nateimg.co.kr/orgImg/ch/2025/07/23/ch_1753221304493_70514_0.jpg\"/>"
      ],
      "text/plain": [
       "<IPython.core.display.Image object>"
      ]
     },
     "metadata": {},
     "output_type": "display_data"
    },
    {
     "name": "stdout",
     "output_type": "stream",
     "text": [
      "무려 '29박 30일'…최장 포상휴가 받은 병사들의 정체 https://news.nate.com/view/20250723n02717?mid=n0200\n"
     ]
    }
   ],
   "source": [
    "print_nate_news('정치')"
   ]
  },
  {
   "cell_type": "code",
   "execution_count": 54,
   "id": "29536491",
   "metadata": {},
   "outputs": [
    {
     "name": "stdout",
     "output_type": "stream",
     "text": [
      "경제 뉴스 https://news.nate.com/section?mid=n0300\n"
     ]
    },
    {
     "data": {
      "text/html": [
       "<img src=\"https://thumbnews.nateimg.co.kr/news90///news.nateimg.co.kr/orgImg/no/2025/07/23/SSC_20250306215657_V.jpg\"/>"
      ],
      "text/plain": [
       "<IPython.core.display.Image object>"
      ]
     },
     "metadata": {},
     "output_type": "display_data"
    },
    {
     "name": "stdout",
     "output_type": "stream",
     "text": [
      "SK하이닉스, 상반기 성과급 '150%' 지급…375원 현금배당도 https://news.nate.com/view/20250723n34084?mid=n0300\n"
     ]
    },
    {
     "data": {
      "text/html": [
       "<img src=\"https://thumbnews.nateimg.co.kr/news90///news.nateimg.co.kr/orgImg/hi/2025/07/23/ab4ec5fa-0769-4266-b79a-33fbb358d08b.jpg\"/>"
      ],
      "text/plain": [
       "<IPython.core.display.Image object>"
      ]
     },
     "metadata": {},
     "output_type": "display_data"
    },
    {
     "name": "stdout",
     "output_type": "stream",
     "text": [
      "\"주가조작 패가망신\"…10월부터 과징금 더 세게 때린다 https://news.nate.com/view/20250723n22986?mid=n0300\n"
     ]
    },
    {
     "data": {
      "text/html": [
       "<img src=\"https://thumbnews.nateimg.co.kr/news90///news.nateimg.co.kr/orgImg/hk/2025/07/23/01.40975255.1.jpg\"/>"
      ],
      "text/plain": [
       "<IPython.core.display.Image object>"
      ]
     },
     "metadata": {},
     "output_type": "display_data"
    },
    {
     "name": "stdout",
     "output_type": "stream",
     "text": [
      "정부 팔 걷었지만…지방 '미분양 아파트' 쌓여만 간다 https://news.nate.com/view/20250723n18948?mid=n0300\n"
     ]
    },
    {
     "data": {
      "text/html": [
       "<img src=\"https://thumbnews.nateimg.co.kr/news90///news.nateimg.co.kr/orgImg/mt/2025/07/23/mt_1753242364835_32893_0.jpg\"/>"
      ],
      "text/plain": [
       "<IPython.core.display.Image object>"
      ]
     },
     "metadata": {},
     "output_type": "display_data"
    },
    {
     "name": "stdout",
     "output_type": "stream",
     "text": [
      "\"중국서 무려 100억어치 팔려\" 김밥 난리에…풀무원 '불기둥' https://news.nate.com/view/20250723n17074?mid=n0300\n"
     ]
    },
    {
     "data": {
      "text/html": [
       "<img src=\"https://thumbnews.nateimg.co.kr/news90///news.nateimg.co.kr/orgImg/ns/2025/07/23/NISI20250528_0020829805_web.jpg\"/>"
      ],
      "text/plain": [
       "<IPython.core.display.Image object>"
      ]
     },
     "metadata": {},
     "output_type": "display_data"
    },
    {
     "name": "stdout",
     "output_type": "stream",
     "text": [
      "5월까지 누적 출생아, 10.6만명…증가율 역대 최고 찍었다 https://news.nate.com/view/20250723n16482?mid=n0300\n"
     ]
    },
    {
     "data": {
      "text/html": [
       "<img src=\"https://thumbnews.nateimg.co.kr/news90///news.nateimg.co.kr/orgImg/hr/2025/07/23/rcv.YNA.20250723.PYH2025072302760001302_P1.jpg\"/>"
      ],
      "text/plain": [
       "<IPython.core.display.Image object>"
      ]
     },
     "metadata": {},
     "output_type": "display_data"
    },
    {
     "name": "stdout",
     "output_type": "stream",
     "text": [
      "'한미 통상 협의' 한국이 가져간 카드는…원전·LNG·비관세 https://news.nate.com/view/20250723n14975?mid=n0300\n"
     ]
    },
    {
     "data": {
      "text/html": [
       "<img src=\"https://thumbnews.nateimg.co.kr/news90///news.nateimg.co.kr/orgImg/hi/2025/07/23/27493b04-7332-40ca-801a-e44ca88c2a99.jpg\"/>"
      ],
      "text/plain": [
       "<IPython.core.display.Image object>"
      ]
     },
     "metadata": {},
     "output_type": "display_data"
    },
    {
     "name": "stdout",
     "output_type": "stream",
     "text": [
      "국토 6분의 1에 4700만 명이 몰려 산다…'도시살이' 국민 92% https://news.nate.com/view/20250723n11454?mid=n0300\n"
     ]
    },
    {
     "data": {
      "text/html": [
       "<img src=\"https://thumbnews.nateimg.co.kr/news90///news.nateimg.co.kr/orgImg/mk/2025/07/23/news-p.v1.20250723.7923c8e33e134a80b319699416278f13_P1.png\"/>"
      ],
      "text/plain": [
       "<IPython.core.display.Image object>"
      ]
     },
     "metadata": {},
     "output_type": "display_data"
    },
    {
     "name": "stdout",
     "output_type": "stream",
     "text": [
      "\"2028년이면 바닥날 수도\"…건강보험 재정 적신호, 해결책은 결국 세금? https://news.nate.com/view/20250723n10309?mid=n0300\n"
     ]
    },
    {
     "data": {
      "text/html": [
       "<img src=\"https://thumbnews.nateimg.co.kr/news90///news.nateimg.co.kr/orgImg/yt/2025/07/23/PRU20250718039401009_P2.jpg\"/>"
      ],
      "text/plain": [
       "<IPython.core.display.Image object>"
      ]
     },
     "metadata": {},
     "output_type": "display_data"
    },
    {
     "name": "stdout",
     "output_type": "stream",
     "text": [
      "가상화폐 비트코인 다시 '상승 모드'…한때 12만달러선 탈환 https://news.nate.com/view/20250723n03447?mid=n0300\n"
     ]
    },
    {
     "data": {
      "text/html": [
       "<img src=\"https://thumbnews.nateimg.co.kr/news90///news.nateimg.co.kr/orgImg/mk/2025/07/23/news-p.v1.20250722.6e4df01b6c5e4f35a9fe2017e85869ae_P1.jpeg\"/>"
      ],
      "text/plain": [
       "<IPython.core.display.Image object>"
      ]
     },
     "metadata": {},
     "output_type": "display_data"
    },
    {
     "name": "stdout",
     "output_type": "stream",
     "text": [
      "\"그래도 대학 나왔는데 그런 일은 좀\"…중졸 백수보다 많아진 비경제활동인구 https://news.nate.com/view/20250723n02635?mid=n0300\n"
     ]
    },
    {
     "data": {
      "text/html": [
       "<img src=\"https://thumbnews.nateimg.co.kr/news90///news.nateimg.co.kr/orgImg/ch/2025/07/23/ch_1753198394951_612468_0.jpg\"/>"
      ],
      "text/plain": [
       "<IPython.core.display.Image object>"
      ]
     },
     "metadata": {},
     "output_type": "display_data"
    },
    {
     "name": "stdout",
     "output_type": "stream",
     "text": [
      "수박 한 통 가격 3만원대, 풋고추도 100g당 2000원 돌파 https://news.nate.com/view/20250723n00311?mid=n0300\n"
     ]
    },
    {
     "data": {
      "text/html": [
       "<img src=\"https://thumbnews.nateimg.co.kr/news90///news.nateimg.co.kr/orgImg/hk/2025/07/23/ZN.26708785.1.jpg\"/>"
      ],
      "text/plain": [
       "<IPython.core.display.Image object>"
      ]
     },
     "metadata": {},
     "output_type": "display_data"
    },
    {
     "name": "stdout",
     "output_type": "stream",
     "text": [
      "\"경제가 어렵다\"…유흥업소 매출 3년만에 줄었다 https://news.nate.com/view/20250723n02002?mid=n0300\n"
     ]
    },
    {
     "data": {
      "text/html": [
       "<img src=\"https://thumbnews.nateimg.co.kr/news90///news.nateimg.co.kr/orgImg/jt/2025/07/22/20250722202523238001.jpg\"/>"
      ],
      "text/plain": [
       "<IPython.core.display.Image object>"
      ]
     },
     "metadata": {},
     "output_type": "display_data"
    },
    {
     "name": "stdout",
     "output_type": "stream",
     "text": [
      "[단독] 전세금 760억 등친 '수원 왕회장'…감옥서도 지인 앞세워 '돈벌이' https://news.nate.com/view/20250722n37463?mid=n0300\n"
     ]
    },
    {
     "data": {
      "text/html": [
       "<img src=\"https://thumbnews.nateimg.co.kr/news90///news.nateimg.co.kr/orgImg/fn/2025/07/22/202507220926296616_l.jpg\"/>"
      ],
      "text/plain": [
       "<IPython.core.display.Image object>"
      ]
     },
     "metadata": {},
     "output_type": "display_data"
    },
    {
     "name": "stdout",
     "output_type": "stream",
     "text": [
      "코스피, 연중 신고점 경신에도 하락 마감 [fn마감시황] https://news.nate.com/view/20250722n25370?mid=n0300\n"
     ]
    },
    {
     "data": {
      "text/html": [
       "<img src=\"https://thumbnews.nateimg.co.kr/news90///news.nateimg.co.kr/orgImg/mk/2025/07/22/news-p.v1.20250722.2db14126f0ab4ef49e9e335465ef9ff6_P1.jpg\"/>"
      ],
      "text/plain": [
       "<IPython.core.display.Image object>"
      ]
     },
     "metadata": {},
     "output_type": "display_data"
    },
    {
     "name": "stdout",
     "output_type": "stream",
     "text": [
      "\"직원이 대포통장 126개 만들 동안 뭐했나\"…내부통제 무너진 새마을금고 https://news.nate.com/view/20250722n20238?mid=n0300\n"
     ]
    }
   ],
   "source": [
    "print_nate_news('경제')"
   ]
  },
  {
   "cell_type": "code",
   "execution_count": 55,
   "id": "ca28d254",
   "metadata": {},
   "outputs": [
    {
     "name": "stdout",
     "output_type": "stream",
     "text": [
      "사회 뉴스 https://news.nate.com/section?mid=n0400\n"
     ]
    },
    {
     "data": {
      "text/html": [
       "<img src=\"https://thumbnews.nateimg.co.kr/news90///news.nateimg.co.kr/orgImg/yn/2025/07/23/202507232040154567_t.jpg\"/>"
      ],
      "text/plain": [
       "<IPython.core.display.Image object>"
      ]
     },
     "metadata": {},
     "output_type": "display_data"
    },
    {
     "name": "stdout",
     "output_type": "stream",
     "text": [
      "다시 찾아온 '가마솥 더위'…주 후반 더 '펄펄' 끓는다 https://news.nate.com/view/20250723n37946?mid=n0400\n"
     ]
    },
    {
     "data": {
      "text/html": [
       "<img src=\"https://thumbnews.nateimg.co.kr/news90///news.nateimg.co.kr/orgImg/jt/2025/07/23/20250723185925076001.jpg\"/>"
      ],
      "text/plain": [
       "<IPython.core.display.Image object>"
      ]
     },
     "metadata": {},
     "output_type": "display_data"
    },
    {
     "name": "stdout",
     "output_type": "stream",
     "text": [
      "아들 총기 살해범, 다른 가족도 노렸다…\"문 열려다 실패\" https://news.nate.com/view/20250723n36582?mid=n0400\n"
     ]
    },
    {
     "data": {
      "text/html": [
       "<img src=\"https://thumbnews.nateimg.co.kr/news90///news.nateimg.co.kr/orgImg/sv/2025/07/23/202094256_700.jpg\"/>"
      ],
      "text/plain": [
       "<IPython.core.display.Image object>"
      ]
     },
     "metadata": {},
     "output_type": "display_data"
    },
    {
     "name": "stdout",
     "output_type": "stream",
     "text": [
      "[단독] '윤 독대'도 기록…일시·대화 상세히 적혀 있었다 https://news.nate.com/view/20250723n37241?mid=n0400\n"
     ]
    },
    {
     "data": {
      "text/html": [
       "<img src=\"https://thumbnews.nateimg.co.kr/news90///news.nateimg.co.kr/orgImg/na/2025/07/23/7069184_high.jpg\"/>"
      ],
      "text/plain": [
       "<IPython.core.display.Image object>"
      ]
     },
     "metadata": {},
     "output_type": "display_data"
    },
    {
     "name": "stdout",
     "output_type": "stream",
     "text": [
      "[단독]\"추모제에 10억, 둔덕 조사용역엔 1억\"…제주항공 참사 유족 분통 https://news.nate.com/view/20250723n26962?mid=n0400\n"
     ]
    },
    {
     "data": {
      "text/html": [
       "<img src=\"https://thumbnews.nateimg.co.kr/news90///news.nateimg.co.kr/orgImg/kx/2025/07/23/2025072315402915527_1753252829_0028439244.jpg\"/>"
      ],
      "text/plain": [
       "<IPython.core.display.Image object>"
      ]
     },
     "metadata": {},
     "output_type": "display_data"
    },
    {
     "name": "stdout",
     "output_type": "stream",
     "text": [
      "고교 입학 후 3학년까지 줄곧 시험지 빼돌려 전교 1등 https://news.nate.com/view/20250723n26208?mid=n0400\n"
     ]
    },
    {
     "data": {
      "text/html": [
       "<img src=\"https://thumbnews.nateimg.co.kr/news90///news.nateimg.co.kr/orgImg/no/2025/07/23/SSC_20250722233506_V.jpg\"/>"
      ],
      "text/plain": [
       "<IPython.core.display.Image object>"
      ]
     },
     "metadata": {},
     "output_type": "display_data"
    },
    {
     "name": "stdout",
     "output_type": "stream",
     "text": [
      "'아들 총기 살해' 피의자 신상공개 안될 듯…\"유족 입장 최대한 반영\" https://news.nate.com/view/20250723n29318?mid=n0400\n"
     ]
    },
    {
     "data": {
      "text/html": [
       "<img src=\"https://thumbnews.nateimg.co.kr/news90///news.nateimg.co.kr/orgImg/oh/2025/07/23/IE003499900_STD.jpg\"/>"
      ],
      "text/plain": [
       "<IPython.core.display.Image object>"
      ]
     },
     "metadata": {},
     "output_type": "display_data"
    },
    {
     "name": "stdout",
     "output_type": "stream",
     "text": [
      "61년 만에 검찰이 낸 반성문…'성폭행 저항' 최말자씨 무죄 구형 https://news.nate.com/view/20250723n27845?mid=n0400\n"
     ]
    },
    {
     "data": {
      "text/html": [
       "<img src=\"https://thumbnews.nateimg.co.kr/news90///news.nateimg.co.kr/orgImg/yt/2025/07/23/AKR20250723127200004_01_i.jpg\"/>"
      ],
      "text/plain": [
       "<IPython.core.display.Image object>"
      ]
     },
     "metadata": {},
     "output_type": "display_data"
    },
    {
     "name": "stdout",
     "output_type": "stream",
     "text": [
      "'36주 낙태' 병원장 등 구속기소…제왕절개 후 냉동고 넣어 살해 https://news.nate.com/view/20250723n27882?mid=n0400\n"
     ]
    },
    {
     "data": {
      "text/html": [
       "<img src=\"https://thumbnews.nateimg.co.kr/news90///news.nateimg.co.kr/orgImg/yt/2025/07/23/AKR20250723106400004_01_i.jpg\"/>"
      ],
      "text/plain": [
       "<IPython.core.display.Image object>"
      ]
     },
     "metadata": {},
     "output_type": "display_data"
    },
    {
     "name": "stdout",
     "output_type": "stream",
     "text": [
      "이재민에게 써달라며 놓고 간 500만원…필체 보니 그 '천사'였다 https://news.nate.com/view/20250723n23667?mid=n0400\n"
     ]
    },
    {
     "data": {
      "text/html": [
       "<img src=\"https://thumbnews.nateimg.co.kr/news90///news.nateimg.co.kr/orgImg/kh/2025/07/23/news-p.v1.20250723.a73aaebd34454c01974659feaa31e874_P1.jpg\"/>"
      ],
      "text/plain": [
       "<IPython.core.display.Image object>"
      ]
     },
     "metadata": {},
     "output_type": "display_data"
    },
    {
     "name": "stdout",
     "output_type": "stream",
     "text": [
      "'일장기' 들고 소녀상 옆자리 차지한 '한국인들' https://news.nate.com/view/20250723n23261?mid=n0400\n"
     ]
    },
    {
     "data": {
      "text/html": [
       "<img src=\"https://thumbnews.nateimg.co.kr/news90///news.nateimg.co.kr/orgImg/ns/2025/07/23/NISI20250723_0001900562_web.jpg\"/>"
      ],
      "text/plain": [
       "<IPython.core.display.Image object>"
      ]
     },
     "metadata": {},
     "output_type": "display_data"
    },
    {
     "name": "stdout",
     "output_type": "stream",
     "text": [
      "유튜브에 총기 제작법 범람…삭제해도 반복 유통 '무풍 지대' https://news.nate.com/view/20250723n20146?mid=n0400\n"
     ]
    },
    {
     "data": {
      "text/html": [
       "<img src=\"https://thumbnews.nateimg.co.kr/news90///news.nateimg.co.kr/orgImg/ch/2025/07/23/ch_1753243924796_525001_0.jpg\"/>"
      ],
      "text/plain": [
       "<IPython.core.display.Image object>"
      ]
     },
     "metadata": {},
     "output_type": "display_data"
    },
    {
     "name": "stdout",
     "output_type": "stream",
     "text": [
      "북한강 토막 살인 양광준, 항소심서 \"매일 참회하며 반성\" 선처 호소 https://news.nate.com/view/20250723n17797?mid=n0400\n"
     ]
    },
    {
     "data": {
      "text/html": [
       "<img src=\"https://thumbnews.nateimg.co.kr/news90///news.nateimg.co.kr/orgImg/ny/2025/07/23/AKR20250723111217344_01_i.jpg\"/>"
      ],
      "text/plain": [
       "<IPython.core.display.Image object>"
      ]
     },
     "metadata": {},
     "output_type": "display_data"
    },
    {
     "name": "stdout",
     "output_type": "stream",
     "text": [
      "7호 태풍 '프란시스코' 북상…한반도 폭염 더 키우나 https://news.nate.com/view/20250723n13956?mid=n0400\n"
     ]
    },
    {
     "data": {
      "text/html": [
       "<img src=\"https://thumbnews.nateimg.co.kr/news90///news.nateimg.co.kr/orgImg/mt/2025/07/23/2025072311283285961_1.jpg\"/>"
      ],
      "text/plain": [
       "<IPython.core.display.Image object>"
      ]
     },
     "metadata": {},
     "output_type": "display_data"
    },
    {
     "name": "stdout",
     "output_type": "stream",
     "text": [
      "'아침현장소통' 나선 오세훈 \"지하철 화변기 2028년까지 모두 교체\" https://news.nate.com/view/20250723n15763?mid=n0400\n"
     ]
    },
    {
     "data": {
      "text/html": [
       "<img src=\"https://thumbnews.nateimg.co.kr/news90///news.nateimg.co.kr/orgImg/se/2025/07/23/2GVGMZ4T7M_1.jpg\"/>"
      ],
      "text/plain": [
       "<IPython.core.display.Image object>"
      ]
     },
     "metadata": {},
     "output_type": "display_data"
    },
    {
     "name": "stdout",
     "output_type": "stream",
     "text": [
      "\"족보는 족발보쌈, 이부자리는 별자리?\"···요즘 고등학생 문해력, 이 정도일 줄 https://news.nate.com/view/20250723n12451?mid=n0400\n"
     ]
    }
   ],
   "source": [
    "print_nate_news('사회')"
   ]
  },
  {
   "cell_type": "code",
   "execution_count": 56,
   "id": "63907c35",
   "metadata": {},
   "outputs": [
    {
     "name": "stdout",
     "output_type": "stream",
     "text": [
      "세계 뉴스 https://news.nate.com/section?mid=n0500\n"
     ]
    },
    {
     "data": {
      "text/html": [
       "<img src=\"https://thumbnews.nateimg.co.kr/news90///news.nateimg.co.kr/orgImg/jo/2025/07/23/ovp_289a312e-e55c-44f4-8931-22096a3b0cf0.jpg\"/>"
      ],
      "text/plain": [
       "<IPython.core.display.Image object>"
      ]
     },
     "metadata": {},
     "output_type": "display_data"
    },
    {
     "name": "stdout",
     "output_type": "stream",
     "text": [
      "760조 바치고 관세 10%P 깎은 日…韓도 -10%P가 마지노선? https://news.nate.com/view/20250723n18254?mid=n0500\n"
     ]
    },
    {
     "data": {
      "text/html": [
       "<img src=\"https://thumbnews.nateimg.co.kr/news90///news.nateimg.co.kr/orgImg/fn/2025/07/23/202507211616564001_l.jpg\"/>"
      ],
      "text/plain": [
       "<IPython.core.display.Image object>"
      ]
     },
     "metadata": {},
     "output_type": "display_data"
    },
    {
     "name": "stdout",
     "output_type": "stream",
     "text": [
      "마이니치 \"日이시바 총리, 내달 중 퇴진 공식 표명 방침\" https://news.nate.com/view/20250723n15436?mid=n0500\n"
     ]
    },
    {
     "data": {
      "text/html": [
       "<img src=\"https://thumbnews.nateimg.co.kr/news90///news.nateimg.co.kr/orgImg/at/2025/07/23/2025072301002181600130321.jpg\"/>"
      ],
      "text/plain": [
       "<IPython.core.display.Image object>"
      ]
     },
     "metadata": {},
     "output_type": "display_data"
    },
    {
     "name": "stdout",
     "output_type": "stream",
     "text": [
      "90대 전후 왕훙 잇따라 사망, 中 노년 SNS 유행 https://news.nate.com/view/20250723n03572?mid=n0500\n"
     ]
    },
    {
     "data": {
      "text/html": [
       "<img src=\"https://thumbnews.nateimg.co.kr/news90///news.nateimg.co.kr/orgImg/se/2025/07/23/2GVGL7XBNJ_1.jpg\"/>"
      ],
      "text/plain": [
       "<IPython.core.display.Image object>"
      ]
     },
     "metadata": {},
     "output_type": "display_data"
    },
    {
     "name": "stdout",
     "output_type": "stream",
     "text": [
      "\"크루아상 배달비만 70만원?\"…뉴욕 부자들 몰리는 '초고가 맞춤 택배' 뭐길래 https://news.nate.com/view/20250723n01093?mid=n0500\n"
     ]
    },
    {
     "data": {
      "text/html": [
       "<img src=\"https://thumbnews.nateimg.co.kr/news90///news.nateimg.co.kr/orgImg/se/2025/07/23/2GVGLJR7QF_1.jpg\"/>"
      ],
      "text/plain": [
       "<IPython.core.display.Image object>"
      ]
     },
     "metadata": {},
     "output_type": "display_data"
    },
    {
     "name": "stdout",
     "output_type": "stream",
     "text": [
      "\"우린 못 가서 난린데\"···의대 인기 급락했다는 '이 나라' 어디? [글로벌 왓] https://news.nate.com/view/20250723n02845?mid=n0500\n"
     ]
    },
    {
     "data": {
      "text/html": [
       "<img src=\"https://thumbnews.nateimg.co.kr/news90///news.nateimg.co.kr/orgImg/jt/2025/07/21/20250721162045943001.png\"/>"
      ],
      "text/plain": [
       "<IPython.core.display.Image object>"
      ]
     },
     "metadata": {},
     "output_type": "display_data"
    },
    {
     "name": "stdout",
     "output_type": "stream",
     "text": [
      "트럼프 \"미국 가장 존경받는 나라\"…6개월 돌아보니 '더 독해진 미국 우선' https://news.nate.com/view/20250721n28429?mid=n0500\n"
     ]
    },
    {
     "data": {
      "text/html": [
       "<img src=\"https://thumbnews.nateimg.co.kr/news90///news.nateimg.co.kr/orgImg/yn/2025/07/21/202507210733060065_t.jpg\"/>"
      ],
      "text/plain": [
       "<IPython.core.display.Image object>"
      ]
     },
     "metadata": {},
     "output_type": "display_data"
    },
    {
     "name": "stdout",
     "output_type": "stream",
     "text": [
      "[자막뉴스] 음식 가지러 왔는데…식량 대신 \"탱크들이 무자비 총격\" https://news.nate.com/view/20250721n03536?mid=n0500\n"
     ]
    },
    {
     "data": {
      "text/html": [
       "<img src=\"https://thumbnews.nateimg.co.kr/news90///news.nateimg.co.kr/orgImg/se/2025/07/17/2GVDVXA7ND_1.png\"/>"
      ],
      "text/plain": [
       "<IPython.core.display.Image object>"
      ]
     },
     "metadata": {},
     "output_type": "display_data"
    },
    {
     "name": "stdout",
     "output_type": "stream",
     "text": [
      "한국은 임시공휴일 고민하는데···\"쉬는 날 너무 많아\" 공휴일 줄이자는 '이 나라' https://news.nate.com/view/20250717n21403?mid=n0500\n"
     ]
    },
    {
     "data": {
      "text/html": [
       "<img src=\"https://thumbnews.nateimg.co.kr/news90///news.nateimg.co.kr/orgImg/mh/2025/07/16/news-p.v1.20250716.fd541fddb0f1401ba740751e207a64ca_P1.jpg\"/>"
      ],
      "text/plain": [
       "<IPython.core.display.Image object>"
      ]
     },
     "metadata": {},
     "output_type": "display_data"
    },
    {
     "name": "stdout",
     "output_type": "stream",
     "text": [
      "\"매우 심각\" \"수용 못해\" 종전 압박한 트럼프에 러시아 '발끈' https://news.nate.com/view/20250716n01978?mid=n0500\n"
     ]
    },
    {
     "data": {
      "text/html": [
       "<img src=\"https://thumbnews.nateimg.co.kr/news90///news.nateimg.co.kr/orgImg/jo/2025/07/16/45a2c10f-ce80-4cdf-87e0-67f9c7502284.jpg\"/>"
      ],
      "text/plain": [
       "<IPython.core.display.Image object>"
      ]
     },
     "metadata": {},
     "output_type": "display_data"
    },
    {
     "name": "stdout",
     "output_type": "stream",
     "text": [
      "젤렌스키에 \"무기주면 모스크바 칠 수 있나\" 했던 트럼프 \"수도는 안돼\" https://news.nate.com/view/20250716n02012?mid=n0500\n"
     ]
    }
   ],
   "source": [
    "print_nate_news('세계')"
   ]
  },
  {
   "cell_type": "code",
   "execution_count": 57,
   "id": "42f0b3c9",
   "metadata": {},
   "outputs": [
    {
     "name": "stdout",
     "output_type": "stream",
     "text": [
      "IT/과학 뉴스 https://news.nate.com/section?mid=n0600\n"
     ]
    },
    {
     "data": {
      "text/html": [
       "<img src=\"https://thumbnews.nateimg.co.kr/news90///news.nateimg.co.kr/orgImg/hk/2025/07/23/01.41200246.1.jpg\"/>"
      ],
      "text/plain": [
       "<IPython.core.display.Image object>"
      ]
     },
     "metadata": {},
     "output_type": "display_data"
    },
    {
     "name": "stdout",
     "output_type": "stream",
     "text": [
      "\"매일 저녁 막걸리 한 잔\"…'의사의 조언' 믿었는데 '발칵' [이슈+] https://news.nate.com/view/20250723n35523?mid=n0600\n"
     ]
    },
    {
     "data": {
      "text/html": [
       "<img src=\"https://thumbnews.nateimg.co.kr/news90///news.nateimg.co.kr/orgImg/hk/2025/07/23/01.41196326.1.jpg\"/>"
      ],
      "text/plain": [
       "<IPython.core.display.Image object>"
      ]
     },
     "metadata": {},
     "output_type": "display_data"
    },
    {
     "name": "stdout",
     "output_type": "stream",
     "text": [
      "\"보조금 늘면 통신사 바꿀래요\"…단통법 폐지 반기는 소비자들 https://news.nate.com/view/20250723n10379?mid=n0600\n"
     ]
    },
    {
     "data": {
      "text/html": [
       "<img src=\"https://thumbnews.nateimg.co.kr/news90///news.nateimg.co.kr/orgImg/hk/2025/07/23/ZK.40780104.1.jpg\"/>"
      ],
      "text/plain": [
       "<IPython.core.display.Image object>"
      ]
     },
     "metadata": {},
     "output_type": "display_data"
    },
    {
     "name": "stdout",
     "output_type": "stream",
     "text": [
      "기술만 베끼는 줄 알았더니…중국의 무서운 '전술' [AI 엑스파일] https://news.nate.com/view/20250723n02839?mid=n0600\n"
     ]
    },
    {
     "data": {
      "text/html": [
       "<img src=\"https://thumbnews.nateimg.co.kr/news90///news.nateimg.co.kr/orgImg/mh/2025/07/23/news-p.v1.20250722.8c7d351fa0174d00947f634ba56ee06b_P1.jpg\"/>"
      ],
      "text/plain": [
       "<IPython.core.display.Image object>"
      ]
     },
     "metadata": {},
     "output_type": "display_data"
    },
    {
     "name": "stdout",
     "output_type": "stream",
     "text": [
      "아이폰으로 버스·지하철 탄다…애플페이, T머니 지원 https://news.nate.com/view/20250723n00408?mid=n0600\n"
     ]
    },
    {
     "data": {
      "text/html": [
       "<img src=\"https://thumbnews.nateimg.co.kr/news90///news.nateimg.co.kr/orgImg/se/2025/07/23/2GVGLO28VK_2.png\"/>"
      ],
      "text/plain": [
       "<IPython.core.display.Image object>"
      ]
     },
     "metadata": {},
     "output_type": "display_data"
    },
    {
     "name": "stdout",
     "output_type": "stream",
     "text": [
      "\"아빠 알고리즘에 김어준만 떠요\"···유튜브판 장악한 진보 https://news.nate.com/view/20250723n02067?mid=n0600\n"
     ]
    }
   ],
   "source": [
    "print_nate_news('IT/과학')"
   ]
  },
  {
   "cell_type": "markdown",
   "id": "5aa0364d",
   "metadata": {},
   "source": [
    "#### 2-2. 하나의 네이버 웹툰과 1개의 회차에 대한 Image 다운로드 하기 (필수)"
   ]
  },
  {
   "cell_type": "markdown",
   "id": "5d2a7e01",
   "metadata": {},
   "source": [
    ":  하나의 웹툰의 제목(title)과 회차번호(no),회차의URL(url) 을 입력으로 받는 함수를 선언합니다. \n",
    "\n",
    "   def download_one_episode(title,no,url):\n",
    "\n",
    "아래와 같이 호출합니다.\n",
    "\n",
    "download_one_episode('일렉시드',341,'https://comic.naver.com/webtoon/detail?titleId=717481&no=341&week=wed')\n",
    "\n",
    "img\\일렉시드\\341 디렉토리가 생성되며 , \n",
    "\n",
    "그 디렉토리 아래에 웹툰 image들이 다운로드 되도록 해주세요."
   ]
  },
  {
   "cell_type": "code",
   "execution_count": 90,
   "id": "422b83b7",
   "metadata": {},
   "outputs": [],
   "source": [
    "import requests\n",
    "from bs4 import BeautifulSoup\n",
    "import os\n",
    "\n",
    "def download_one_episode(title,no,url):\n",
    "    req_header = {\n",
    "        'referer':url,\n",
    "        \"user-agent\": \"Mozilla/5.0 (Windows NT 10.0; Win64; x64) AppleWebKit/537.36 (KHTML, like Gecko) Chrome/104.0.0.0 Safari/537.36\"\n",
    "    }\n",
    "    imgdir_name = f'img/{title}/{no}'\n",
    "\n",
    "    # 이미지 저장 폴더가 없으면 생성\n",
    "    os.makedirs(imgdir_name, exist_ok=True)\n",
    "\n",
    "    # 웹 페이지 요청 및 확인\n",
    "    res = requests.get(url)\n",
    "    if not res.ok:\n",
    "        print(f'Error Code = {res.status_code}')\n",
    "        exit()\n",
    "\n",
    "    # 이미지 URL 추출\n",
    "    soup = BeautifulSoup(res.text, 'html.parser')\n",
    "    img_url_list = [img_tag['src'] for img_tag in soup.select(\"img[src*='IMAG01']\")]\n",
    "\n",
    "    # 이미지 다운로드\n",
    "    for img_url in img_url_list:\n",
    "        res = requests.get(img_url, headers=req_header)\n",
    "        if res.ok:\n",
    "            img_data = res.content\n",
    "            file_path = os.path.join(imgdir_name, os.path.basename(img_url))\n",
    "            with open(file_path, 'wb') as file:\n",
    "                print(f'Writing to {file_path} ({len(img_data):,} bytes)')\n",
    "                file.write(img_data)\n",
    "        else:\n",
    "            print(f'Error Code = {res.status_code} for {img_url}')"
   ]
  },
  {
   "cell_type": "code",
   "execution_count": 91,
   "id": "67d89c1a",
   "metadata": {},
   "outputs": [
    {
     "name": "stdout",
     "output_type": "stream",
     "text": [
      "Writing to img/일렉시드/341\\20250311184953_812848a288eb3e6ce6efe904abd0ef68_IMAG01_1.jpg (87,143 bytes)\n",
      "Writing to img/일렉시드/341\\20250311184953_812848a288eb3e6ce6efe904abd0ef68_IMAG01_2.jpg (256,127 bytes)\n",
      "Writing to img/일렉시드/341\\20250311184953_812848a288eb3e6ce6efe904abd0ef68_IMAG01_3.jpg (184,536 bytes)\n",
      "Writing to img/일렉시드/341\\20250311184953_812848a288eb3e6ce6efe904abd0ef68_IMAG01_4.jpg (182,867 bytes)\n",
      "Writing to img/일렉시드/341\\20250311184953_812848a288eb3e6ce6efe904abd0ef68_IMAG01_5.jpg (112,615 bytes)\n",
      "Writing to img/일렉시드/341\\20250311184953_812848a288eb3e6ce6efe904abd0ef68_IMAG01_6.jpg (169,889 bytes)\n",
      "Writing to img/일렉시드/341\\20250311184953_812848a288eb3e6ce6efe904abd0ef68_IMAG01_7.jpg (157,876 bytes)\n",
      "Writing to img/일렉시드/341\\20250311184953_812848a288eb3e6ce6efe904abd0ef68_IMAG01_8.jpg (181,837 bytes)\n",
      "Writing to img/일렉시드/341\\20250311184953_812848a288eb3e6ce6efe904abd0ef68_IMAG01_9.jpg (203,632 bytes)\n",
      "Writing to img/일렉시드/341\\20250311184953_812848a288eb3e6ce6efe904abd0ef68_IMAG01_10.jpg (113,543 bytes)\n",
      "Writing to img/일렉시드/341\\20250311184953_812848a288eb3e6ce6efe904abd0ef68_IMAG01_11.jpg (166,818 bytes)\n",
      "Writing to img/일렉시드/341\\20250311184953_812848a288eb3e6ce6efe904abd0ef68_IMAG01_12.jpg (196,171 bytes)\n",
      "Writing to img/일렉시드/341\\20250311184953_812848a288eb3e6ce6efe904abd0ef68_IMAG01_13.jpg (158,408 bytes)\n",
      "Writing to img/일렉시드/341\\20250311184953_812848a288eb3e6ce6efe904abd0ef68_IMAG01_14.jpg (203,525 bytes)\n",
      "Writing to img/일렉시드/341\\20250311184953_812848a288eb3e6ce6efe904abd0ef68_IMAG01_15.jpg (81,271 bytes)\n",
      "Writing to img/일렉시드/341\\20250311184953_812848a288eb3e6ce6efe904abd0ef68_IMAG01_16.jpg (171,092 bytes)\n",
      "Writing to img/일렉시드/341\\20250311184953_812848a288eb3e6ce6efe904abd0ef68_IMAG01_17.jpg (65,626 bytes)\n",
      "Writing to img/일렉시드/341\\20250311184953_812848a288eb3e6ce6efe904abd0ef68_IMAG01_18.jpg (135,215 bytes)\n",
      "Writing to img/일렉시드/341\\20250311184953_812848a288eb3e6ce6efe904abd0ef68_IMAG01_19.jpg (96,367 bytes)\n",
      "Writing to img/일렉시드/341\\20250311184953_812848a288eb3e6ce6efe904abd0ef68_IMAG01_20.jpg (139,925 bytes)\n",
      "Writing to img/일렉시드/341\\20250311184953_812848a288eb3e6ce6efe904abd0ef68_IMAG01_21.jpg (191,828 bytes)\n",
      "Writing to img/일렉시드/341\\20250311184953_812848a288eb3e6ce6efe904abd0ef68_IMAG01_22.jpg (211,389 bytes)\n",
      "Writing to img/일렉시드/341\\20250311184953_812848a288eb3e6ce6efe904abd0ef68_IMAG01_23.jpg (174,099 bytes)\n",
      "Writing to img/일렉시드/341\\20250311184953_812848a288eb3e6ce6efe904abd0ef68_IMAG01_24.jpg (187,978 bytes)\n",
      "Writing to img/일렉시드/341\\20250311184953_812848a288eb3e6ce6efe904abd0ef68_IMAG01_25.jpg (185,536 bytes)\n",
      "Writing to img/일렉시드/341\\20250311184953_812848a288eb3e6ce6efe904abd0ef68_IMAG01_26.jpg (286,246 bytes)\n",
      "Writing to img/일렉시드/341\\20250311184953_812848a288eb3e6ce6efe904abd0ef68_IMAG01_27.jpg (238,473 bytes)\n",
      "Writing to img/일렉시드/341\\20250311184953_812848a288eb3e6ce6efe904abd0ef68_IMAG01_28.jpg (148,309 bytes)\n",
      "Writing to img/일렉시드/341\\20250311184953_812848a288eb3e6ce6efe904abd0ef68_IMAG01_29.jpg (245,722 bytes)\n",
      "Writing to img/일렉시드/341\\20250311184953_812848a288eb3e6ce6efe904abd0ef68_IMAG01_30.jpg (232,985 bytes)\n",
      "Writing to img/일렉시드/341\\20250311184953_812848a288eb3e6ce6efe904abd0ef68_IMAG01_31.jpg (178,547 bytes)\n",
      "Writing to img/일렉시드/341\\20250311184953_812848a288eb3e6ce6efe904abd0ef68_IMAG01_32.jpg (176,348 bytes)\n",
      "Writing to img/일렉시드/341\\20250311184953_812848a288eb3e6ce6efe904abd0ef68_IMAG01_33.jpg (196,741 bytes)\n",
      "Writing to img/일렉시드/341\\20250311184953_812848a288eb3e6ce6efe904abd0ef68_IMAG01_34.jpg (232,565 bytes)\n",
      "Writing to img/일렉시드/341\\20250311184953_812848a288eb3e6ce6efe904abd0ef68_IMAG01_35.jpg (214,587 bytes)\n",
      "Writing to img/일렉시드/341\\20250311184953_812848a288eb3e6ce6efe904abd0ef68_IMAG01_36.jpg (137,502 bytes)\n",
      "Writing to img/일렉시드/341\\20250311184953_812848a288eb3e6ce6efe904abd0ef68_IMAG01_37.jpg (153,089 bytes)\n",
      "Writing to img/일렉시드/341\\20250311184953_812848a288eb3e6ce6efe904abd0ef68_IMAG01_38.jpg (250,210 bytes)\n",
      "Writing to img/일렉시드/341\\20250311184953_812848a288eb3e6ce6efe904abd0ef68_IMAG01_39.jpg (216,059 bytes)\n",
      "Writing to img/일렉시드/341\\20250311184953_812848a288eb3e6ce6efe904abd0ef68_IMAG01_40.jpg (203,977 bytes)\n",
      "Writing to img/일렉시드/341\\20250311184953_812848a288eb3e6ce6efe904abd0ef68_IMAG01_41.jpg (170,488 bytes)\n",
      "Writing to img/일렉시드/341\\20250311184953_812848a288eb3e6ce6efe904abd0ef68_IMAG01_42.jpg (150,868 bytes)\n",
      "Writing to img/일렉시드/341\\20250311184953_812848a288eb3e6ce6efe904abd0ef68_IMAG01_43.jpg (183,488 bytes)\n",
      "Writing to img/일렉시드/341\\20250311184953_812848a288eb3e6ce6efe904abd0ef68_IMAG01_44.jpg (205,269 bytes)\n",
      "Writing to img/일렉시드/341\\20250311184953_812848a288eb3e6ce6efe904abd0ef68_IMAG01_45.jpg (172,439 bytes)\n",
      "Writing to img/일렉시드/341\\20250311184953_812848a288eb3e6ce6efe904abd0ef68_IMAG01_46.jpg (179,258 bytes)\n",
      "Writing to img/일렉시드/341\\20250311184953_812848a288eb3e6ce6efe904abd0ef68_IMAG01_47.jpg (205,046 bytes)\n",
      "Writing to img/일렉시드/341\\20250311184953_812848a288eb3e6ce6efe904abd0ef68_IMAG01_48.jpg (196,106 bytes)\n",
      "Writing to img/일렉시드/341\\20250311184953_812848a288eb3e6ce6efe904abd0ef68_IMAG01_49.jpg (175,273 bytes)\n",
      "Writing to img/일렉시드/341\\20250311184953_812848a288eb3e6ce6efe904abd0ef68_IMAG01_50.jpg (320,751 bytes)\n",
      "Writing to img/일렉시드/341\\20250311184953_812848a288eb3e6ce6efe904abd0ef68_IMAG01_51.jpg (240,744 bytes)\n",
      "Writing to img/일렉시드/341\\20250311184953_812848a288eb3e6ce6efe904abd0ef68_IMAG01_52.jpg (158,821 bytes)\n",
      "Writing to img/일렉시드/341\\20250311184953_812848a288eb3e6ce6efe904abd0ef68_IMAG01_53.jpg (190,448 bytes)\n",
      "Writing to img/일렉시드/341\\20250311184953_812848a288eb3e6ce6efe904abd0ef68_IMAG01_54.jpg (156,224 bytes)\n",
      "Writing to img/일렉시드/341\\20250311184953_812848a288eb3e6ce6efe904abd0ef68_IMAG01_55.jpg (191,149 bytes)\n",
      "Writing to img/일렉시드/341\\20250311184953_812848a288eb3e6ce6efe904abd0ef68_IMAG01_56.jpg (137,781 bytes)\n",
      "Writing to img/일렉시드/341\\20250311184953_812848a288eb3e6ce6efe904abd0ef68_IMAG01_57.jpg (174,969 bytes)\n",
      "Writing to img/일렉시드/341\\20250311184953_812848a288eb3e6ce6efe904abd0ef68_IMAG01_58.jpg (169,813 bytes)\n",
      "Writing to img/일렉시드/341\\20250311184953_812848a288eb3e6ce6efe904abd0ef68_IMAG01_59.jpg (183,086 bytes)\n",
      "Writing to img/일렉시드/341\\20250311184953_812848a288eb3e6ce6efe904abd0ef68_IMAG01_60.jpg (191,297 bytes)\n",
      "Writing to img/일렉시드/341\\20250311184953_812848a288eb3e6ce6efe904abd0ef68_IMAG01_61.jpg (201,884 bytes)\n",
      "Writing to img/일렉시드/341\\20250311184953_812848a288eb3e6ce6efe904abd0ef68_IMAG01_62.jpg (186,718 bytes)\n",
      "Writing to img/일렉시드/341\\20250311184953_812848a288eb3e6ce6efe904abd0ef68_IMAG01_63.jpg (115,304 bytes)\n",
      "Writing to img/일렉시드/341\\20250311184953_812848a288eb3e6ce6efe904abd0ef68_IMAG01_64.jpg (239,910 bytes)\n",
      "Writing to img/일렉시드/341\\20250311184953_812848a288eb3e6ce6efe904abd0ef68_IMAG01_65.jpg (160,774 bytes)\n",
      "Writing to img/일렉시드/341\\20250311184953_812848a288eb3e6ce6efe904abd0ef68_IMAG01_66.jpg (188,427 bytes)\n",
      "Writing to img/일렉시드/341\\20250311184953_812848a288eb3e6ce6efe904abd0ef68_IMAG01_67.jpg (196,378 bytes)\n",
      "Writing to img/일렉시드/341\\20250311184953_812848a288eb3e6ce6efe904abd0ef68_IMAG01_68.jpg (195,161 bytes)\n",
      "Writing to img/일렉시드/341\\20250311184953_812848a288eb3e6ce6efe904abd0ef68_IMAG01_69.jpg (207,700 bytes)\n",
      "Writing to img/일렉시드/341\\20250311184953_812848a288eb3e6ce6efe904abd0ef68_IMAG01_70.jpg (191,109 bytes)\n",
      "Writing to img/일렉시드/341\\20250311184953_812848a288eb3e6ce6efe904abd0ef68_IMAG01_71.jpg (135,448 bytes)\n",
      "Writing to img/일렉시드/341\\20250311184953_812848a288eb3e6ce6efe904abd0ef68_IMAG01_72.jpg (254,244 bytes)\n",
      "Writing to img/일렉시드/341\\20250311184953_812848a288eb3e6ce6efe904abd0ef68_IMAG01_73.jpg (190,447 bytes)\n",
      "Writing to img/일렉시드/341\\20250311184953_812848a288eb3e6ce6efe904abd0ef68_IMAG01_74.jpg (140,545 bytes)\n",
      "Writing to img/일렉시드/341\\20250311184953_812848a288eb3e6ce6efe904abd0ef68_IMAG01_75.jpg (90,130 bytes)\n",
      "Writing to img/일렉시드/341\\20250311184953_812848a288eb3e6ce6efe904abd0ef68_IMAG01_76.jpg (194,086 bytes)\n",
      "Writing to img/일렉시드/341\\20250311184953_812848a288eb3e6ce6efe904abd0ef68_IMAG01_77.jpg (189,616 bytes)\n",
      "Writing to img/일렉시드/341\\20250311184953_812848a288eb3e6ce6efe904abd0ef68_IMAG01_78.jpg (244,264 bytes)\n",
      "Writing to img/일렉시드/341\\20250311184953_812848a288eb3e6ce6efe904abd0ef68_IMAG01_79.jpg (226,750 bytes)\n",
      "Writing to img/일렉시드/341\\20250311184953_812848a288eb3e6ce6efe904abd0ef68_IMAG01_80.jpg (73,608 bytes)\n",
      "Writing to img/일렉시드/341\\20250311184953_812848a288eb3e6ce6efe904abd0ef68_IMAG01_81.jpg (175,437 bytes)\n",
      "Writing to img/일렉시드/341\\20250311184953_812848a288eb3e6ce6efe904abd0ef68_IMAG01_82.jpg (141,961 bytes)\n",
      "Writing to img/일렉시드/341\\20250311184953_812848a288eb3e6ce6efe904abd0ef68_IMAG01_83.jpg (145,494 bytes)\n",
      "Writing to img/일렉시드/341\\20250311184953_812848a288eb3e6ce6efe904abd0ef68_IMAG01_84.jpg (121,081 bytes)\n",
      "Writing to img/일렉시드/341\\20250311184953_812848a288eb3e6ce6efe904abd0ef68_IMAG01_85.jpg (148,191 bytes)\n",
      "Writing to img/일렉시드/341\\20250311184953_812848a288eb3e6ce6efe904abd0ef68_IMAG01_86.jpg (186,055 bytes)\n",
      "Writing to img/일렉시드/341\\20250311184953_812848a288eb3e6ce6efe904abd0ef68_IMAG01_87.jpg (170,532 bytes)\n",
      "Writing to img/일렉시드/341\\20250311184953_812848a288eb3e6ce6efe904abd0ef68_IMAG01_88.jpg (99,449 bytes)\n"
     ]
    }
   ],
   "source": [
    "download_one_episode('일렉시드',341,'https://comic.naver.com/webtoon/detail?titleId=717481&no=341&week=wed')"
   ]
  },
  {
   "cell_type": "code",
   "execution_count": 93,
   "id": "1a4c5b91",
   "metadata": {},
   "outputs": [
    {
     "name": "stdout",
     "output_type": "stream",
     "text": [
      "Writing to img/역대급 영지 설계사/190\\20250605221538_5aff3380c3d32b6d6cc6487c342294fb_IMAG01_1.jpg (130,465 bytes)\n",
      "Writing to img/역대급 영지 설계사/190\\20250605221538_5aff3380c3d32b6d6cc6487c342294fb_IMAG01_2.jpg (201,626 bytes)\n",
      "Writing to img/역대급 영지 설계사/190\\20250605221538_5aff3380c3d32b6d6cc6487c342294fb_IMAG01_3.jpg (261,685 bytes)\n",
      "Writing to img/역대급 영지 설계사/190\\20250605221538_5aff3380c3d32b6d6cc6487c342294fb_IMAG01_4.jpg (186,659 bytes)\n",
      "Writing to img/역대급 영지 설계사/190\\20250605221538_5aff3380c3d32b6d6cc6487c342294fb_IMAG01_5.jpg (136,388 bytes)\n",
      "Writing to img/역대급 영지 설계사/190\\20250605221538_5aff3380c3d32b6d6cc6487c342294fb_IMAG01_6.jpg (207,759 bytes)\n",
      "Writing to img/역대급 영지 설계사/190\\20250605221538_5aff3380c3d32b6d6cc6487c342294fb_IMAG01_7.jpg (129,560 bytes)\n",
      "Writing to img/역대급 영지 설계사/190\\20250605221538_5aff3380c3d32b6d6cc6487c342294fb_IMAG01_8.jpg (225,156 bytes)\n",
      "Writing to img/역대급 영지 설계사/190\\20250605221538_5aff3380c3d32b6d6cc6487c342294fb_IMAG01_9.jpg (164,836 bytes)\n",
      "Writing to img/역대급 영지 설계사/190\\20250605221538_5aff3380c3d32b6d6cc6487c342294fb_IMAG01_10.jpg (223,165 bytes)\n",
      "Writing to img/역대급 영지 설계사/190\\20250605221538_5aff3380c3d32b6d6cc6487c342294fb_IMAG01_11.jpg (220,300 bytes)\n",
      "Writing to img/역대급 영지 설계사/190\\20250605221538_5aff3380c3d32b6d6cc6487c342294fb_IMAG01_12.jpg (197,733 bytes)\n",
      "Writing to img/역대급 영지 설계사/190\\20250605221538_5aff3380c3d32b6d6cc6487c342294fb_IMAG01_13.jpg (136,458 bytes)\n",
      "Writing to img/역대급 영지 설계사/190\\20250605221538_5aff3380c3d32b6d6cc6487c342294fb_IMAG01_14.jpg (169,881 bytes)\n",
      "Writing to img/역대급 영지 설계사/190\\20250605221538_5aff3380c3d32b6d6cc6487c342294fb_IMAG01_15.jpg (117,930 bytes)\n",
      "Writing to img/역대급 영지 설계사/190\\20250605221538_5aff3380c3d32b6d6cc6487c342294fb_IMAG01_16.jpg (214,105 bytes)\n",
      "Writing to img/역대급 영지 설계사/190\\20250605221538_5aff3380c3d32b6d6cc6487c342294fb_IMAG01_17.jpg (160,671 bytes)\n",
      "Writing to img/역대급 영지 설계사/190\\20250605221538_5aff3380c3d32b6d6cc6487c342294fb_IMAG01_18.jpg (229,117 bytes)\n",
      "Writing to img/역대급 영지 설계사/190\\20250605221538_5aff3380c3d32b6d6cc6487c342294fb_IMAG01_19.jpg (170,909 bytes)\n",
      "Writing to img/역대급 영지 설계사/190\\20250605221538_5aff3380c3d32b6d6cc6487c342294fb_IMAG01_20.jpg (231,170 bytes)\n",
      "Writing to img/역대급 영지 설계사/190\\20250605221538_5aff3380c3d32b6d6cc6487c342294fb_IMAG01_21.jpg (253,409 bytes)\n",
      "Writing to img/역대급 영지 설계사/190\\20250605221538_5aff3380c3d32b6d6cc6487c342294fb_IMAG01_22.jpg (188,373 bytes)\n",
      "Writing to img/역대급 영지 설계사/190\\20250605221538_5aff3380c3d32b6d6cc6487c342294fb_IMAG01_23.jpg (243,690 bytes)\n",
      "Writing to img/역대급 영지 설계사/190\\20250605221538_5aff3380c3d32b6d6cc6487c342294fb_IMAG01_24.jpg (277,024 bytes)\n",
      "Writing to img/역대급 영지 설계사/190\\20250605221538_5aff3380c3d32b6d6cc6487c342294fb_IMAG01_25.jpg (215,527 bytes)\n",
      "Writing to img/역대급 영지 설계사/190\\20250605221538_5aff3380c3d32b6d6cc6487c342294fb_IMAG01_26.jpg (144,582 bytes)\n",
      "Writing to img/역대급 영지 설계사/190\\20250605221538_5aff3380c3d32b6d6cc6487c342294fb_IMAG01_27.jpg (151,613 bytes)\n",
      "Writing to img/역대급 영지 설계사/190\\20250605221538_5aff3380c3d32b6d6cc6487c342294fb_IMAG01_28.jpg (198,322 bytes)\n",
      "Writing to img/역대급 영지 설계사/190\\20250605221538_5aff3380c3d32b6d6cc6487c342294fb_IMAG01_29.jpg (188,614 bytes)\n",
      "Writing to img/역대급 영지 설계사/190\\20250605221538_5aff3380c3d32b6d6cc6487c342294fb_IMAG01_30.jpg (217,467 bytes)\n",
      "Writing to img/역대급 영지 설계사/190\\20250605221538_5aff3380c3d32b6d6cc6487c342294fb_IMAG01_31.jpg (165,642 bytes)\n",
      "Writing to img/역대급 영지 설계사/190\\20250605221538_5aff3380c3d32b6d6cc6487c342294fb_IMAG01_32.jpg (161,654 bytes)\n",
      "Writing to img/역대급 영지 설계사/190\\20250605221538_5aff3380c3d32b6d6cc6487c342294fb_IMAG01_33.jpg (250,117 bytes)\n",
      "Writing to img/역대급 영지 설계사/190\\20250605221538_5aff3380c3d32b6d6cc6487c342294fb_IMAG01_34.jpg (242,559 bytes)\n",
      "Writing to img/역대급 영지 설계사/190\\20250605221538_5aff3380c3d32b6d6cc6487c342294fb_IMAG01_35.jpg (175,071 bytes)\n",
      "Writing to img/역대급 영지 설계사/190\\20250605221538_5aff3380c3d32b6d6cc6487c342294fb_IMAG01_36.jpg (214,527 bytes)\n",
      "Writing to img/역대급 영지 설계사/190\\20250605221538_5aff3380c3d32b6d6cc6487c342294fb_IMAG01_37.jpg (181,776 bytes)\n",
      "Writing to img/역대급 영지 설계사/190\\20250605221538_5aff3380c3d32b6d6cc6487c342294fb_IMAG01_38.jpg (194,238 bytes)\n",
      "Writing to img/역대급 영지 설계사/190\\20250605221538_5aff3380c3d32b6d6cc6487c342294fb_IMAG01_39.jpg (189,950 bytes)\n",
      "Writing to img/역대급 영지 설계사/190\\20250605221538_5aff3380c3d32b6d6cc6487c342294fb_IMAG01_40.jpg (190,248 bytes)\n",
      "Writing to img/역대급 영지 설계사/190\\20250605221538_5aff3380c3d32b6d6cc6487c342294fb_IMAG01_41.jpg (163,346 bytes)\n",
      "Writing to img/역대급 영지 설계사/190\\20250605221538_5aff3380c3d32b6d6cc6487c342294fb_IMAG01_42.jpg (152,169 bytes)\n",
      "Writing to img/역대급 영지 설계사/190\\20250605221538_5aff3380c3d32b6d6cc6487c342294fb_IMAG01_43.jpg (186,493 bytes)\n",
      "Writing to img/역대급 영지 설계사/190\\20250605221538_5aff3380c3d32b6d6cc6487c342294fb_IMAG01_44.jpg (193,470 bytes)\n",
      "Writing to img/역대급 영지 설계사/190\\20250605221538_5aff3380c3d32b6d6cc6487c342294fb_IMAG01_45.jpg (183,746 bytes)\n",
      "Writing to img/역대급 영지 설계사/190\\20250605221538_5aff3380c3d32b6d6cc6487c342294fb_IMAG01_46.jpg (151,392 bytes)\n",
      "Writing to img/역대급 영지 설계사/190\\20250605221538_5aff3380c3d32b6d6cc6487c342294fb_IMAG01_47.jpg (173,354 bytes)\n",
      "Writing to img/역대급 영지 설계사/190\\20250605221538_5aff3380c3d32b6d6cc6487c342294fb_IMAG01_48.jpg (159,538 bytes)\n",
      "Writing to img/역대급 영지 설계사/190\\20250605221538_5aff3380c3d32b6d6cc6487c342294fb_IMAG01_49.jpg (170,246 bytes)\n",
      "Writing to img/역대급 영지 설계사/190\\20250605221538_5aff3380c3d32b6d6cc6487c342294fb_IMAG01_50.jpg (103,946 bytes)\n",
      "Writing to img/역대급 영지 설계사/190\\20250605221538_5aff3380c3d32b6d6cc6487c342294fb_IMAG01_51.jpg (150,885 bytes)\n",
      "Writing to img/역대급 영지 설계사/190\\20250605221538_5aff3380c3d32b6d6cc6487c342294fb_IMAG01_52.jpg (158,096 bytes)\n",
      "Writing to img/역대급 영지 설계사/190\\20250605221538_5aff3380c3d32b6d6cc6487c342294fb_IMAG01_53.jpg (217,199 bytes)\n",
      "Writing to img/역대급 영지 설계사/190\\20250605221538_5aff3380c3d32b6d6cc6487c342294fb_IMAG01_54.jpg (228,530 bytes)\n",
      "Writing to img/역대급 영지 설계사/190\\20250605221538_5aff3380c3d32b6d6cc6487c342294fb_IMAG01_55.jpg (240,139 bytes)\n",
      "Writing to img/역대급 영지 설계사/190\\20250605221538_5aff3380c3d32b6d6cc6487c342294fb_IMAG01_56.jpg (181,287 bytes)\n",
      "Writing to img/역대급 영지 설계사/190\\20250605221538_5aff3380c3d32b6d6cc6487c342294fb_IMAG01_57.jpg (176,605 bytes)\n",
      "Writing to img/역대급 영지 설계사/190\\20250605221538_5aff3380c3d32b6d6cc6487c342294fb_IMAG01_58.jpg (119,993 bytes)\n",
      "Writing to img/역대급 영지 설계사/190\\20250605221538_5aff3380c3d32b6d6cc6487c342294fb_IMAG01_59.jpg (159,939 bytes)\n",
      "Writing to img/역대급 영지 설계사/190\\20250605221538_5aff3380c3d32b6d6cc6487c342294fb_IMAG01_60.jpg (172,410 bytes)\n",
      "Writing to img/역대급 영지 설계사/190\\20250605221538_5aff3380c3d32b6d6cc6487c342294fb_IMAG01_61.jpg (166,126 bytes)\n",
      "Writing to img/역대급 영지 설계사/190\\20250605221538_5aff3380c3d32b6d6cc6487c342294fb_IMAG01_62.jpg (150,750 bytes)\n",
      "Writing to img/역대급 영지 설계사/190\\20250605221538_5aff3380c3d32b6d6cc6487c342294fb_IMAG01_63.jpg (173,849 bytes)\n",
      "Writing to img/역대급 영지 설계사/190\\20250605221538_5aff3380c3d32b6d6cc6487c342294fb_IMAG01_64.jpg (189,558 bytes)\n",
      "Writing to img/역대급 영지 설계사/190\\20250605221538_5aff3380c3d32b6d6cc6487c342294fb_IMAG01_65.jpg (156,966 bytes)\n",
      "Writing to img/역대급 영지 설계사/190\\20250605221538_5aff3380c3d32b6d6cc6487c342294fb_IMAG01_66.jpg (158,148 bytes)\n",
      "Writing to img/역대급 영지 설계사/190\\20250605221538_5aff3380c3d32b6d6cc6487c342294fb_IMAG01_67.jpg (174,915 bytes)\n",
      "Writing to img/역대급 영지 설계사/190\\20250605221538_5aff3380c3d32b6d6cc6487c342294fb_IMAG01_68.jpg (152,808 bytes)\n",
      "Writing to img/역대급 영지 설계사/190\\20250605221538_5aff3380c3d32b6d6cc6487c342294fb_IMAG01_69.jpg (155,439 bytes)\n",
      "Writing to img/역대급 영지 설계사/190\\20250605221538_5aff3380c3d32b6d6cc6487c342294fb_IMAG01_70.jpg (187,186 bytes)\n",
      "Writing to img/역대급 영지 설계사/190\\20250605221538_5aff3380c3d32b6d6cc6487c342294fb_IMAG01_71.jpg (201,221 bytes)\n",
      "Writing to img/역대급 영지 설계사/190\\20250605221538_5aff3380c3d32b6d6cc6487c342294fb_IMAG01_72.jpg (215,619 bytes)\n",
      "Writing to img/역대급 영지 설계사/190\\20250605221538_5aff3380c3d32b6d6cc6487c342294fb_IMAG01_73.jpg (126,906 bytes)\n",
      "Writing to img/역대급 영지 설계사/190\\20250605221538_5aff3380c3d32b6d6cc6487c342294fb_IMAG01_74.jpg (231,719 bytes)\n",
      "Writing to img/역대급 영지 설계사/190\\20250605221538_5aff3380c3d32b6d6cc6487c342294fb_IMAG01_75.jpg (149,320 bytes)\n",
      "Writing to img/역대급 영지 설계사/190\\20250605221538_5aff3380c3d32b6d6cc6487c342294fb_IMAG01_76.jpg (99,397 bytes)\n",
      "Writing to img/역대급 영지 설계사/190\\20250605221538_5aff3380c3d32b6d6cc6487c342294fb_IMAG01_77.jpg (160,207 bytes)\n",
      "Writing to img/역대급 영지 설계사/190\\20250605221538_5aff3380c3d32b6d6cc6487c342294fb_IMAG01_78.jpg (127,267 bytes)\n",
      "Writing to img/역대급 영지 설계사/190\\20250605221538_5aff3380c3d32b6d6cc6487c342294fb_IMAG01_79.jpg (136,323 bytes)\n",
      "Writing to img/역대급 영지 설계사/190\\20250605221538_5aff3380c3d32b6d6cc6487c342294fb_IMAG01_80.jpg (150,167 bytes)\n",
      "Writing to img/역대급 영지 설계사/190\\20250605221538_5aff3380c3d32b6d6cc6487c342294fb_IMAG01_81.jpg (205,521 bytes)\n",
      "Writing to img/역대급 영지 설계사/190\\20250605221538_5aff3380c3d32b6d6cc6487c342294fb_IMAG01_82.jpg (148,670 bytes)\n",
      "Writing to img/역대급 영지 설계사/190\\20250605221538_5aff3380c3d32b6d6cc6487c342294fb_IMAG01_83.jpg (156,811 bytes)\n",
      "Writing to img/역대급 영지 설계사/190\\20250605221538_5aff3380c3d32b6d6cc6487c342294fb_IMAG01_84.jpg (120,407 bytes)\n",
      "Writing to img/역대급 영지 설계사/190\\20250605221538_5aff3380c3d32b6d6cc6487c342294fb_IMAG01_85.jpg (125,520 bytes)\n",
      "Writing to img/역대급 영지 설계사/190\\20250605221538_5aff3380c3d32b6d6cc6487c342294fb_IMAG01_86.jpg (99,603 bytes)\n",
      "Writing to img/역대급 영지 설계사/190\\20250605221538_5aff3380c3d32b6d6cc6487c342294fb_IMAG01_87.jpg (211,865 bytes)\n",
      "Writing to img/역대급 영지 설계사/190\\20250605221538_5aff3380c3d32b6d6cc6487c342294fb_IMAG01_88.jpg (199,350 bytes)\n",
      "Writing to img/역대급 영지 설계사/190\\20250605221538_5aff3380c3d32b6d6cc6487c342294fb_IMAG01_89.jpg (188,471 bytes)\n",
      "Writing to img/역대급 영지 설계사/190\\20250605221538_5aff3380c3d32b6d6cc6487c342294fb_IMAG01_90.jpg (50,668 bytes)\n",
      "Writing to img/역대급 영지 설계사/190\\20250605221538_5aff3380c3d32b6d6cc6487c342294fb_IMAG01_91.jpg (100,778 bytes)\n",
      "Writing to img/역대급 영지 설계사/190\\20250605221538_5aff3380c3d32b6d6cc6487c342294fb_IMAG01_92.jpg (232,787 bytes)\n",
      "Writing to img/역대급 영지 설계사/190\\20250605221538_5aff3380c3d32b6d6cc6487c342294fb_IMAG01_93.jpg (30,860 bytes)\n"
     ]
    }
   ],
   "source": [
    "download_one_episode('역대급 영지 설계사',190,'https://comic.naver.com/webtoon/detail?titleId=777767&no=195&week=fri')"
   ]
  }
 ],
 "metadata": {
  "kernelspec": {
   "display_name": "base",
   "language": "python",
   "name": "python3"
  },
  "language_info": {
   "codemirror_mode": {
    "name": "ipython",
    "version": 3
   },
   "file_extension": ".py",
   "mimetype": "text/x-python",
   "name": "python",
   "nbconvert_exporter": "python",
   "pygments_lexer": "ipython3",
   "version": "3.12.7"
  }
 },
 "nbformat": 4,
 "nbformat_minor": 5
}
