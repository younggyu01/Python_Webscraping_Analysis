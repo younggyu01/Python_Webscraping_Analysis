{
 "cells": [
  {
   "cell_type": "markdown",
   "id": "0376f016",
   "metadata": {},
   "source": [
    "## 1. 웹스크래핑 연습문제\n",
    "- 1-1. Daum 뉴스기사 제목 스크래핑하기"
   ]
  },
  {
   "cell_type": "markdown",
   "id": "e79326a3",
   "metadata": {},
   "source": [
    "질문1 :  아래의 url에서 뉴스기사의 링크와 제목을 출력하세요."
   ]
  },
  {
   "cell_type": "code",
   "execution_count": 32,
   "id": "1ebab02b",
   "metadata": {},
   "outputs": [],
   "source": [
    "url = 'https://news.daum.net/economy'"
   ]
  },
  {
   "cell_type": "code",
   "execution_count": 33,
   "id": "1c8f1a9c",
   "metadata": {},
   "outputs": [],
   "source": [
    "# reqeusts, bs4 import\n",
    "import requests\n",
    "# BeautifulSoup import\n",
    "import bs4\n",
    "# BeautifulSoup 클래스 import\n",
    "from bs4 import BeautifulSoup"
   ]
  },
  {
   "cell_type": "code",
   "execution_count": 52,
   "id": "d7caa0c6",
   "metadata": {},
   "outputs": [
    {
     "name": "stdout",
     "output_type": "stream",
     "text": [
      "https://news.daum.net/economy\n",
      "<class 'requests.models.Response'>\n",
      "200\n",
      "<class 'bs4.element.Tag'> 9\n",
      "https://v.daum.net/v/20250722210317765 \"\n",
      "\" 韓 반도체는 깨어날 줄 모르고 [AI 칩 전쟁…한국은 없다?]\n",
      "https://v.daum.net/v/20250722204242273 \"\n",
      "\" 소비쿠폰 쓰려다가 '화들짝'…\"여기서는 못써요\" 응답에 '당황'한 소비자\n",
      "https://v.daum.net/v/20250722202007801 \"\n",
      "\" ‘해수부 부산 시대’ 조선·해양플랜트까지 업무 넓혀야\n",
      "https://v.daum.net/v/20250722200357366 \"\n",
      "\" [이슈대담] “2040년 석탄화력발전소 폐쇄…신재생 에너지 전환”\n",
      "https://v.daum.net/v/20250722190900992 \"\n",
      "\" 경제통상 외교수장들, 대거 미국행... 관세 타결·한미정상회담 열릴까\n",
      "https://v.daum.net/v/20250722185103483 \"\n",
      "\" 퇴근하면 시작된다...유통업계 다시 불붙은 '6시 쇼핑' 전쟁\n",
      "https://v.daum.net/v/20250722183143976 \"\n",
      "\" “자율주행, 이동약자 지원하는 ‘공공성’에 초점 맞춰야”\n",
      "https://v.daum.net/v/20250722181057244 \"\n",
      "\" 꾸준히 강세 흐름 보이는 메이저 알트코인들 : 코리안 크립토 위클리 [INFCL 리서치]\n",
      "https://v.daum.net/v/20250722175548581 \"\n",
      "\" 세계시장 제패한 K뷰티·푸드…'첨단' 아니라며 R&D지원은 쥐꼬리\n"
     ]
    }
   ],
   "source": [
    "url = 'https://news.daum.net/economy'\n",
    "\n",
    "# 요청 헤더 설정 : 브라우저 정보\n",
    "req_header = {\n",
    "    \"user-agent\": \"Mozilla/5.0 (Windows NT 10.0; Win64; x64) AppleWebKit/537.36 (KHTML, like Gecko) Chrome/104.0.0.0 Safari/537.36\"\n",
    "}\n",
    "\n",
    "# requests 의 get() 함수 호출하기 \n",
    "res = requests.get(url, headers=req_header)\n",
    "\n",
    "print(url)\n",
    "print(type(res))\n",
    "print(res.status_code)\n",
    "print(type(a_tag), len(soup.select('ul.list_newsheadline2 li')))\n",
    "\n",
    "# 응답(response)이 OK 이면 응답(response)에서 text 추출\n",
    "if res.ok:\n",
    "    res.encoding = 'utf-8'\n",
    "    html = res.text\n",
    "    soup = BeautifulSoup(html, \"html.parser\")\n",
    "    for li_tag in soup.select('ul.list_newsheadline2 li'):\n",
    "        a_tag = li_tag.find('a')\n",
    "        if a_tag.text:\n",
    "            link = a_tag['href']\t\n",
    "            strong_tag = li_tag.select_one('div.cont_thumb strong.tit_txt')\n",
    "            title = strong_tag.text\n",
    "            print(f'{link} \"\\n\" {title}')\n",
    "\n",
    "else:\n",
    "    print(f'Error Code = {res.status_code}')\n",
    "\n",
    "        \n"
   ]
  },
  {
   "cell_type": "markdown",
   "id": "1ea8f7f5",
   "metadata": {},
   "source": [
    "## 질문2:  여러개의 section 중 하나를 선택해서 url에서 뉴스기사의 링크와 제목을 출력하는 코드를 함수로 작성하기"
   ]
  },
  {
   "cell_type": "code",
   "execution_count": 60,
   "id": "714a3102",
   "metadata": {},
   "outputs": [],
   "source": [
    "# 홈 URL\n",
    "url_home = 'https://news.daum.net/home'\n",
    "# 기후/환경 뉴스 URL\n",
    "url_climate = 'https://news.daum.net/climate'\n",
    "# 사회 뉴스 URL\n",
    "url_society = 'https://news.daum.net/society'\n",
    "# 경제 뉴스 URL\n",
    "url_economy = 'https://news.daum.net/economy'\n",
    "# 정치 뉴스 URL\n",
    "url_politics = 'https://news.daum.net/politics'\n",
    "# 국제 뉴스 URL\n",
    "url_world = 'https://news.daum.net/world'\n",
    "# 문화 뉴스 URL\n",
    "url_culture = 'https://news.daum.net/culture'\n",
    "# 생활 뉴스 URL\n",
    "url_life = 'https://news.daum.net/life'\n",
    "# IT/과학 뉴스 URL\n",
    "url_tech = 'https://news.daum.net/tech'\n",
    "# 인물 URL\n",
    "url_people = 'https://news.daum.net/people'\n",
    "\n",
    "\n",
    "section_dict = {'홈':'home','기후/환경':'climate','사회':'society','경제':'economy','정치':'politics',\n",
    "                '국제':'world','문화':'culture','생활':'life','IT/과학':'tech','인물':'people'}\n",
    "\n",
    "# 함수선언\n",
    "def print_news(section):\n",
    "    category = section_dict[section]\n",
    "    url = f'https://news.daum.net/{category}'\n",
    "    print(f'======> {url} {section} 뉴스 <======')\n",
    "\t\n",
    "    # 요청 헤더 설정 : 브라우저 정보\n",
    "    req_header = {\n",
    "        \"user-agent\": \"Mozilla/5.0 (Windows NT 10.0; Win64; x64) AppleWebKit/537.36 (KHTML, like Gecko) Chrome/104.0.0.0 Safari/537.36\"\n",
    "    }\n",
    "    # requests 의 get() 함수 호출하기 \n",
    "    res = requests.get(url, headers=req_header)\n",
    "\n",
    "    # 응답(response)이 OK 이면 응답(response)에서 text 추출\n",
    "    if res.ok:\n",
    "        res.encoding = 'utf-8'\n",
    "        html = res.text\n",
    "        soup = BeautifulSoup(html, \"html.parser\")\n",
    "        for li_tag in soup.select('ul.list_newsheadline2 li'):\n",
    "            a_tag = li_tag.find('a')\n",
    "            if a_tag.text:\n",
    "                link = a_tag['href']\t\n",
    "                strong_tag = li_tag.select_one('div.cont_thumb strong.tit_txt')\n",
    "                title = strong_tag.text\n",
    "                print(f'{link} \"\\n\" {title}')\n",
    "\n",
    "    else:\n",
    "        print(f'Error Code = {res.status_code}')\n",
    "\t"
   ]
  },
  {
   "cell_type": "code",
   "execution_count": 61,
   "id": "9882b4c1",
   "metadata": {},
   "outputs": [
    {
     "name": "stdout",
     "output_type": "stream",
     "text": [
      "======> https://news.daum.net/economy 경제 뉴스 <======\n",
      "https://v.daum.net/v/20250722210317765 \"\n",
      "\" 韓 반도체는 깨어날 줄 모르고 [AI 칩 전쟁…한국은 없다?]\n",
      "https://v.daum.net/v/20250722204242273 \"\n",
      "\" 소비쿠폰 쓰려다가 '화들짝'…\"여기서는 못써요\" 응답에 '당황'한 소비자\n",
      "https://v.daum.net/v/20250722202007801 \"\n",
      "\" ‘해수부 부산 시대’ 조선·해양플랜트까지 업무 넓혀야\n",
      "https://v.daum.net/v/20250722200357366 \"\n",
      "\" [이슈대담] “2040년 석탄화력발전소 폐쇄…신재생 에너지 전환”\n",
      "https://v.daum.net/v/20250722190900992 \"\n",
      "\" 경제통상 외교수장들, 대거 미국행... 관세 타결·한미정상회담 열릴까\n",
      "https://v.daum.net/v/20250722185103483 \"\n",
      "\" 퇴근하면 시작된다...유통업계 다시 불붙은 '6시 쇼핑' 전쟁\n",
      "https://v.daum.net/v/20250722183143976 \"\n",
      "\" “자율주행, 이동약자 지원하는 ‘공공성’에 초점 맞춰야”\n",
      "https://v.daum.net/v/20250722181057244 \"\n",
      "\" 꾸준히 강세 흐름 보이는 메이저 알트코인들 : 코리안 크립토 위클리 [INFCL 리서치]\n",
      "https://v.daum.net/v/20250722175548581 \"\n",
      "\" 세계시장 제패한 K뷰티·푸드…'첨단' 아니라며 R&D지원은 쥐꼬리\n"
     ]
    }
   ],
   "source": [
    "print_news('경제')"
   ]
  },
  {
   "cell_type": "code",
   "execution_count": 63,
   "id": "b32b3824",
   "metadata": {},
   "outputs": [
    {
     "name": "stdout",
     "output_type": "stream",
     "text": [
      "======> https://news.daum.net/society 사회 뉴스 <======\n",
      "https://v.daum.net/v/20250722214226532 \"\n",
      "\" [호우 피해 합천 가회면 가보니] 수마 휩쓸고 간 마을, 쓰레기밭으로 변했다\n",
      "https://v.daum.net/v/20250722213920464 \"\n",
      "\" 2043년 대학 신입생 절반도 못 채운다…입학자원 급감 '경고등'\n",
      "https://v.daum.net/v/20250722213017302 \"\n",
      "\" [28] ‘모란이 피기까지는’...김영랑은 항일 저항시인이었다. [광주전남독립운동현장 50]\n",
      "https://v.daum.net/v/20250722210541832 \"\n",
      "\" 760억 등친 '수원 왕회장' 숨은 재산 추적…감옥서도 돈벌이, 피해자 두 번 울린 전세사기단\n",
      "https://v.daum.net/v/20250722210344774 \"\n",
      "\" “×× 시청인데요, 물품 대리납품 좀…” 전국 공무원 사칭 사기 주의!!\n",
      "https://v.daum.net/v/20250722205947653 \"\n",
      "\" 의대생 복귀 방안 협의 막바지…반대 국민청원은 5만 돌파\n",
      "https://v.daum.net/v/20250722205117470 \"\n",
      "\" [밀착카메라] 장마엔 젖어서, 폭염엔 더워서…안전 위험한 '폐지 어르신'\n",
      "https://v.daum.net/v/20250722204626341 \"\n",
      "\" [호국의 성지 남해 관음포]삼별초는 왜 남해로 향했나\n",
      "https://v.daum.net/v/20250722204505326 \"\n",
      "\" “800억 어디서 구하나” 부산오페라하우스 발등의 불\n"
     ]
    }
   ],
   "source": [
    "print_news('사회')"
   ]
  },
  {
   "cell_type": "code",
   "execution_count": 64,
   "id": "d335121d",
   "metadata": {},
   "outputs": [
    {
     "name": "stdout",
     "output_type": "stream",
     "text": [
      "======> https://news.daum.net/home 홈 뉴스 <======\n",
      "https://v.daum.net/v/20250722211005937 \"\n",
      "\" 가평 캠핑장 참변 가족 수색 사흘째…실종자 수색·복구 총력전\n",
      "https://v.daum.net/v/20250722204242273 \"\n",
      "\" 소비쿠폰 쓰려다가 '화들짝'…\"여기서는 못써요\" 응답에 '당황'한 소비자\n",
      "https://v.daum.net/v/20250722203141032 \"\n",
      "\" 강선우 감싸는 민주 지도부…물밑선 “여의도 감수성, 국민에 뒤처져”\n",
      "https://v.daum.net/v/20250722195213116 \"\n",
      "\" 윤석열 돌연 \"정치탄압\" 입장문‥김건희 출석 임박하자?\n",
      "https://v.daum.net/v/20250722192831557 \"\n",
      "\" 트럼프는 왜 탈중앙화된 통화를 원하나 : 스테이블코인의 본질\n",
      "https://v.daum.net/v/20250722183541061 \"\n",
      "\" 李대통령 \"민생쿠폰은 소비회복, 추가 프로그램 준비\"…소비쿠폰 '깡' 주의(종합)\n",
      "https://v.daum.net/v/20250722182503746 \"\n",
      "\" 소비쿠폰 첫날에만 1조2700억 지급.. 식당·미용실 등 \"손님 늘것\" 기대감\n",
      "https://v.daum.net/v/20250722182057590 \"\n",
      "\" '公私 구분 모호' 의원-보좌진…姜논란 계기 관계재정립 목소리(종합)\n",
      "https://v.daum.net/v/20250722180655078 \"\n",
      "\" 통일교, 펜스 전 미 부통령 7억 원 주고 초청…윤석열과 회동 주선\n",
      "https://v.daum.net/v/20250722214300560 \"\n",
      "\" [농촌 살리는 귀농스토리] ‘아버지 농법’ 걷어내고 ‘선진기술’로 일군 ‘대농의 꿈’\n",
      "https://v.daum.net/v/20250722192238426 \"\n",
      "\" 황규철 옥천군수 “옥천의 미래 위한 초심 잃지 않겠다”\n",
      "https://v.daum.net/v/20250722192212410 \"\n",
      "\" “그 시절 떠오르니 즐겁구먼유”\n",
      "https://v.daum.net/v/20250722184640374 \"\n",
      "\" [인터뷰…공감] “러브버그와 공존 방법 찾겠다” 박선재 국립생물자원관 연구관\n",
      "https://v.daum.net/v/20250722181926533 \"\n",
      "\" 올해 JW성천상에 강동원·전진경 부부 의사···\"생명 존중 실천하는 참 의료인 될 것\"\n",
      "https://v.daum.net/v/20250722192903566 \"\n",
      "\" [그래픽] 집중호우 피해 지역 6곳 특별재난지역 선포\n",
      "https://v.daum.net/v/20250722210126707 \"\n",
      "\" 2025년 7월 23일[김용민의 그림마당]\n"
     ]
    }
   ],
   "source": [
    "print_news('홈')"
   ]
  },
  {
   "cell_type": "code",
   "execution_count": 66,
   "id": "df657030",
   "metadata": {},
   "outputs": [
    {
     "name": "stdout",
     "output_type": "stream",
     "text": [
      "======> https://news.daum.net/climate 기후/환경 뉴스 <======\n",
      "https://v.daum.net/v/20250722212725253 \"\n",
      "\" “이번에도 자중지란?”…RE100 국가산단 앞두고 전북 또 갈등\n",
      "https://v.daum.net/v/20250722211237993 \"\n",
      "\" 모로코, 기후변화 맞서 오아시스 지키는 농민들\n",
      "https://v.daum.net/v/20250722205453547 \"\n",
      "\" \"누가 국가유산에\" 청주 상당산성에 의문의 쓰레기 더미\n",
      "https://v.daum.net/v/20250722201755739 \"\n",
      "\" 기후변화로 여름 폭우 한 달 빨라진다…7월이 ‘신(新) 장마 재난’ 중심\n",
      "https://v.daum.net/v/20250722195504173 \"\n",
      "\" [인천시, 탄소중립도시연합 가입] 세계적 기후 선도, 글로벌 협력 주도\n",
      "https://v.daum.net/v/20250722194703016 \"\n",
      "\" 환경 장관 “환경부 직원 전기차 타는 비율 국민 평균 수준”\n",
      "https://v.daum.net/v/20250722192326445 \"\n",
      "\" 베이징 대기질 개선 이끈 베이징대 석좌교수 \"탄소중립이 건강\"\n",
      "https://v.daum.net/v/20250722184347309 \"\n",
      "\" '기후부' 신설 빨라지나…환경장관 \"산업부, 그대로 존재 안해\"\n",
      "https://v.daum.net/v/20250722184158229 \"\n",
      "\" “동물 보호 외치면서 ‘뱀가죽’ 지갑?” 이런 게 수두룩…놀라운 ‘반전’ 알고 보니 [지구, 뭐래?]\n"
     ]
    }
   ],
   "source": [
    "print_news('기후/환경')"
   ]
  },
  {
   "cell_type": "code",
   "execution_count": 67,
   "id": "d33bcb2a",
   "metadata": {},
   "outputs": [
    {
     "name": "stdout",
     "output_type": "stream",
     "text": [
      "======> https://news.daum.net/politics 정치 뉴스 <======\n",
      "https://v.daum.net/v/20250722212725253 \"\n",
      "\" “이번에도 자중지란?”…RE100 국가산단 앞두고 전북 또 갈등\n",
      "https://v.daum.net/v/20250722210909913 \"\n",
      "\" 정부·여당 “소비 쿠폰, 지방경제 활성화에 도움”\n",
      "https://v.daum.net/v/20250722210504812 \"\n",
      "\" “보좌진 갑질, 일반 직장과 달라”…여당 지도부 ‘황당 옹호론’\n",
      "https://v.daum.net/v/20250722210411793 \"\n",
      "\" 광주 택시요금 하반기 13.35% 인상 잠정합의\n",
      "https://v.daum.net/v/20250722210257750 \"\n",
      "\" 신임 인사처장 \"문재인이 모든 고통 원천\"…윤건영 \"화가 난다\"\n",
      "https://v.daum.net/v/20250722203141032 \"\n",
      "\" 강선우 감싸는 민주 지도부…물밑선 “여의도 감수성, 국민에 뒤처져”\n",
      "https://v.daum.net/v/20250722202747942 \"\n",
      "\" 비도덕적이지만 비합리적이지 않은 북한, 미국과 협상에 나올까?\n",
      "https://v.daum.net/v/20250722202410881 \"\n",
      "\" 조갑제 인터뷰 : 국힘 새 대표에 OOO?…\"국힘은 그럼 끝나는 겁니다\" [스프]\n",
      "https://v.daum.net/v/20250722202401873 \"\n",
      "\" \"헌재 때려부수자\"던 서천호, 지역구 사천 집 팔았다\n",
      "https://v.daum.net/v/20250722214915691 \"\n",
      "\" '북한 무인기' 덮으려 허위보고서?...'김용현 비선 보고' 의혹도\n",
      "https://v.daum.net/v/20250722213307377 \"\n",
      "\" [단독] 특검, 김용대 23일 재소환…“김용현, 남포 등에 계속 보내라”\n",
      "https://v.daum.net/v/20250722210506815 \"\n",
      "\" 평양 무인기 ‘윤석열 → 김용현 → 김용대’ 지시 구조 확인될까\n",
      "https://v.daum.net/v/20250722192537509 \"\n",
      "\" [단독] \"김용현, 실패한 작전 아니니까 힘내라…표창 추천 지시\"\n",
      "https://v.daum.net/v/20250722164659625 \"\n",
      "\" [사사건건] “보수 추천, 여당 의견”…대통령실은 책임 없나?\n"
     ]
    }
   ],
   "source": [
    "print_news('정치')"
   ]
  },
  {
   "cell_type": "code",
   "execution_count": 68,
   "id": "79b58cfc",
   "metadata": {},
   "outputs": [
    {
     "name": "stdout",
     "output_type": "stream",
     "text": [
      "======> https://news.daum.net/world 국제 뉴스 <======\n",
      "https://v.daum.net/v/20250722203305073 \"\n",
      "\" 러, 15세 아이들까지 동원…‘자폭 드론’ 한 달 5200대 찍어낸다\n",
      "https://v.daum.net/v/20250722201501645 \"\n",
      "\" 손발 안 맞는 오픈AI·소프트뱅크...트럼프의 700조 짜리 ‘AI 뉴딜’ 삐걱\n",
      "https://v.daum.net/v/20250722200644433 \"\n",
      "\" 콘크리트 지지층 등 돌려… “자민·공명연합 한계”\n",
      "https://v.daum.net/v/20250722193001577 \"\n",
      "\" “이 나라가 부러운 점도 있네”...AI 열풍속 이공계 선호 ‘뚜렷’한 중국, 의대 인기는 급락\n",
      "https://v.daum.net/v/20250722182345694 \"\n",
      "\" 하필 지금 꺼낸 ‘킹 목사’ 암살 문건… ‘엡스타인 덮기용’ 의혹 [뉴스 투데이]\n",
      "https://v.daum.net/v/20250722174401053 \"\n",
      "\" 美 \"시한보다 중요한 건 합의의 질\"···韓 고강도 압박하나\n",
      "https://v.daum.net/v/20250722173641738 \"\n",
      "\" 美 견제 급한 中·EU···'희토류 - 전기차 빅딜' 나오나\n",
      "https://v.daum.net/v/20250722172804339 \"\n",
      "\" ‘돕겠다’ 접근해 성적 대가 요구···가자지구 여성들이 처한 이중의 위험\n",
      "https://v.daum.net/v/20250722172334200 \"\n",
      "\" 이시바 ‘버티기’에 불붙은 ‘퇴진론’···“리콜 규정이라도 써야”\n"
     ]
    }
   ],
   "source": [
    "print_news('국제')"
   ]
  },
  {
   "cell_type": "code",
   "execution_count": 69,
   "id": "85b22bc2",
   "metadata": {},
   "outputs": [
    {
     "name": "stdout",
     "output_type": "stream",
     "text": [
      "======> https://news.daum.net/culture 문화 뉴스 <======\n",
      "https://v.daum.net/v/20250722213302374 \"\n",
      "\" 34년 만에 다시 만난 ‘동승’… 배우의 번민과 마주하다\n",
      "https://v.daum.net/v/20250722211726083 \"\n",
      "\" \"개발 과정 연극 보여드립니다\"…세종문화회관 싱크넥스트 '문 속의 문'\n",
      "https://v.daum.net/v/20250722204129249 \"\n",
      "\" 인생을 즐기는 자 오라! 아모르 파티\n",
      "https://v.daum.net/v/20250722200204319 \"\n",
      "\" '케데헌' 그 한의원이 진짜 있다고?…외국인들 난리난 곳 [현장+]\n",
      "https://v.daum.net/v/20250722195700200 \"\n",
      "\" 서울 공연장 부족→고양으로 몰린 대형 공연…해법은?[현장EN:]\n",
      "https://v.daum.net/v/20250722194131890 \"\n",
      "\" 송계 최병오 유작전…26일까지 동구 미로센터\n",
      "https://v.daum.net/v/20250722193511738 \"\n",
      "\" “365일, 24시간 언제·어디서든 아동 소외되지 않기를” 허승연 센터장 [인터뷰]\n",
      "https://v.daum.net/v/20250722192639517 \"\n",
      "\" ‘추상화 선구자’ 넘어 보이지 않는 세계 탐구까지…클린트 부산 소환\n",
      "https://v.daum.net/v/20250722181639438 \"\n",
      "\" 세계유산 등재도 결국 국력·정치력 대결이다\n"
     ]
    }
   ],
   "source": [
    "print_news('문화')"
   ]
  },
  {
   "cell_type": "code",
   "execution_count": 70,
   "id": "5e8a41da",
   "metadata": {},
   "outputs": [
    {
     "name": "stdout",
     "output_type": "stream",
     "text": [
      "======> https://news.daum.net/life 생활 뉴스 <======\n",
      "https://v.daum.net/v/20250722213146346 \"\n",
      "\" 평발인 우리 아이, 교정기·물리치료 필요할까요?\n",
      "https://v.daum.net/v/20250722165508958 \"\n",
      "\" 스타필드, 드디어 사대문 안으로…‘에비뉴’로 도심 정조준(종합)\n",
      "https://v.daum.net/v/20250722160909710 \"\n",
      "\" \"편하게 한의진료 받을 권리 필요 가로막는 규제는 과감히 고쳐야\"\n",
      "https://v.daum.net/v/20250722160906705 \"\n",
      "\" 삶의 질 확 떨어뜨리는 이명…한의 특화진료 '이내풍' 국내외서 호평\n",
      "https://v.daum.net/v/20250722160903696 \"\n",
      "\" 무더운 여름철…왜 식욕 없고 소화도 잘 안될까\n",
      "https://v.daum.net/v/20250722160603507 \"\n",
      "\" 황제 다이어트?…'살빼는 최적의 장'아세요\n",
      "https://v.daum.net/v/20250722144947570 \"\n",
      "\" 의사들이 꼽은 ‘뇌 기능’ 떨어뜨리는 최악의 습관은?\n",
      "https://v.daum.net/v/20250722144459322 \"\n",
      "\" '중국판 다이소' 요요소, 韓1호점 내고 마케팅·물류 인력채용 \"C커머스 오프라인도 공세\"\n",
      "https://v.daum.net/v/20250722115703004 \"\n",
      "\" 스팸-쟌슨빌, 뭐가 더 낫지? 하버드대가 매긴 '최악 식품'\n",
      "https://v.daum.net/v/20250722213440398 \"\n",
      "\" [날씨] 절기 '대서' 무더위 계속…전국 폭염특보 내려져\n"
     ]
    }
   ],
   "source": [
    "print_news('생활')"
   ]
  },
  {
   "cell_type": "code",
   "execution_count": 71,
   "id": "5e7e39fd",
   "metadata": {},
   "outputs": [
    {
     "name": "stdout",
     "output_type": "stream",
     "text": [
      "======> https://news.daum.net/tech IT/과학 뉴스 <======\n",
      "https://v.daum.net/v/20250722210457803 \"\n",
      "\" 그리팅, 상반기 중소기업 도입률 전년비 158%↑\n",
      "https://v.daum.net/v/20250722203940178 \"\n",
      "\" 한국형 AI 휴머노이드 키는 160cm에 체중 55kg…브레인은 대·소뇌로 분리\n",
      "https://v.daum.net/v/20250722203203049 \"\n",
      "\" \"1번 출구에서 톡 주면 모시러 갑니다\"…은밀한 제안 [현장+]\n",
      "https://v.daum.net/v/20250722195503171 \"\n",
      "\" 니케 그 이상으로 성장하는 '도로롱'\n",
      "https://v.daum.net/v/20250722190141778 \"\n",
      "\" 단통법 폐지 첫날, 소비자도 '성지'도 고요했다 [르포]\n",
      "https://v.daum.net/v/20250722185608598 \"\n",
      "\" 디지털트윈·메타버스 융합 ‘시티버스’ 시대… 미래 도시 표준화 포럼 출범\n",
      "https://v.daum.net/v/20250722185605597 \"\n",
      "\" [리뷰] 데가 운명의 경계 \"확장된 설정, 아쉬운 설득력\"\n",
      "https://v.daum.net/v/20250722185404538 \"\n",
      "\" 박진석 오로스테크놀로지 전무 “AI 시대 반도체 개발 더 빨라야...생태계 설계할 마지막 시기”\n",
      "https://v.daum.net/v/20250722184158229 \"\n",
      "\" “동물 보호 외치면서 ‘뱀가죽’ 지갑?” 이런 게 수두룩…놀라운 ‘반전’ 알고 보니 [지구, 뭐래?]\n"
     ]
    }
   ],
   "source": [
    "print_news('IT/과학')"
   ]
  },
  {
   "cell_type": "code",
   "execution_count": 72,
   "id": "32e218c3",
   "metadata": {},
   "outputs": [
    {
     "name": "stdout",
     "output_type": "stream",
     "text": [
      "======> https://news.daum.net/people 인물 뉴스 <======\n",
      "https://v.daum.net/v/20250722214300560 \"\n",
      "\" [농촌 살리는 귀농스토리] ‘아버지 농법’ 걷어내고 ‘선진기술’로 일군 ‘대농의 꿈’\n",
      "https://v.daum.net/v/20250722192238426 \"\n",
      "\" 황규철 옥천군수 “옥천의 미래 위한 초심 잃지 않겠다”\n",
      "https://v.daum.net/v/20250722192212410 \"\n",
      "\" “그 시절 떠오르니 즐겁구먼유”\n",
      "https://v.daum.net/v/20250722184640374 \"\n",
      "\" [인터뷰…공감] “러브버그와 공존 방법 찾겠다” 박선재 국립생물자원관 연구관\n",
      "https://v.daum.net/v/20250722175908739 \"\n",
      "\" [인터뷰] 홍덕기 부산체중·고 사이클팀 감독 “올해 상반기 상승세 이어나가 전국 최강팀 발돋움할 것”\n",
      "https://v.daum.net/v/20250722110743169 \"\n",
      "\" [청년이 돌아왔다, 귀향시대] (20·끝) 이제는 귀향 아닌 정착\n",
      "https://v.daum.net/v/20250722060027468 \"\n",
      "\" [예술가의 방] 도자공예가 편예린 | 전원생활\n",
      "https://v.daum.net/v/20250722050313918 \"\n",
      "\" \"여행은 내 경계 확인하는 경험\"…휠체어 타고 세계 누빈 유튜버\n",
      "https://v.daum.net/v/20250722030327266 \"\n",
      "\" “가상 K팝 아이돌, BTS도 못가본 경지 올라”\n",
      "https://v.daum.net/v/20250722043157507 \"\n",
      "\" [가만한 당신] 아이의 열정으로 일식을 쫓은 \"아마추어\" NASA 과학자\n",
      "https://v.daum.net/v/20250721183651189 \"\n",
      "\" 고미술-현대미술 관통하는 ‘조형정신’ 읽어냈던 컬렉터\n",
      "https://v.daum.net/v/20250716050208639 \"\n",
      "\" ‘조수미를 픽업한 지휘자의 대명사’ 헤르베르트 폰 카라얀[신문에서 찾았다 오늘 별이 된 사람]\n",
      "https://v.daum.net/v/20250714184637316 \"\n",
      "\" 조작간첩 50년 만의 무죄 “동지들 곁에서 외롭지 않겠죠”\n",
      "https://v.daum.net/v/20250713193144618 \"\n",
      "\" “박창희 교수, 50년대 재일동포 차별에 평생 민족 문제 파고들어”\n",
      "https://v.daum.net/v/20250722184640374 \"\n",
      "\" [인터뷰…공감] “러브버그와 공존 방법 찾겠다” 박선재 국립생물자원관 연구관\n"
     ]
    }
   ],
   "source": [
    "print_news('인물')"
   ]
  }
 ],
 "metadata": {
  "kernelspec": {
   "display_name": "base",
   "language": "python",
   "name": "python3"
  },
  "language_info": {
   "codemirror_mode": {
    "name": "ipython",
    "version": 3
   },
   "file_extension": ".py",
   "mimetype": "text/x-python",
   "name": "python",
   "nbconvert_exporter": "python",
   "pygments_lexer": "ipython3",
   "version": "3.12.7"
  }
 },
 "nbformat": 4,
 "nbformat_minor": 5
}
