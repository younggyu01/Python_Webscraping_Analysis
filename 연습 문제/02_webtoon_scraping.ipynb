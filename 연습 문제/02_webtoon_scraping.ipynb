{
 "cells": [
  {
   "cell_type": "markdown",
   "id": "ecae1f0d",
   "metadata": {},
   "source": [
    "## 2. 웹스크래핑 연습문제"
   ]
  },
  {
   "cell_type": "markdown",
   "id": "423c5226",
   "metadata": {},
   "source": [
    "#### 2-1. Nate 뉴스기사 제목 스크래핑하기 (필수)\n",
    "#### https://news.nate.com/recent?mid=n0100\n",
    "#### 최신뉴스, 정치 , 경제, 사회, 세계, IT/과학 \n",
    "#### 6개의 섹션의 뉴스를 출력하는 함수를 생성하여 스크래핑 하기\n",
    "\n",
    "#### Image, 기사제목, 기사링크"
   ]
  },
  {
   "cell_type": "markdown",
   "id": "d106521a",
   "metadata": {},
   "source": [
    "뉴스기사의 Image를 출력 하세요 \n",
    "\n",
    "from urllib.parse import urljoin\n",
    "from IPython.display import Image, display\n",
    "\n",
    "url = 'https://news.nate.com/'\n",
    "\n",
    "src = '//thumbnews.nateimg.co.kr/news90///news.nateimg.co.kr/orgImg/na/2025/07/23/7408335_high.jpg'\n",
    "\n",
    "1) Image의 도메인이름이 포함된 경로와 src 속성의 경로를 합치려면 urljoin 함수를 사용하세요.\n",
    "\n",
    "2) Image 출력은 Image 클래스와 display 함수를 사용하세요.\n",
    "\n",
    "3) img 엘리먼트의 존재 여부를 체크하신 후에 src 속성의 이미지를 경로를 추출하기\n",
    "=> Image 가 없는 뉴스도 있기 때문에 \n"
   ]
  },
  {
   "cell_type": "code",
   "execution_count": 1,
   "id": "bef1eb34",
   "metadata": {},
   "outputs": [],
   "source": [
    "# reqeusts, bs4 import\n",
    "import requests\n",
    "# BeautifulSoup import\n",
    "import bs4\n",
    "# BeautifulSoup 클래스 import\n",
    "from bs4 import BeautifulSoup\n",
    "from urllib.parse import urljoin\n",
    "from IPython.display import Image, display\n",
    "\n",
    "section_url_dict = {\n",
    "    '최신': 'https://news.nate.com/recent?mid=n0100',\n",
    "    '정치': 'https://news.nate.com/section?mid=n0200',\n",
    "    '경제': 'https://news.nate.com/section?mid=n0300',\n",
    "    '사회': 'https://news.nate.com/section?mid=n0400',\n",
    "    '세계': 'https://news.nate.com/section?mid=n0500',\n",
    "    'IT/과학': 'https://news.nate.com/section?mid=n0600',\n",
    "}\n",
    "\n",
    "# 함수선언\n",
    "def print_nate_news(section):\n",
    "    url = section_url_dict[section]\n",
    "    print(f'{section} 뉴스 {url}')\n",
    "\n",
    "    # 요청 헤더 설정 : 브라우저 정보\n",
    "    req_header = {\n",
    "        \"user-agent\": \"Mozilla/5.0 (Windows NT 10.0; Win64; x64) AppleWebKit/537.36 (KHTML, like Gecko) Chrome/104.0.0.0 Safari/537.36\"\n",
    "    }\n",
    "    # requests 의 get() 함수 호출하기 \n",
    "    res = requests.get(url, headers=req_header)\n",
    "\n",
    "    # 응답(response)이 OK 이면 응답(response)에서 text 추출\n",
    "    if res.ok:\n",
    "        html = res.text\n",
    "        # BeautifulSoup 객체 생성 \n",
    "        soup = BeautifulSoup(html, \"html.parser\")\n",
    "        '''\n",
    "        <div class=\"mlt01\">\n",
    "\t\t\t<a href=\"//news.nate.com/view/20250723n36406?mid=n0100\" class=\"lt1\"> \n",
    "        '''\n",
    "        a_tags = soup.select(\"div.mlt01 a[href*='com/view/'].lt1\") \n",
    "        \n",
    "        # <a> 태그 리스트 순회하기  \n",
    "        for idx,a_tag in enumerate(a_tags,1):\n",
    "            title_tag = a_tag.select_one(\"h2.tit\") # 제목만 출력 본문 X\n",
    "            img_tag = a_tag.select_one(\"img\")\n",
    "            if a_tag.text:\n",
    "                title = title_tag.text.strip() # 제목\n",
    "                link = urljoin(url, a_tag['href']) # 절대 경로\n",
    "\n",
    "                # 이미지 존재 여부\n",
    "                if img_tag and img_tag.has_attr('src'):\n",
    "                    img = urljoin(url, img_tag['src'])\n",
    "                    display(Image(url=img))\n",
    "                else:\n",
    "                    print(\"이미지 없음\")\n",
    "\n",
    "                print(f'{title} {link}')\n",
    "    else:\n",
    "        # 응답(response)이 Error 이면 status code 출력 \n",
    "        print(f'Error Code = {res.status_code}')"
   ]
  },
  {
   "cell_type": "code",
   "execution_count": 2,
   "id": "514d7bfd",
   "metadata": {},
   "outputs": [
    {
     "name": "stdout",
     "output_type": "stream",
     "text": [
      "최신 뉴스 https://news.nate.com/recent?mid=n0100\n"
     ]
    },
    {
     "data": {
      "text/html": [
       "<img src=\"https://thumbnews.nateimg.co.kr/news90///news.nateimg.co.kr/orgImg/na/2025/07/28/7416654_high.jpg\"/>"
      ],
      "text/plain": [
       "<IPython.core.display.Image object>"
      ]
     },
     "metadata": {},
     "output_type": "display_data"
    },
    {
     "name": "stdout",
     "output_type": "stream",
     "text": [
      "파란하늘 아래 시원한 물놀이 https://news.nate.com/view/20250728n14475?mid=n0100\n"
     ]
    },
    {
     "data": {
      "text/html": [
       "<img src=\"https://thumbnews.nateimg.co.kr/news90///news.nateimg.co.kr/orgImg/na/2025/07/28/7416653_high.jpg\"/>"
      ],
      "text/plain": [
       "<IPython.core.display.Image object>"
      ]
     },
     "metadata": {},
     "output_type": "display_data"
    },
    {
     "name": "stdout",
     "output_type": "stream",
     "text": [
      "'도심 속 시원한 물놀이장 개장' https://news.nate.com/view/20250728n14474?mid=n0100\n"
     ]
    },
    {
     "data": {
      "text/html": [
       "<img src=\"https://thumbnews.nateimg.co.kr/news90///news.nateimg.co.kr/orgImg/mk/2025/07/28/news-p.v1.20250728.7cc865b199e04c4296f57a1f5a85663e_P3.png\"/>"
      ],
      "text/plain": [
       "<IPython.core.display.Image object>"
      ]
     },
     "metadata": {},
     "output_type": "display_data"
    },
    {
     "name": "stdout",
     "output_type": "stream",
     "text": [
      "소신 앞세운 與이소영\"대주주 양도세 기준 완화 반대\" https://news.nate.com/view/20250728n14473?mid=n0100\n"
     ]
    },
    {
     "data": {
      "text/html": [
       "<img src=\"https://thumbnews.nateimg.co.kr/news90///news.nateimg.co.kr/orgImg/na/2025/07/28/7416652_high.jpg\"/>"
      ],
      "text/plain": [
       "<IPython.core.display.Image object>"
      ]
     },
     "metadata": {},
     "output_type": "display_data"
    },
    {
     "name": "stdout",
     "output_type": "stream",
     "text": [
      "물놀이로 쌓여가는 우정 https://news.nate.com/view/20250728n14472?mid=n0100\n"
     ]
    },
    {
     "data": {
      "text/html": [
       "<img src=\"https://thumbnews.nateimg.co.kr/news90///news.nateimg.co.kr/orgImg/na/2025/07/28/7410211_high.jpg\"/>"
      ],
      "text/plain": [
       "<IPython.core.display.Image object>"
      ]
     },
     "metadata": {},
     "output_type": "display_data"
    },
    {
     "name": "stdout",
     "output_type": "stream",
     "text": [
      "집중호우 뒤 폭염에 '땅 꺼짐' 주의보…\"전조 증상 확인해야\" https://news.nate.com/view/20250728n14471?mid=n0100\n"
     ]
    },
    {
     "data": {
      "text/html": [
       "<img src=\"https://thumbnews.nateimg.co.kr/news90///news.nateimg.co.kr/orgImg/na/2025/07/28/7416651_high.jpg\"/>"
      ],
      "text/plain": [
       "<IPython.core.display.Image object>"
      ]
     },
     "metadata": {},
     "output_type": "display_data"
    },
    {
     "name": "stdout",
     "output_type": "stream",
     "text": [
      "시원한 물놀이 https://news.nate.com/view/20250728n14470?mid=n0100\n"
     ]
    },
    {
     "data": {
      "text/html": [
       "<img src=\"https://thumbnews.nateimg.co.kr/news90///news.nateimg.co.kr/orgImg/cz/2025/07/28/cz_1753669281374_346108_0.jpg\"/>"
      ],
      "text/plain": [
       "<IPython.core.display.Image object>"
      ]
     },
     "metadata": {},
     "output_type": "display_data"
    },
    {
     "name": "stdout",
     "output_type": "stream",
     "text": [
      "소비쿠폰 일주일 만에 4000만명 신청…7조 지급 https://news.nate.com/view/20250728n14469?mid=n0100\n"
     ]
    },
    {
     "data": {
      "text/html": [
       "<img src=\"https://thumbnews.nateimg.co.kr/news90///news.nateimg.co.kr/orgImg/na/2025/07/28/6199625_high.jpg\"/>"
      ],
      "text/plain": [
       "<IPython.core.display.Image object>"
      ]
     },
     "metadata": {},
     "output_type": "display_data"
    },
    {
     "name": "stdout",
     "output_type": "stream",
     "text": [
      "영산강환경청, 상반기 지역 축제서 일회용품 24톤 감축 https://news.nate.com/view/20250728n14468?mid=n0100\n"
     ]
    },
    {
     "data": {
      "text/html": [
       "<img src=\"https://thumbnews.nateimg.co.kr/news90///news.nateimg.co.kr/orgImg/na/2025/07/28/7416650_high.jpg\"/>"
      ],
      "text/plain": [
       "<IPython.core.display.Image object>"
      ]
     },
     "metadata": {},
     "output_type": "display_data"
    },
    {
     "name": "stdout",
     "output_type": "stream",
     "text": [
      "'너무 시원해' https://news.nate.com/view/20250728n14467?mid=n0100\n"
     ]
    },
    {
     "data": {
      "text/html": [
       "<img src=\"https://thumbnews.nateimg.co.kr/news90///news.nateimg.co.kr/orgImg/cz/2025/07/28/cz_1753669272927_817827_0.jpg\"/>"
      ],
      "text/plain": [
       "<IPython.core.display.Image object>"
      ]
     },
     "metadata": {},
     "output_type": "display_data"
    },
    {
     "name": "stdout",
     "output_type": "stream",
     "text": [
      "삼성전자, 美 빅테크서 22조원 파운드리 수주 '잭팟'…테일러 공장 숨통 트인다 https://news.nate.com/view/20250728n13068?mid=n0100\n"
     ]
    },
    {
     "data": {
      "text/html": [
       "<img src=\"https://thumbnews.nateimg.co.kr/news90///news.nateimg.co.kr/orgImg/sw/2025/07/28/20250728507294.jpg\"/>"
      ],
      "text/plain": [
       "<IPython.core.display.Image object>"
      ]
     },
     "metadata": {},
     "output_type": "display_data"
    },
    {
     "name": "stdout",
     "output_type": "stream",
     "text": [
      "위너, 팬들과 완성한 콘서트…한 여름밤 이너써클 https://news.nate.com/view/20250728n14465?mid=n0100\n"
     ]
    },
    {
     "data": {
      "text/html": [
       "<img src=\"https://thumbnews.nateimg.co.kr/news90///news.nateimg.co.kr/orgImg/hr/2025/07/28/rcv.YNA.20250728.PAF20250728087301009_P1.jpg\"/>"
      ],
      "text/plain": [
       "<IPython.core.display.Image object>"
      ]
     },
     "metadata": {},
     "output_type": "display_data"
    },
    {
     "name": "stdout",
     "output_type": "stream",
     "text": [
      "美·EU '15% 관세' 협상 타결 https://news.nate.com/view/20250728n14464?mid=n0100\n"
     ]
    },
    {
     "data": {
      "text/html": [
       "<img src=\"https://thumbnews.nateimg.co.kr/news90///news.nateimg.co.kr/orgImg/dd/2025/07/28/2025072810503946834_l.jpeg\"/>"
      ],
      "text/plain": [
       "<IPython.core.display.Image object>"
      ]
     },
     "metadata": {},
     "output_type": "display_data"
    },
    {
     "name": "stdout",
     "output_type": "stream",
     "text": [
      "국경 넘는 편의점, 'K컬처' 타고 뻗어나간다 https://news.nate.com/view/20250728n14463?mid=n0100\n"
     ]
    },
    {
     "data": {
      "text/html": [
       "<img src=\"https://thumbnews.nateimg.co.kr/news90///news.nateimg.co.kr/orgImg/na/2025/07/28/7416648_high.jpg\"/>"
      ],
      "text/plain": [
       "<IPython.core.display.Image object>"
      ]
     },
     "metadata": {},
     "output_type": "display_data"
    },
    {
     "name": "stdout",
     "output_type": "stream",
     "text": [
      "'도심 속 시원한 물놀이장 개장' https://news.nate.com/view/20250728n14462?mid=n0100\n"
     ]
    },
    {
     "data": {
      "text/html": [
       "<img src=\"https://thumbnews.nateimg.co.kr/news90///news.nateimg.co.kr/orgImg/sg/2025/07/28/20250728507098.jpg\"/>"
      ],
      "text/plain": [
       "<IPython.core.display.Image object>"
      ]
     },
     "metadata": {},
     "output_type": "display_data"
    },
    {
     "name": "stdout",
     "output_type": "stream",
     "text": [
      "소비쿠폰 일주일 만에 78% 신청…7조1200억원 지급 https://news.nate.com/view/20250728n14461?mid=n0100\n"
     ]
    },
    {
     "data": {
      "text/html": [
       "<img src=\"https://thumbnews.nateimg.co.kr/news90///news.nateimg.co.kr/orgImg/yt/2025/07/28/AKR20250728070100017_01_i.jpg\"/>"
      ],
      "text/plain": [
       "<IPython.core.display.Image object>"
      ]
     },
     "metadata": {},
     "output_type": "display_data"
    },
    {
     "name": "stdout",
     "output_type": "stream",
     "text": [
      "[게시판] 게임위, 초중등 교원에 '올바른 게임 이용 지도' 직무연수 https://news.nate.com/view/20250728n14460?mid=n0100\n"
     ]
    },
    {
     "data": {
      "text/html": [
       "<img src=\"https://thumbnews.nateimg.co.kr/news90///news.nateimg.co.kr/orgImg/sv/2025/07/28/202095404_700.jpg\"/>"
      ],
      "text/plain": [
       "<IPython.core.display.Image object>"
      ]
     },
     "metadata": {},
     "output_type": "display_data"
    },
    {
     "name": "stdout",
     "output_type": "stream",
     "text": [
      "서울 금천구서 맨홀 질식사고…1명 사망·1명 의식불명 https://news.nate.com/view/20250728n14459?mid=n0100\n"
     ]
    },
    {
     "data": {
      "text/html": [
       "<img src=\"https://thumbnews.nateimg.co.kr/news90///news.nateimg.co.kr/orgImg/hr/2025/07/28/news-p.v1.20250728.86f0615706af494092e22446a9c03ec5_P1.jpg\"/>"
      ],
      "text/plain": [
       "<IPython.core.display.Image object>"
      ]
     },
     "metadata": {},
     "output_type": "display_data"
    },
    {
     "name": "stdout",
     "output_type": "stream",
     "text": [
      "상주시, '나라꽃 무궁화 바로 알기' 정원관리 활동· 1차 교육 성료 https://news.nate.com/view/20250728n14458?mid=n0100\n"
     ]
    },
    {
     "data": {
      "text/html": [
       "<img src=\"https://thumbnews.nateimg.co.kr/news90///news.nateimg.co.kr/orgImg/ni/2025/07/28/2507281108205460.jpg\"/>"
      ],
      "text/plain": [
       "<IPython.core.display.Image object>"
      ]
     },
     "metadata": {},
     "output_type": "display_data"
    },
    {
     "name": "stdout",
     "output_type": "stream",
     "text": [
      "컴투스, 대학생 서포터즈 '컴투스 플레이어' 14기 모집 https://news.nate.com/view/20250728n14457?mid=n0100\n"
     ]
    },
    {
     "data": {
      "text/html": [
       "<img src=\"https://thumbnews.nateimg.co.kr/news90///news.nateimg.co.kr/orgImg/st/2025/07/28/28_1017369_86778.png\"/>"
      ],
      "text/plain": [
       "<IPython.core.display.Image object>"
      ]
     },
     "metadata": {},
     "output_type": "display_data"
    },
    {
     "name": "stdout",
     "output_type": "stream",
     "text": [
      "FC서울, K리그 1부 정규리그 팀 통산 500승 달성 https://news.nate.com/view/20250728n14456?mid=n0100\n"
     ]
    }
   ],
   "source": [
    "print_nate_news('최신')"
   ]
  },
  {
   "cell_type": "code",
   "execution_count": 3,
   "id": "1fad4473",
   "metadata": {},
   "outputs": [
    {
     "name": "stdout",
     "output_type": "stream",
     "text": [
      "정치 뉴스 https://news.nate.com/section?mid=n0200\n"
     ]
    },
    {
     "data": {
      "text/html": [
       "<img src=\"https://thumbnews.nateimg.co.kr/news90///news.nateimg.co.kr/orgImg/na/2025/07/28/7379965_high.jpg\"/>"
      ],
      "text/plain": [
       "<IPython.core.display.Image object>"
      ]
     },
     "metadata": {},
     "output_type": "display_data"
    },
    {
     "name": "stdout",
     "output_type": "stream",
     "text": [
      "해병특검 \"조태용 전 국정원장 29일 오전 피의자 조사\" https://news.nate.com/view/20250728n13734?mid=n0200\n"
     ]
    },
    {
     "data": {
      "text/html": [
       "<img src=\"https://thumbnews.nateimg.co.kr/news90///news.nateimg.co.kr/orgImg/yt/2025/07/28/PYH2025072804400001300_P2.jpg\"/>"
      ],
      "text/plain": [
       "<IPython.core.display.Image object>"
      ]
     },
     "metadata": {},
     "output_type": "display_data"
    },
    {
     "name": "stdout",
     "output_type": "stream",
     "text": [
      "안철수 \"李에 대통령직 헌납한 김문수, 스스로 거취 정해야\" https://news.nate.com/view/20250728n11965?mid=n0200\n"
     ]
    },
    {
     "data": {
      "text/html": [
       "<img src=\"https://thumbnews.nateimg.co.kr/news90///news.nateimg.co.kr/orgImg/mt/2025/07/28/2025072717270576711_1.jpg\"/>"
      ],
      "text/plain": [
       "<IPython.core.display.Image object>"
      ]
     },
     "metadata": {},
     "output_type": "display_data"
    },
    {
     "name": "stdout",
     "output_type": "stream",
     "text": [
      "국힘에 드리워진 극우·尹 그림자…지지율 추락에 특검 공포까지 https://news.nate.com/view/20250728n01991?mid=n0200\n"
     ]
    },
    {
     "data": {
      "text/html": [
       "<img src=\"https://thumbnews.nateimg.co.kr/news90///news.nateimg.co.kr/orgImg/ns/2025/07/28/NISI20220811_0019126263_web.jpg\"/>"
      ],
      "text/plain": [
       "<IPython.core.display.Image object>"
      ]
     },
     "metadata": {},
     "output_type": "display_data"
    },
    {
     "name": "stdout",
     "output_type": "stream",
     "text": [
      "김여정 \"韓과 마주앉을 일 없어\"…李정부에 첫 공식 반응 https://news.nate.com/view/20250728n02979?mid=n0200\n"
     ]
    },
    {
     "data": {
      "text/html": [
       "<img src=\"https://thumbnews.nateimg.co.kr/news90///news.nateimg.co.kr/orgImg/jt/2025/07/28/98333085-6a37-4542-8f3b-320a161ea012.jpg\"/>"
      ],
      "text/plain": [
       "<IPython.core.display.Image object>"
      ]
     },
     "metadata": {},
     "output_type": "display_data"
    },
    {
     "name": "stdout",
     "output_type": "stream",
     "text": [
      "이준석 \"특검, 오해살 일 말아야…압수수색 시기 공교로워\" https://news.nate.com/view/20250728n09537?mid=n0200\n"
     ]
    },
    {
     "data": {
      "text/html": [
       "<img src=\"https://thumbnews.nateimg.co.kr/news90///news.nateimg.co.kr/orgImg/mk/2025/07/28/news-p.v1.20250724.97d2c2a338434e81bc5610adb3715178_P1.jpg\"/>"
      ],
      "text/plain": [
       "<IPython.core.display.Image object>"
      ]
     },
     "metadata": {},
     "output_type": "display_data"
    },
    {
     "name": "stdout",
     "output_type": "stream",
     "text": [
      "국힘 때릴수록 당심 얻는다?…비전대결 사라진 민주당 전당대회 https://news.nate.com/view/20250728n02260?mid=n0200\n"
     ]
    },
    {
     "data": {
      "text/html": [
       "<img src=\"https://thumbnews.nateimg.co.kr/news90///news.nateimg.co.kr/orgImg/na/2025/07/28/7415489_high.jpg\"/>"
      ],
      "text/plain": [
       "<IPython.core.display.Image object>"
      ]
     },
     "metadata": {},
     "output_type": "display_data"
    },
    {
     "name": "stdout",
     "output_type": "stream",
     "text": [
      "이준석 다시 전면에…지방선거 '올인' 지역 조직 '수혈' https://news.nate.com/view/20250728n02527?mid=n0200\n"
     ]
    },
    {
     "data": {
      "text/html": [
       "<img src=\"https://thumbnews.nateimg.co.kr/news90///news.nateimg.co.kr/orgImg/do/2025/07/28/132081029.1.jpg\"/>"
      ],
      "text/plain": [
       "<IPython.core.display.Image object>"
      ]
     },
     "metadata": {},
     "output_type": "display_data"
    },
    {
     "name": "stdout",
     "output_type": "stream",
     "text": [
      "[단독]\"드론사, 작년 7월 평양무인기 계획 'V보고서' 작성\" https://news.nate.com/view/20250728n01050?mid=n0200\n"
     ]
    },
    {
     "data": {
      "text/html": [
       "<img src=\"https://thumbnews.nateimg.co.kr/news90///news.nateimg.co.kr/orgImg/cb/2025/07/28/202507272117027539_0.jpg\"/>"
      ],
      "text/plain": [
       "<IPython.core.display.Image object>"
      ]
     },
     "metadata": {},
     "output_type": "display_data"
    },
    {
     "name": "stdout",
     "output_type": "stream",
     "text": [
      "[단독]특검, '계엄 두둔' 외신PG \"조태열에 보고\" 진술 확보 https://news.nate.com/view/20250728n01824?mid=n0200\n"
     ]
    },
    {
     "data": {
      "text/html": [
       "<img src=\"https://thumbnews.nateimg.co.kr/news90///news.nateimg.co.kr/orgImg/na/2025/07/27/7414225_high.jpg\"/>"
      ],
      "text/plain": [
       "<IPython.core.display.Image object>"
      ]
     },
     "metadata": {},
     "output_type": "display_data"
    },
    {
     "name": "stdout",
     "output_type": "stream",
     "text": [
      "李대통령 \"미국은 피를 나눈 혈맹이자 가장 강한 동맹\" https://news.nate.com/view/20250727n17877?mid=n0200\n"
     ]
    },
    {
     "data": {
      "text/html": [
       "<img src=\"https://thumbnews.nateimg.co.kr/news90///news.nateimg.co.kr/orgImg/mk/2025/07/27/rcv.YNA.20250715.PYH2025071501720001301_P1.jpg\"/>"
      ],
      "text/plain": [
       "<IPython.core.display.Image object>"
      ]
     },
     "metadata": {},
     "output_type": "display_data"
    },
    {
     "name": "stdout",
     "output_type": "stream",
     "text": [
      "[단독] 부동산 내국인 역차별 논란에…김윤덕 국토부장관 후보 \"외국인 차등과세 검토\" https://news.nate.com/view/20250727n14341?mid=n0200\n"
     ]
    },
    {
     "data": {
      "text/html": [
       "<img src=\"https://thumbnews.nateimg.co.kr/news90///news.nateimg.co.kr/orgImg/hi/2025/07/27/1bd7636d-c131-4234-b1d1-8493377e90a9.jpg\"/>"
      ],
      "text/plain": [
       "<IPython.core.display.Image object>"
      ]
     },
     "metadata": {},
     "output_type": "display_data"
    },
    {
     "name": "stdout",
     "output_type": "stream",
     "text": [
      "모스크바-평양 첫 직항 여객기 오늘부터 운행…항공권 매진 https://news.nate.com/view/20250727n10158?mid=n0200\n"
     ]
    },
    {
     "data": {
      "text/html": [
       "<img src=\"https://thumbnews.nateimg.co.kr/news90///news.nateimg.co.kr/orgImg/hi/2025/07/27/635b22fb-aa0f-4a71-af65-63a0d0f2c7e6.jpg\"/>"
      ],
      "text/plain": [
       "<IPython.core.display.Image object>"
      ]
     },
     "metadata": {},
     "output_type": "display_data"
    },
    {
     "name": "stdout",
     "output_type": "stream",
     "text": [
      "고공농성장 찾은 '철도기관사' 출신 장관 \"사람 위에 법 있을 수 있나\" https://news.nate.com/view/20250727n10767?mid=n0200\n"
     ]
    },
    {
     "data": {
      "text/html": [
       "<img src=\"https://thumbnews.nateimg.co.kr/news90///news.nateimg.co.kr/orgImg/cb/2025/07/27/202507252026094086_0.jpg\"/>"
      ],
      "text/plain": [
       "<IPython.core.display.Image object>"
      ]
     },
     "metadata": {},
     "output_type": "display_data"
    },
    {
     "name": "stdout",
     "output_type": "stream",
     "text": [
      "판문점 회동에 흥분했던 트럼프…10월 경주 APEC도? https://news.nate.com/view/20250727n00582?mid=n0200\n"
     ]
    },
    {
     "data": {
      "text/html": [
       "<img src=\"https://thumbnews.nateimg.co.kr/news90///news.nateimg.co.kr/orgImg/na/2025/07/26/7347584_high.jpg\"/>"
      ],
      "text/plain": [
       "<IPython.core.display.Image object>"
      ]
     },
     "metadata": {},
     "output_type": "display_data"
    },
    {
     "name": "stdout",
     "output_type": "stream",
     "text": [
      "홍준표 \"종교집단으로 사기 경선\"…권성동 \"법적 대응\"(종합) https://news.nate.com/view/20250726n07287?mid=n0200\n"
     ]
    }
   ],
   "source": [
    "print_nate_news('정치')"
   ]
  },
  {
   "cell_type": "code",
   "execution_count": 4,
   "id": "976dc036",
   "metadata": {},
   "outputs": [
    {
     "name": "stdout",
     "output_type": "stream",
     "text": [
      "경제 뉴스 https://news.nate.com/section?mid=n0300\n"
     ]
    },
    {
     "data": {
      "text/html": [
       "<img src=\"https://thumbnews.nateimg.co.kr/news90///news.nateimg.co.kr/orgImg/hr/2025/07/28/rcv.YNA.20250626.PYH2025062613680001300_P1.jpg\"/>"
      ],
      "text/plain": [
       "<IPython.core.display.Image object>"
      ]
     },
     "metadata": {},
     "output_type": "display_data"
    },
    {
     "name": "stdout",
     "output_type": "stream",
     "text": [
      "\"또 7000원 넘겠네\" 폭염에 다시 치솟는 계란값 https://news.nate.com/view/20250728n10239?mid=n0300\n"
     ]
    },
    {
     "data": {
      "text/html": [
       "<img src=\"https://thumbnews.nateimg.co.kr/news90///news.nateimg.co.kr/orgImg/mk/2025/07/28/news-p.v1.20250728.c782fa0ffc714acebb7c5c9a11fe8c38_P1.jpg\"/>"
      ],
      "text/plain": [
       "<IPython.core.display.Image object>"
      ]
     },
     "metadata": {},
     "output_type": "display_data"
    },
    {
     "name": "stdout",
     "output_type": "stream",
     "text": [
      "\"울릉도는 원래 비계삼겹\"…진종오 의원도 뿔난 대한민국 K바가지 https://news.nate.com/view/20250728n05565?mid=n0300\n"
     ]
    },
    {
     "data": {
      "text/html": [
       "<img src=\"https://thumbnews.nateimg.co.kr/news90///news.nateimg.co.kr/orgImg/mt/2025/07/28/2025072722212556828_1.jpg\"/>"
      ],
      "text/plain": [
       "<IPython.core.display.Image object>"
      ]
     },
     "metadata": {},
     "output_type": "display_data"
    },
    {
     "name": "stdout",
     "output_type": "stream",
     "text": [
      "일본엔 없는 카드…K조선 앞세워 '대체불가 제조동맹' 부각 https://news.nate.com/view/20250728n01351?mid=n0300\n"
     ]
    },
    {
     "data": {
      "text/html": [
       "<img src=\"https://thumbnews.nateimg.co.kr/news90///news.nateimg.co.kr/orgImg/kx/2025/07/28/2025072714422529691_1753594945_0028457281.jpg\"/>"
      ],
      "text/plain": [
       "<IPython.core.display.Image object>"
      ]
     },
     "metadata": {},
     "output_type": "display_data"
    },
    {
     "name": "stdout",
     "output_type": "stream",
     "text": [
      "\"한국은 호갱인가\" 가격인상 신중모드 명품업계, 한국에서만 'N차 인상' https://news.nate.com/view/20250728n01801?mid=n0300\n"
     ]
    },
    {
     "data": {
      "text/html": [
       "<img src=\"https://thumbnews.nateimg.co.kr/news90///news.nateimg.co.kr/orgImg/mt/2025/07/28/2025072721125931623_1.jpg\"/>"
      ],
      "text/plain": [
       "<IPython.core.display.Image object>"
      ]
     },
     "metadata": {},
     "output_type": "display_data"
    },
    {
     "name": "stdout",
     "output_type": "stream",
     "text": [
      "'6.6억→5억' 집값 불길 잡혔다?…\"폭등 불씨 남아\" 방심 말라는 이유 https://news.nate.com/view/20250728n04109?mid=n0300\n"
     ]
    },
    {
     "data": {
      "text/html": [
       "<img src=\"https://thumbnews.nateimg.co.kr/news90///news.nateimg.co.kr/orgImg/ed/2025/07/28/PS25072800046.jpg\"/>"
      ],
      "text/plain": [
       "<IPython.core.display.Image object>"
      ]
     },
     "metadata": {},
     "output_type": "display_data"
    },
    {
     "name": "stdout",
     "output_type": "stream",
     "text": [
      "국내주식 156조 보유한 국민연금…상법개정에 무거워진 어깨 https://news.nate.com/view/20250728n00186?mid=n0300\n"
     ]
    },
    {
     "data": {
      "text/html": [
       "<img src=\"https://thumbnews.nateimg.co.kr/news90///news.nateimg.co.kr/orgImg/yt/2025/07/28/AKR20250727016800003_01_i.jpg\"/>"
      ],
      "text/plain": [
       "<IPython.core.display.Image object>"
      ]
     },
     "metadata": {},
     "output_type": "display_data"
    },
    {
     "name": "stdout",
     "output_type": "stream",
     "text": [
      "잦아든 전세사기 후폭풍…상반기 주택 임차권등기명령 41% 줄어 https://news.nate.com/view/20250728n02259?mid=n0300\n"
     ]
    },
    {
     "data": {
      "text/html": [
       "<img src=\"https://thumbnews.nateimg.co.kr/news90///news.nateimg.co.kr/orgImg/mt/2025/07/28/mt_1753651384392_273797_0.jpg\"/>"
      ],
      "text/plain": [
       "<IPython.core.display.Image object>"
      ]
     },
     "metadata": {},
     "output_type": "display_data"
    },
    {
     "name": "stdout",
     "output_type": "stream",
     "text": [
      "\"은행 이자놀이\" 대통령 비판…부동산 묶인 자금, 신산업 물길 튼다 https://news.nate.com/view/20250728n02285?mid=n0300\n"
     ]
    },
    {
     "data": {
      "text/html": [
       "<img src=\"https://thumbnews.nateimg.co.kr/news90///news.nateimg.co.kr/orgImg/hr/2025/07/27/rcv.YNA.20250725.PYH2025072500930001300_P1.jpg\"/>"
      ],
      "text/plain": [
       "<IPython.core.display.Image object>"
      ]
     },
     "metadata": {},
     "output_type": "display_data"
    },
    {
     "name": "stdout",
     "output_type": "stream",
     "text": [
      "김현종은 어디에?…미관세 협상, 기재부 출신 라인업 우려[세종백블] https://news.nate.com/view/20250727n02472?mid=n0300\n"
     ]
    },
    {
     "data": {
      "text/html": [
       "<img src=\"https://thumbnews.nateimg.co.kr/news90///news.nateimg.co.kr/orgImg/mk/2025/07/27/news-p.v1.20240522.b36d43a30bfc4ff0965f6f7575fd7aa0_P1.jpeg\"/>"
      ],
      "text/plain": [
       "<IPython.core.display.Image object>"
      ]
     },
     "metadata": {},
     "output_type": "display_data"
    },
    {
     "name": "stdout",
     "output_type": "stream",
     "text": [
      "\"이제 이더리움 시대인가요?\"…스테이블코인 올라타고 '1만달러' 부푼 꿈 https://news.nate.com/view/20250727n01183?mid=n0300\n"
     ]
    },
    {
     "data": {
      "text/html": [
       "<img src=\"https://thumbnews.nateimg.co.kr/news90///news.nateimg.co.kr/orgImg/ss/2025/07/27/202573671753564227.jpg\"/>"
      ],
      "text/plain": [
       "<IPython.core.display.Image object>"
      ]
     },
     "metadata": {},
     "output_type": "display_data"
    },
    {
     "name": "stdout",
     "output_type": "stream",
     "text": [
      "로또 1182회 당첨번호 1등 21억, '서울·경기 자동 쏟아졌다' https://news.nate.com/view/20250727n01344?mid=n0300\n"
     ]
    },
    {
     "data": {
      "text/html": [
       "<img src=\"https://thumbnews.nateimg.co.kr/news90///news.nateimg.co.kr/orgImg/cb/2025/07/27/202507251719225098_0.jpg\"/>"
      ],
      "text/plain": [
       "<IPython.core.display.Image object>"
      ]
     },
     "metadata": {},
     "output_type": "display_data"
    },
    {
     "name": "stdout",
     "output_type": "stream",
     "text": [
      "\"7조였는데 1조원에 사는 셈\"…홈플러스 새주인 누가되나 https://news.nate.com/view/20250727n00579?mid=n0300\n"
     ]
    },
    {
     "data": {
      "text/html": [
       "<img src=\"https://thumbnews.nateimg.co.kr/news90///news.nateimg.co.kr/orgImg/mt/2025/07/26/2025072511093182913_1.jpg\"/>"
      ],
      "text/plain": [
       "<IPython.core.display.Image object>"
      ]
     },
     "metadata": {},
     "output_type": "display_data"
    },
    {
     "name": "stdout",
     "output_type": "stream",
     "text": [
      "\"걸리면 바로 압수수색\"…대통령 지시에 확 바뀐 '주가조작' 단속 https://news.nate.com/view/20250726n01958?mid=n0300\n"
     ]
    },
    {
     "data": {
      "text/html": [
       "<img src=\"https://thumbnews.nateimg.co.kr/news90///news.nateimg.co.kr/orgImg/jo/2025/07/25/2ce4b645-d150-4b87-9e97-1262594bb1d2.jpg\"/>"
      ],
      "text/plain": [
       "<IPython.core.display.Image object>"
      ]
     },
     "metadata": {},
     "output_type": "display_data"
    },
    {
     "name": "stdout",
     "output_type": "stream",
     "text": [
      "건보 '무임승차' 8년새 2007만명→1576만명 급감한 이유 https://news.nate.com/view/20250725n01238?mid=n0300\n"
     ]
    },
    {
     "data": {
      "text/html": [
       "<img src=\"https://thumbnews.nateimg.co.kr/news90///news.nateimg.co.kr/orgImg/ed/2025/07/24/PS25072400897.jpg\"/>"
      ],
      "text/plain": [
       "<IPython.core.display.Image object>"
      ]
     },
     "metadata": {},
     "output_type": "display_data"
    },
    {
     "name": "stdout",
     "output_type": "stream",
     "text": [
      "\"'칼졸업' 큰일\", \"첫 월급 300만원도 안돼\" 대학생들 '울상' https://news.nate.com/view/20250724n18415?mid=n0300\n"
     ]
    }
   ],
   "source": [
    "print_nate_news('경제')"
   ]
  },
  {
   "cell_type": "code",
   "execution_count": 5,
   "id": "8a2d6b83",
   "metadata": {},
   "outputs": [
    {
     "name": "stdout",
     "output_type": "stream",
     "text": [
      "사회 뉴스 https://news.nate.com/section?mid=n0400\n"
     ]
    },
    {
     "data": {
      "text/html": [
       "<img src=\"https://thumbnews.nateimg.co.kr/news90///news.nateimg.co.kr/orgImg/jo/2025/07/28/81ddd2a9-de2a-42d9-afe4-567697c70a4b.jpg\"/>"
      ],
      "text/plain": [
       "<IPython.core.display.Image object>"
      ]
     },
     "metadata": {},
     "output_type": "display_data"
    },
    {
     "name": "stdout",
     "output_type": "stream",
     "text": [
      "[단독] 광명 아파트 불 65명 사상…소름돋게 적중한 2년전 예견 https://news.nate.com/view/20250728n01766?mid=n0400\n"
     ]
    },
    {
     "data": {
      "text/html": [
       "<img src=\"https://thumbnews.nateimg.co.kr/news90///news.nateimg.co.kr/orgImg/fn/2025/07/28/202507280911423936_l.jpg\"/>"
      ],
      "text/plain": [
       "<IPython.core.display.Image object>"
      ]
     },
     "metadata": {},
     "output_type": "display_data"
    },
    {
     "name": "stdout",
     "output_type": "stream",
     "text": [
      "'尹부부 공천 의혹' 최호 전 경기도의원 숨진 채 발견 https://news.nate.com/view/20250728n09121?mid=n0400\n"
     ]
    },
    {
     "data": {
      "text/html": [
       "<img src=\"https://thumbnews.nateimg.co.kr/news90///news.nateimg.co.kr/orgImg/yt/2025/07/28/PYH2025072700880006200_P2.jpg\"/>"
      ],
      "text/plain": [
       "<IPython.core.display.Image object>"
      ]
     },
     "metadata": {},
     "output_type": "display_data"
    },
    {
     "name": "stdout",
     "output_type": "stream",
     "text": [
      "간밤 서울 '최저' 기온이 29도 육박…오늘도 푹푹 찐다 https://news.nate.com/view/20250728n05790?mid=n0400\n"
     ]
    },
    {
     "data": {
      "text/html": [
       "<img src=\"https://thumbnews.nateimg.co.kr/news90///news.nateimg.co.kr/orgImg/fn/2025/07/28/202503300625383377_l.jpg\"/>"
      ],
      "text/plain": [
       "<IPython.core.display.Image object>"
      ]
     },
     "metadata": {},
     "output_type": "display_data"
    },
    {
     "name": "stdout",
     "output_type": "stream",
     "text": [
      "\"3번 신고했는데도 죽었다\"…전과 없다며 풀려난 스토킹男, 끝내 살인 https://news.nate.com/view/20250728n03635?mid=n0400\n"
     ]
    },
    {
     "data": {
      "text/html": [
       "<img src=\"https://thumbnews.nateimg.co.kr/news90///news.nateimg.co.kr/orgImg/yt/2025/07/28/AKR20250728054700051_01_i.jpg\"/>"
      ],
      "text/plain": [
       "<IPython.core.display.Image object>"
      ]
     },
     "metadata": {},
     "output_type": "display_data"
    },
    {
     "name": "stdout",
     "output_type": "stream",
     "text": [
      "낮술 마시고 고속도로 달리며 라이브 방송 40대 여성 https://news.nate.com/view/20250728n11101?mid=n0400\n"
     ]
    },
    {
     "data": {
      "text/html": [
       "<img src=\"https://thumbnews.nateimg.co.kr/news90///news.nateimg.co.kr/orgImg/mk/2025/07/17/news-p.v1.20250717.eeee81c7aa1247c6ab4806d590918a1d_P1.jpg\"/>"
      ],
      "text/plain": [
       "<IPython.core.display.Image object>"
      ]
     },
     "metadata": {},
     "output_type": "display_data"
    },
    {
     "name": "stdout",
     "output_type": "stream",
     "text": [
      "아들 마약 직접 신고한 아버지의 경고…\"한국도 좀비거리 생길 수도\" https://news.nate.com/view/20250717n20655?mid=n0400\n"
     ]
    },
    {
     "data": {
      "text/html": [
       "<img src=\"https://thumbnews.nateimg.co.kr/news90///news.nateimg.co.kr/orgImg/ch/2025/07/28/ch_1753651264898_768108_0.jpg\"/>"
      ],
      "text/plain": [
       "<IPython.core.display.Image object>"
      ]
     },
     "metadata": {},
     "output_type": "display_data"
    },
    {
     "name": "stdout",
     "output_type": "stream",
     "text": [
      "\"한국인 조직원들만 2000명\" 캄보디아 '보이스피싱 타운' https://news.nate.com/view/20250728n00361?mid=n0400\n"
     ]
    },
    {
     "data": {
      "text/html": [
       "<img src=\"https://thumbnews.nateimg.co.kr/news90///news.nateimg.co.kr/orgImg/ch/2025/07/28/ch_1753657804989_923072_0.jpg\"/>"
      ],
      "text/plain": [
       "<IPython.core.display.Image object>"
      ]
     },
     "metadata": {},
     "output_type": "display_data"
    },
    {
     "name": "stdout",
     "output_type": "stream",
     "text": [
      "김건희 여사 '샤넬 신발' '반클리프 목걸이' 진실은 https://news.nate.com/view/20250728n00403?mid=n0400\n"
     ]
    },
    {
     "data": {
      "text/html": [
       "<img src=\"https://thumbnews.nateimg.co.kr/news90///news.nateimg.co.kr/orgImg/do/2025/07/28/132080830.1.jpg\"/>"
      ],
      "text/plain": [
       "<IPython.core.display.Image object>"
      ]
     },
     "metadata": {},
     "output_type": "display_data"
    },
    {
     "name": "stdout",
     "output_type": "stream",
     "text": [
      "\"내가 왜 비닐에 묶여야 했는지 알고 싶어요\"…'지게차 결박' 이주노동자 5개월간 도움 호소 https://news.nate.com/view/20250728n01016?mid=n0400\n"
     ]
    },
    {
     "data": {
      "text/html": [
       "<img src=\"https://thumbnews.nateimg.co.kr/news90///news.nateimg.co.kr/orgImg/hi/2025/07/28/61a91ec0-30ee-44a9-b360-3670a8c8f24d.jpg\"/>"
      ],
      "text/plain": [
       "<IPython.core.display.Image object>"
      ]
     },
     "metadata": {},
     "output_type": "display_data"
    },
    {
     "name": "stdout",
     "output_type": "stream",
     "text": [
      "이진숙 \"휴가 반려 유감\"에…與 \"빵 드시며 쉬시라\" 사퇴공세 https://news.nate.com/view/20250728n02994?mid=n0400\n"
     ]
    },
    {
     "data": {
      "text/html": [
       "<img src=\"https://thumbnews.nateimg.co.kr/news90///news.nateimg.co.kr/orgImg/ed/2025/07/28/PS25072800137.jpg\"/>"
      ],
      "text/plain": [
       "<IPython.core.display.Image object>"
      ]
     },
     "metadata": {},
     "output_type": "display_data"
    },
    {
     "name": "stdout",
     "output_type": "stream",
     "text": [
      "김건희 특검, '불법 공천개입 의혹' 이준석 대표 압수수색 https://news.nate.com/view/20250728n04587?mid=n0400\n"
     ]
    },
    {
     "data": {
      "text/html": [
       "<img src=\"https://thumbnews.nateimg.co.kr/news90///news.nateimg.co.kr/orgImg/mt/2025/07/27/2025072722203627198_1.jpg\"/>"
      ],
      "text/plain": [
       "<IPython.core.display.Image object>"
      ]
     },
     "metadata": {},
     "output_type": "display_data"
    },
    {
     "name": "stdout",
     "output_type": "stream",
     "text": [
      "80대 여성 벤츠 차량, 단독주택 돌진…마당에 있던 10대 숨져 https://news.nate.com/view/20250727n17612?mid=n0400\n"
     ]
    },
    {
     "data": {
      "text/html": [
       "<img src=\"https://thumbnews.nateimg.co.kr/news90///news.nateimg.co.kr/orgImg/yn/2025/07/27/202507272159506725_t.jpg\"/>"
      ],
      "text/plain": [
       "<IPython.core.display.Image object>"
      ]
     },
     "metadata": {},
     "output_type": "display_data"
    },
    {
     "name": "stdout",
     "output_type": "stream",
     "text": [
      "서울 38℃ 올여름 최고…'극한 폭염' 언제까지? https://news.nate.com/view/20250727n17323?mid=n0400\n"
     ]
    },
    {
     "data": {
      "text/html": [
       "<img src=\"https://thumbnews.nateimg.co.kr/news90///news.nateimg.co.kr/orgImg/hr/2025/07/27/news-p.v1.20250722.1157f6c7647243159ec8a3c3d1114a90_P1.jpg\"/>"
      ],
      "text/plain": [
       "<IPython.core.display.Image object>"
      ]
     },
     "metadata": {},
     "output_type": "display_data"
    },
    {
     "name": "stdout",
     "output_type": "stream",
     "text": [
      "\"땀 줄줄, 땡볕에 하염없이 기다렸다\" '버스전광판' 제대로 속았다 [세상&] https://news.nate.com/view/20250727n08645?mid=n0400\n"
     ]
    },
    {
     "data": {
      "text/html": [
       "<img src=\"https://thumbnews.nateimg.co.kr/news90///news.nateimg.co.kr/orgImg/cz/2025/07/27/cz_1753583586005_886568_0.jpg\"/>"
      ],
      "text/plain": [
       "<IPython.core.display.Image object>"
      ]
     },
     "metadata": {},
     "output_type": "display_data"
    },
    {
     "name": "stdout",
     "output_type": "stream",
     "text": [
      "아빠들도 '육아휴직' 시대…男 비율 첫 36% 돌파 https://news.nate.com/view/20250727n05555?mid=n0400\n"
     ]
    }
   ],
   "source": [
    "print_nate_news('사회')"
   ]
  },
  {
   "cell_type": "code",
   "execution_count": 6,
   "id": "6cbaf962",
   "metadata": {},
   "outputs": [
    {
     "name": "stdout",
     "output_type": "stream",
     "text": [
      "세계 뉴스 https://news.nate.com/section?mid=n0500\n"
     ]
    },
    {
     "data": {
      "text/html": [
       "<img src=\"https://thumbnews.nateimg.co.kr/news90///news.nateimg.co.kr/orgImg/mk/2025/07/28/news-p.v1.20250728.f507d831ba4b4c1d946f2a84c3fe5570_P1.png\"/>"
      ],
      "text/plain": [
       "<IPython.core.display.Image object>"
      ]
     },
     "metadata": {},
     "output_type": "display_data"
    },
    {
     "name": "stdout",
     "output_type": "stream",
     "text": [
      "\"여긴 겨울인가요?\"…전 세계 폭염 속 샌프란시스코 '역대급 냉여름' https://news.nate.com/view/20250728n05753?mid=n0500\n"
     ]
    },
    {
     "data": {
      "text/html": [
       "<img src=\"https://thumbnews.nateimg.co.kr/news90///news.nateimg.co.kr/orgImg/nt/2025/07/28/20250728081212_20_605_1394624_1080_7.jpg\"/>"
      ],
      "text/plain": [
       "<IPython.core.display.Image object>"
      ]
     },
     "metadata": {},
     "output_type": "display_data"
    },
    {
     "name": "stdout",
     "output_type": "stream",
     "text": [
      "가자지구 영유아 4만 명 아사 위기…이스라엘, 구호품 공중투하 https://news.nate.com/view/20250728n04718?mid=n0500\n"
     ]
    },
    {
     "data": {
      "text/html": [
       "<img src=\"https://thumbnews.nateimg.co.kr/news90///news.nateimg.co.kr/orgImg/mt/2025/07/28/2025072809311135844_1.jpg\"/>"
      ],
      "text/plain": [
       "<IPython.core.display.Image object>"
      ]
     },
     "metadata": {},
     "output_type": "display_data"
    },
    {
     "name": "stdout",
     "output_type": "stream",
     "text": [
      "'열사병' 20대 싣고 간 구급차 빙빙 돌더니 집단 성폭행…인도 발칵 https://news.nate.com/view/20250728n10271?mid=n0500\n"
     ]
    },
    {
     "data": {
      "text/html": [
       "<img src=\"https://thumbnews.nateimg.co.kr/news90///news.nateimg.co.kr/orgImg/hr/2025/07/28/news-p.v1.20250728.8f13e6b5a40941b98aeb21e4f939852c_P1.jpg\"/>"
      ],
      "text/plain": [
       "<IPython.core.display.Image object>"
      ]
     },
     "metadata": {},
     "output_type": "display_data"
    },
    {
     "name": "stdout",
     "output_type": "stream",
     "text": [
      "무관세 외쳤더니 \"15%가 최선\"…EU, 트럼프 벼랑끝 전술에 끌려다녔다 https://news.nate.com/view/20250728n03466?mid=n0500\n"
     ]
    },
    {
     "data": {
      "text/html": [
       "<img src=\"https://thumbnews.nateimg.co.kr/news90///news.nateimg.co.kr/orgImg/ae/2025/07/28/ae_1753665966549_80417_0.png\"/>"
      ],
      "text/plain": [
       "<IPython.core.display.Image object>"
      ]
     },
     "metadata": {},
     "output_type": "display_data"
    },
    {
     "name": "stdout",
     "output_type": "stream",
     "text": [
      "\"화장품·속옷 1000원 짜리 쓰고 버려요\"…中 Z세대서 일회용 소비 확산 https://news.nate.com/view/20250728n11124?mid=n0500\n"
     ]
    },
    {
     "data": {
      "text/html": [
       "<img src=\"https://thumbnews.nateimg.co.kr/news90///news.nateimg.co.kr/orgImg/kh/2025/07/28/news-p.v1.20250724.656c705fb47b4b5990b8b938a9f83e21_P1.jpg\"/>"
      ],
      "text/plain": [
       "<IPython.core.display.Image object>"
      ]
     },
     "metadata": {},
     "output_type": "display_data"
    },
    {
     "name": "stdout",
     "output_type": "stream",
     "text": [
      "'성매매 파일' 공개한다더니···트럼프, 언급 나오자 \"사기극\"[점선면] https://news.nate.com/view/20250728n03102?mid=n0500\n"
     ]
    },
    {
     "data": {
      "text/html": [
       "<img src=\"https://thumbnews.nateimg.co.kr/news90///news.nateimg.co.kr/orgImg/na/2025/07/27/7415757_high.jpg\"/>"
      ],
      "text/plain": [
       "<IPython.core.display.Image object>"
      ]
     },
     "metadata": {},
     "output_type": "display_data"
    },
    {
     "name": "stdout",
     "output_type": "stream",
     "text": [
      "돼지비계 먹으며 전투 임하는 북한군…러시아 파병군 '다큐' 나온다 https://news.nate.com/view/20250727n15261?mid=n0500\n"
     ]
    },
    {
     "data": {
      "text/html": [
       "<img src=\"https://thumbnews.nateimg.co.kr/news90///news.nateimg.co.kr/orgImg/jo/2025/07/27/4e930526-7ced-424b-bd88-6d9e839fda51.jpg\"/>"
      ],
      "text/plain": [
       "<IPython.core.display.Image object>"
      ]
     },
     "metadata": {},
     "output_type": "display_data"
    },
    {
     "name": "stdout",
     "output_type": "stream",
     "text": [
      "\"집 안에 곰이\" 습격 당한 주민 사망…日서 '이것'까지 나왔다 https://news.nate.com/view/20250727n10060?mid=n0500\n"
     ]
    },
    {
     "data": {
      "text/html": [
       "<img src=\"https://thumbnews.nateimg.co.kr/news90///news.nateimg.co.kr/orgImg/yt/2025/07/27/AKR20250727021500104_02_i.jpg\"/>"
      ],
      "text/plain": [
       "<IPython.core.display.Image object>"
      ]
     },
     "metadata": {},
     "output_type": "display_data"
    },
    {
     "name": "stdout",
     "output_type": "stream",
     "text": [
      "\"모든 희망 사라져\"…캄보디아 포격에 아내·두자녀 잃은 태국 가장 https://news.nate.com/view/20250727n06779?mid=n0500\n"
     ]
    },
    {
     "data": {
      "text/html": [
       "<img src=\"https://thumbnews.nateimg.co.kr/news90///news.nateimg.co.kr/orgImg/mt/2025/07/26/2025072607374532306_1.jpg\"/>"
      ],
      "text/plain": [
       "<IPython.core.display.Image object>"
      ]
     },
     "metadata": {},
     "output_type": "display_data"
    },
    {
     "name": "stdout",
     "output_type": "stream",
     "text": [
      "트럼프 \"달러값 하락? 걱정 안 해…약달러가 돈 벌게 해줘\" https://news.nate.com/view/20250726n02617?mid=n0500\n"
     ]
    }
   ],
   "source": [
    "print_nate_news('세계')"
   ]
  },
  {
   "cell_type": "code",
   "execution_count": 7,
   "id": "7444c202",
   "metadata": {},
   "outputs": [
    {
     "name": "stdout",
     "output_type": "stream",
     "text": [
      "IT/과학 뉴스 https://news.nate.com/section?mid=n0600\n"
     ]
    },
    {
     "data": {
      "text/html": [
       "<img src=\"https://thumbnews.nateimg.co.kr/news90///news.nateimg.co.kr/orgImg/se/2025/07/28/2GVIVVEDAZ_1.jpg\"/>"
      ],
      "text/plain": [
       "<IPython.core.display.Image object>"
      ]
     },
     "metadata": {},
     "output_type": "display_data"
    },
    {
     "name": "stdout",
     "output_type": "stream",
     "text": [
      "\"출시되자마자 '완판'?\"···이제 하루 1개도 안 팔린다는 '이것', 무슨 일? https://news.nate.com/view/20250728n02026?mid=n0600\n"
     ]
    },
    {
     "data": {
      "text/html": [
       "<img src=\"https://thumbnews.nateimg.co.kr/news90///news.nateimg.co.kr/orgImg/cz/2025/07/28/cz_1753650071193_205807_0.jpg\"/>"
      ],
      "text/plain": [
       "<IPython.core.display.Image object>"
      ]
     },
     "metadata": {},
     "output_type": "display_data"
    },
    {
     "name": "stdout",
     "output_type": "stream",
     "text": [
      "'GPT-5' 출시 지연되는 사이…구글·xAI에 추월당한 오픈AI https://news.nate.com/view/20250728n02359?mid=n0600\n"
     ]
    },
    {
     "data": {
      "text/html": [
       "<img src=\"https://thumbnews.nateimg.co.kr/news90///news.nateimg.co.kr/orgImg/iu/2025/07/28/580405_541732_15.png\"/>"
      ],
      "text/plain": [
       "<IPython.core.display.Image object>"
      ]
     },
     "metadata": {},
     "output_type": "display_data"
    },
    {
     "name": "stdout",
     "output_type": "stream",
     "text": [
      "샘 알트먼 \"챗GPT 상담, 법적 보호 안 돼…개인 정보 노출 우려\" https://news.nate.com/view/20250728n06550?mid=n0600\n"
     ]
    },
    {
     "data": {
      "text/html": [
       "<img src=\"https://thumbnews.nateimg.co.kr/news90///news.nateimg.co.kr/orgImg/bt/2025/07/28/640948_248900_492.jpg\"/>"
      ],
      "text/plain": [
       "<IPython.core.display.Image object>"
      ]
     },
     "metadata": {},
     "output_type": "display_data"
    },
    {
     "name": "stdout",
     "output_type": "stream",
     "text": [
      "구글, AI 위협에도 '검색 왕국' 지켰다 [친절한 IT] https://news.nate.com/view/20250728n05079?mid=n0600\n"
     ]
    },
    {
     "data": {
      "text/html": [
       "<img src=\"https://thumbnews.nateimg.co.kr/news90///news.nateimg.co.kr/orgImg/mt/2025/07/28/2025072721132338924_1.jpg\"/>"
      ],
      "text/plain": [
       "<IPython.core.display.Image object>"
      ]
     },
     "metadata": {},
     "output_type": "display_data"
    },
    {
     "name": "stdout",
     "output_type": "stream",
     "text": [
      "[IT썰] \"밝고 세련됐다\"…애플, 아이폰17에 '퍼플·그린' 색상 적용 https://news.nate.com/view/20250728n04256?mid=n0600\n"
     ]
    }
   ],
   "source": [
    "print_nate_news('IT/과학')"
   ]
  },
  {
   "cell_type": "markdown",
   "id": "ab34b237",
   "metadata": {},
   "source": [
    "#### 2-2. 하나의 네이버 웹툰과 1개의 회차에 대한 Image 다운로드 하기 (필수)"
   ]
  },
  {
   "cell_type": "markdown",
   "id": "b34992ca",
   "metadata": {},
   "source": [
    ":  하나의 웹툰의 제목(title)과 회차번호(no),회차의URL(url) 을 입력으로 받는 함수를 선언합니다. \n",
    "\n",
    "   def download_one_episode(title,no,url):\n",
    "\n",
    "아래와 같이 호출합니다.\n",
    "\n",
    "download_one_episode('일렉시드',341,'https://comic.naver.com/webtoon/detail?titleId=717481&no=341&week=wed')\n",
    "\n",
    "img\\일렉시드\\341 디렉토리가 생성되며 , \n",
    "\n",
    "그 디렉토리 아래에 웹툰 image들이 다운로드 되도록 해주세요."
   ]
  },
  {
   "cell_type": "code",
   "execution_count": 8,
   "id": "9347d6ac",
   "metadata": {},
   "outputs": [],
   "source": [
    "import requests\n",
    "from bs4 import BeautifulSoup\n",
    "import os\n",
    "\n",
    "def download_one_episode(title,no,url):\n",
    "    req_header = {\n",
    "        'referer':url,\n",
    "        \"user-agent\": \"Mozilla/5.0 (Windows NT 10.0; Win64; x64) AppleWebKit/537.36 (KHTML, like Gecko) Chrome/104.0.0.0 Safari/537.36\"\n",
    "    }\n",
    "    imgdir_name = f'img/{title}/{no}'\n",
    "\n",
    "    # 이미지 저장 폴더가 없으면 생성\n",
    "    os.makedirs(imgdir_name, exist_ok=True)\n",
    "\n",
    "    # 웹 페이지 요청 및 확인\n",
    "    res = requests.get(url)\n",
    "    if not res.ok:\n",
    "        print(f'Error Code = {res.status_code}')\n",
    "        exit()\n",
    "\n",
    "    # 이미지 URL 추출\n",
    "    soup = BeautifulSoup(res.text, 'html.parser')\n",
    "    img_url_list = [img_tag['src'] for img_tag in soup.select(\"img[src*='IMAG01']\")]\n",
    "\n",
    "    # 이미지 다운로드\n",
    "    for img_url in img_url_list:\n",
    "        res = requests.get(img_url, headers=req_header)\n",
    "        if res.ok:\n",
    "            img_data = res.content\n",
    "            file_path = os.path.join(imgdir_name, os.path.basename(img_url))\n",
    "            with open(file_path, 'wb') as file:\n",
    "                print(f'Writing to {file_path} ({len(img_data):,} bytes)')\n",
    "                file.write(img_data)\n",
    "        else:\n",
    "            print(f'Error Code = {res.status_code} for {img_url}')"
   ]
  },
  {
   "cell_type": "code",
   "execution_count": 9,
   "id": "995d9131",
   "metadata": {},
   "outputs": [
    {
     "name": "stdout",
     "output_type": "stream",
     "text": [
      "Writing to img/일렉시드/341\\20250311184953_812848a288eb3e6ce6efe904abd0ef68_IMAG01_1.jpg (87,143 bytes)\n",
      "Writing to img/일렉시드/341\\20250311184953_812848a288eb3e6ce6efe904abd0ef68_IMAG01_2.jpg (256,127 bytes)\n",
      "Writing to img/일렉시드/341\\20250311184953_812848a288eb3e6ce6efe904abd0ef68_IMAG01_3.jpg (184,536 bytes)\n",
      "Writing to img/일렉시드/341\\20250311184953_812848a288eb3e6ce6efe904abd0ef68_IMAG01_4.jpg (182,867 bytes)\n",
      "Writing to img/일렉시드/341\\20250311184953_812848a288eb3e6ce6efe904abd0ef68_IMAG01_5.jpg (112,615 bytes)\n",
      "Writing to img/일렉시드/341\\20250311184953_812848a288eb3e6ce6efe904abd0ef68_IMAG01_6.jpg (169,889 bytes)\n",
      "Writing to img/일렉시드/341\\20250311184953_812848a288eb3e6ce6efe904abd0ef68_IMAG01_7.jpg (157,876 bytes)\n",
      "Writing to img/일렉시드/341\\20250311184953_812848a288eb3e6ce6efe904abd0ef68_IMAG01_8.jpg (181,837 bytes)\n",
      "Writing to img/일렉시드/341\\20250311184953_812848a288eb3e6ce6efe904abd0ef68_IMAG01_9.jpg (203,632 bytes)\n",
      "Writing to img/일렉시드/341\\20250311184953_812848a288eb3e6ce6efe904abd0ef68_IMAG01_10.jpg (113,543 bytes)\n",
      "Writing to img/일렉시드/341\\20250311184953_812848a288eb3e6ce6efe904abd0ef68_IMAG01_11.jpg (166,818 bytes)\n",
      "Writing to img/일렉시드/341\\20250311184953_812848a288eb3e6ce6efe904abd0ef68_IMAG01_12.jpg (196,171 bytes)\n",
      "Writing to img/일렉시드/341\\20250311184953_812848a288eb3e6ce6efe904abd0ef68_IMAG01_13.jpg (158,408 bytes)\n",
      "Writing to img/일렉시드/341\\20250311184953_812848a288eb3e6ce6efe904abd0ef68_IMAG01_14.jpg (203,525 bytes)\n",
      "Writing to img/일렉시드/341\\20250311184953_812848a288eb3e6ce6efe904abd0ef68_IMAG01_15.jpg (81,271 bytes)\n",
      "Writing to img/일렉시드/341\\20250311184953_812848a288eb3e6ce6efe904abd0ef68_IMAG01_16.jpg (171,092 bytes)\n",
      "Writing to img/일렉시드/341\\20250311184953_812848a288eb3e6ce6efe904abd0ef68_IMAG01_17.jpg (65,626 bytes)\n",
      "Writing to img/일렉시드/341\\20250311184953_812848a288eb3e6ce6efe904abd0ef68_IMAG01_18.jpg (135,215 bytes)\n",
      "Writing to img/일렉시드/341\\20250311184953_812848a288eb3e6ce6efe904abd0ef68_IMAG01_19.jpg (96,367 bytes)\n",
      "Writing to img/일렉시드/341\\20250311184953_812848a288eb3e6ce6efe904abd0ef68_IMAG01_20.jpg (139,925 bytes)\n",
      "Writing to img/일렉시드/341\\20250311184953_812848a288eb3e6ce6efe904abd0ef68_IMAG01_21.jpg (191,828 bytes)\n",
      "Writing to img/일렉시드/341\\20250311184953_812848a288eb3e6ce6efe904abd0ef68_IMAG01_22.jpg (211,389 bytes)\n",
      "Writing to img/일렉시드/341\\20250311184953_812848a288eb3e6ce6efe904abd0ef68_IMAG01_23.jpg (174,099 bytes)\n",
      "Writing to img/일렉시드/341\\20250311184953_812848a288eb3e6ce6efe904abd0ef68_IMAG01_24.jpg (187,978 bytes)\n",
      "Writing to img/일렉시드/341\\20250311184953_812848a288eb3e6ce6efe904abd0ef68_IMAG01_25.jpg (185,536 bytes)\n",
      "Writing to img/일렉시드/341\\20250311184953_812848a288eb3e6ce6efe904abd0ef68_IMAG01_26.jpg (286,246 bytes)\n",
      "Writing to img/일렉시드/341\\20250311184953_812848a288eb3e6ce6efe904abd0ef68_IMAG01_27.jpg (238,473 bytes)\n",
      "Writing to img/일렉시드/341\\20250311184953_812848a288eb3e6ce6efe904abd0ef68_IMAG01_28.jpg (148,309 bytes)\n",
      "Writing to img/일렉시드/341\\20250311184953_812848a288eb3e6ce6efe904abd0ef68_IMAG01_29.jpg (245,722 bytes)\n",
      "Writing to img/일렉시드/341\\20250311184953_812848a288eb3e6ce6efe904abd0ef68_IMAG01_30.jpg (232,985 bytes)\n",
      "Writing to img/일렉시드/341\\20250311184953_812848a288eb3e6ce6efe904abd0ef68_IMAG01_31.jpg (178,547 bytes)\n",
      "Writing to img/일렉시드/341\\20250311184953_812848a288eb3e6ce6efe904abd0ef68_IMAG01_32.jpg (176,348 bytes)\n",
      "Writing to img/일렉시드/341\\20250311184953_812848a288eb3e6ce6efe904abd0ef68_IMAG01_33.jpg (196,741 bytes)\n",
      "Writing to img/일렉시드/341\\20250311184953_812848a288eb3e6ce6efe904abd0ef68_IMAG01_34.jpg (232,565 bytes)\n",
      "Writing to img/일렉시드/341\\20250311184953_812848a288eb3e6ce6efe904abd0ef68_IMAG01_35.jpg (214,587 bytes)\n",
      "Writing to img/일렉시드/341\\20250311184953_812848a288eb3e6ce6efe904abd0ef68_IMAG01_36.jpg (137,502 bytes)\n",
      "Writing to img/일렉시드/341\\20250311184953_812848a288eb3e6ce6efe904abd0ef68_IMAG01_37.jpg (153,089 bytes)\n",
      "Writing to img/일렉시드/341\\20250311184953_812848a288eb3e6ce6efe904abd0ef68_IMAG01_38.jpg (250,210 bytes)\n",
      "Writing to img/일렉시드/341\\20250311184953_812848a288eb3e6ce6efe904abd0ef68_IMAG01_39.jpg (216,059 bytes)\n",
      "Writing to img/일렉시드/341\\20250311184953_812848a288eb3e6ce6efe904abd0ef68_IMAG01_40.jpg (203,977 bytes)\n",
      "Writing to img/일렉시드/341\\20250311184953_812848a288eb3e6ce6efe904abd0ef68_IMAG01_41.jpg (170,488 bytes)\n",
      "Writing to img/일렉시드/341\\20250311184953_812848a288eb3e6ce6efe904abd0ef68_IMAG01_42.jpg (150,868 bytes)\n",
      "Writing to img/일렉시드/341\\20250311184953_812848a288eb3e6ce6efe904abd0ef68_IMAG01_43.jpg (183,488 bytes)\n",
      "Writing to img/일렉시드/341\\20250311184953_812848a288eb3e6ce6efe904abd0ef68_IMAG01_44.jpg (205,269 bytes)\n",
      "Writing to img/일렉시드/341\\20250311184953_812848a288eb3e6ce6efe904abd0ef68_IMAG01_45.jpg (172,439 bytes)\n",
      "Writing to img/일렉시드/341\\20250311184953_812848a288eb3e6ce6efe904abd0ef68_IMAG01_46.jpg (179,258 bytes)\n",
      "Writing to img/일렉시드/341\\20250311184953_812848a288eb3e6ce6efe904abd0ef68_IMAG01_47.jpg (205,046 bytes)\n",
      "Writing to img/일렉시드/341\\20250311184953_812848a288eb3e6ce6efe904abd0ef68_IMAG01_48.jpg (196,106 bytes)\n",
      "Writing to img/일렉시드/341\\20250311184953_812848a288eb3e6ce6efe904abd0ef68_IMAG01_49.jpg (175,273 bytes)\n",
      "Writing to img/일렉시드/341\\20250311184953_812848a288eb3e6ce6efe904abd0ef68_IMAG01_50.jpg (320,751 bytes)\n",
      "Writing to img/일렉시드/341\\20250311184953_812848a288eb3e6ce6efe904abd0ef68_IMAG01_51.jpg (240,744 bytes)\n",
      "Writing to img/일렉시드/341\\20250311184953_812848a288eb3e6ce6efe904abd0ef68_IMAG01_52.jpg (158,821 bytes)\n",
      "Writing to img/일렉시드/341\\20250311184953_812848a288eb3e6ce6efe904abd0ef68_IMAG01_53.jpg (190,448 bytes)\n",
      "Writing to img/일렉시드/341\\20250311184953_812848a288eb3e6ce6efe904abd0ef68_IMAG01_54.jpg (156,224 bytes)\n",
      "Writing to img/일렉시드/341\\20250311184953_812848a288eb3e6ce6efe904abd0ef68_IMAG01_55.jpg (191,149 bytes)\n",
      "Writing to img/일렉시드/341\\20250311184953_812848a288eb3e6ce6efe904abd0ef68_IMAG01_56.jpg (137,781 bytes)\n",
      "Writing to img/일렉시드/341\\20250311184953_812848a288eb3e6ce6efe904abd0ef68_IMAG01_57.jpg (174,969 bytes)\n",
      "Writing to img/일렉시드/341\\20250311184953_812848a288eb3e6ce6efe904abd0ef68_IMAG01_58.jpg (169,813 bytes)\n",
      "Writing to img/일렉시드/341\\20250311184953_812848a288eb3e6ce6efe904abd0ef68_IMAG01_59.jpg (183,086 bytes)\n",
      "Writing to img/일렉시드/341\\20250311184953_812848a288eb3e6ce6efe904abd0ef68_IMAG01_60.jpg (191,297 bytes)\n",
      "Writing to img/일렉시드/341\\20250311184953_812848a288eb3e6ce6efe904abd0ef68_IMAG01_61.jpg (201,884 bytes)\n",
      "Writing to img/일렉시드/341\\20250311184953_812848a288eb3e6ce6efe904abd0ef68_IMAG01_62.jpg (186,718 bytes)\n",
      "Writing to img/일렉시드/341\\20250311184953_812848a288eb3e6ce6efe904abd0ef68_IMAG01_63.jpg (115,304 bytes)\n",
      "Writing to img/일렉시드/341\\20250311184953_812848a288eb3e6ce6efe904abd0ef68_IMAG01_64.jpg (239,910 bytes)\n",
      "Writing to img/일렉시드/341\\20250311184953_812848a288eb3e6ce6efe904abd0ef68_IMAG01_65.jpg (160,774 bytes)\n",
      "Writing to img/일렉시드/341\\20250311184953_812848a288eb3e6ce6efe904abd0ef68_IMAG01_66.jpg (188,427 bytes)\n",
      "Writing to img/일렉시드/341\\20250311184953_812848a288eb3e6ce6efe904abd0ef68_IMAG01_67.jpg (196,378 bytes)\n",
      "Writing to img/일렉시드/341\\20250311184953_812848a288eb3e6ce6efe904abd0ef68_IMAG01_68.jpg (195,161 bytes)\n",
      "Writing to img/일렉시드/341\\20250311184953_812848a288eb3e6ce6efe904abd0ef68_IMAG01_69.jpg (207,700 bytes)\n",
      "Writing to img/일렉시드/341\\20250311184953_812848a288eb3e6ce6efe904abd0ef68_IMAG01_70.jpg (191,109 bytes)\n",
      "Writing to img/일렉시드/341\\20250311184953_812848a288eb3e6ce6efe904abd0ef68_IMAG01_71.jpg (135,448 bytes)\n",
      "Writing to img/일렉시드/341\\20250311184953_812848a288eb3e6ce6efe904abd0ef68_IMAG01_72.jpg (254,244 bytes)\n",
      "Writing to img/일렉시드/341\\20250311184953_812848a288eb3e6ce6efe904abd0ef68_IMAG01_73.jpg (190,447 bytes)\n",
      "Writing to img/일렉시드/341\\20250311184953_812848a288eb3e6ce6efe904abd0ef68_IMAG01_74.jpg (140,545 bytes)\n",
      "Writing to img/일렉시드/341\\20250311184953_812848a288eb3e6ce6efe904abd0ef68_IMAG01_75.jpg (90,130 bytes)\n",
      "Writing to img/일렉시드/341\\20250311184953_812848a288eb3e6ce6efe904abd0ef68_IMAG01_76.jpg (194,086 bytes)\n",
      "Writing to img/일렉시드/341\\20250311184953_812848a288eb3e6ce6efe904abd0ef68_IMAG01_77.jpg (189,616 bytes)\n",
      "Writing to img/일렉시드/341\\20250311184953_812848a288eb3e6ce6efe904abd0ef68_IMAG01_78.jpg (244,264 bytes)\n",
      "Writing to img/일렉시드/341\\20250311184953_812848a288eb3e6ce6efe904abd0ef68_IMAG01_79.jpg (226,750 bytes)\n",
      "Writing to img/일렉시드/341\\20250311184953_812848a288eb3e6ce6efe904abd0ef68_IMAG01_80.jpg (73,608 bytes)\n",
      "Writing to img/일렉시드/341\\20250311184953_812848a288eb3e6ce6efe904abd0ef68_IMAG01_81.jpg (175,437 bytes)\n",
      "Writing to img/일렉시드/341\\20250311184953_812848a288eb3e6ce6efe904abd0ef68_IMAG01_82.jpg (141,961 bytes)\n",
      "Writing to img/일렉시드/341\\20250311184953_812848a288eb3e6ce6efe904abd0ef68_IMAG01_83.jpg (145,494 bytes)\n",
      "Writing to img/일렉시드/341\\20250311184953_812848a288eb3e6ce6efe904abd0ef68_IMAG01_84.jpg (121,081 bytes)\n",
      "Writing to img/일렉시드/341\\20250311184953_812848a288eb3e6ce6efe904abd0ef68_IMAG01_85.jpg (148,191 bytes)\n",
      "Writing to img/일렉시드/341\\20250311184953_812848a288eb3e6ce6efe904abd0ef68_IMAG01_86.jpg (186,055 bytes)\n",
      "Writing to img/일렉시드/341\\20250311184953_812848a288eb3e6ce6efe904abd0ef68_IMAG01_87.jpg (170,532 bytes)\n",
      "Writing to img/일렉시드/341\\20250311184953_812848a288eb3e6ce6efe904abd0ef68_IMAG01_88.jpg (99,449 bytes)\n"
     ]
    }
   ],
   "source": [
    "download_one_episode('일렉시드',341,'https://comic.naver.com/webtoon/detail?titleId=717481&no=341&week=wed')"
   ]
  },
  {
   "cell_type": "code",
   "execution_count": 10,
   "id": "a0e55ce8",
   "metadata": {},
   "outputs": [
    {
     "name": "stdout",
     "output_type": "stream",
     "text": [
      "Writing to img/역대급 영지 설계사/190\\20250605221538_5aff3380c3d32b6d6cc6487c342294fb_IMAG01_1.jpg (130,465 bytes)\n",
      "Writing to img/역대급 영지 설계사/190\\20250605221538_5aff3380c3d32b6d6cc6487c342294fb_IMAG01_2.jpg (201,626 bytes)\n",
      "Writing to img/역대급 영지 설계사/190\\20250605221538_5aff3380c3d32b6d6cc6487c342294fb_IMAG01_3.jpg (261,685 bytes)\n",
      "Writing to img/역대급 영지 설계사/190\\20250605221538_5aff3380c3d32b6d6cc6487c342294fb_IMAG01_4.jpg (186,659 bytes)\n",
      "Writing to img/역대급 영지 설계사/190\\20250605221538_5aff3380c3d32b6d6cc6487c342294fb_IMAG01_5.jpg (136,388 bytes)\n",
      "Writing to img/역대급 영지 설계사/190\\20250605221538_5aff3380c3d32b6d6cc6487c342294fb_IMAG01_6.jpg (207,759 bytes)\n",
      "Writing to img/역대급 영지 설계사/190\\20250605221538_5aff3380c3d32b6d6cc6487c342294fb_IMAG01_7.jpg (129,560 bytes)\n",
      "Writing to img/역대급 영지 설계사/190\\20250605221538_5aff3380c3d32b6d6cc6487c342294fb_IMAG01_8.jpg (225,156 bytes)\n",
      "Writing to img/역대급 영지 설계사/190\\20250605221538_5aff3380c3d32b6d6cc6487c342294fb_IMAG01_9.jpg (164,836 bytes)\n",
      "Writing to img/역대급 영지 설계사/190\\20250605221538_5aff3380c3d32b6d6cc6487c342294fb_IMAG01_10.jpg (223,165 bytes)\n",
      "Writing to img/역대급 영지 설계사/190\\20250605221538_5aff3380c3d32b6d6cc6487c342294fb_IMAG01_11.jpg (220,300 bytes)\n",
      "Writing to img/역대급 영지 설계사/190\\20250605221538_5aff3380c3d32b6d6cc6487c342294fb_IMAG01_12.jpg (197,733 bytes)\n",
      "Writing to img/역대급 영지 설계사/190\\20250605221538_5aff3380c3d32b6d6cc6487c342294fb_IMAG01_13.jpg (136,458 bytes)\n",
      "Writing to img/역대급 영지 설계사/190\\20250605221538_5aff3380c3d32b6d6cc6487c342294fb_IMAG01_14.jpg (169,881 bytes)\n",
      "Writing to img/역대급 영지 설계사/190\\20250605221538_5aff3380c3d32b6d6cc6487c342294fb_IMAG01_15.jpg (117,930 bytes)\n",
      "Writing to img/역대급 영지 설계사/190\\20250605221538_5aff3380c3d32b6d6cc6487c342294fb_IMAG01_16.jpg (214,105 bytes)\n",
      "Writing to img/역대급 영지 설계사/190\\20250605221538_5aff3380c3d32b6d6cc6487c342294fb_IMAG01_17.jpg (160,671 bytes)\n",
      "Writing to img/역대급 영지 설계사/190\\20250605221538_5aff3380c3d32b6d6cc6487c342294fb_IMAG01_18.jpg (229,117 bytes)\n",
      "Writing to img/역대급 영지 설계사/190\\20250605221538_5aff3380c3d32b6d6cc6487c342294fb_IMAG01_19.jpg (170,909 bytes)\n",
      "Writing to img/역대급 영지 설계사/190\\20250605221538_5aff3380c3d32b6d6cc6487c342294fb_IMAG01_20.jpg (231,170 bytes)\n",
      "Writing to img/역대급 영지 설계사/190\\20250605221538_5aff3380c3d32b6d6cc6487c342294fb_IMAG01_21.jpg (253,409 bytes)\n",
      "Writing to img/역대급 영지 설계사/190\\20250605221538_5aff3380c3d32b6d6cc6487c342294fb_IMAG01_22.jpg (188,373 bytes)\n",
      "Writing to img/역대급 영지 설계사/190\\20250605221538_5aff3380c3d32b6d6cc6487c342294fb_IMAG01_23.jpg (243,690 bytes)\n",
      "Writing to img/역대급 영지 설계사/190\\20250605221538_5aff3380c3d32b6d6cc6487c342294fb_IMAG01_24.jpg (277,024 bytes)\n",
      "Writing to img/역대급 영지 설계사/190\\20250605221538_5aff3380c3d32b6d6cc6487c342294fb_IMAG01_25.jpg (215,527 bytes)\n",
      "Writing to img/역대급 영지 설계사/190\\20250605221538_5aff3380c3d32b6d6cc6487c342294fb_IMAG01_26.jpg (144,582 bytes)\n",
      "Writing to img/역대급 영지 설계사/190\\20250605221538_5aff3380c3d32b6d6cc6487c342294fb_IMAG01_27.jpg (151,613 bytes)\n",
      "Writing to img/역대급 영지 설계사/190\\20250605221538_5aff3380c3d32b6d6cc6487c342294fb_IMAG01_28.jpg (198,322 bytes)\n",
      "Writing to img/역대급 영지 설계사/190\\20250605221538_5aff3380c3d32b6d6cc6487c342294fb_IMAG01_29.jpg (188,614 bytes)\n",
      "Writing to img/역대급 영지 설계사/190\\20250605221538_5aff3380c3d32b6d6cc6487c342294fb_IMAG01_30.jpg (217,467 bytes)\n",
      "Writing to img/역대급 영지 설계사/190\\20250605221538_5aff3380c3d32b6d6cc6487c342294fb_IMAG01_31.jpg (165,642 bytes)\n",
      "Writing to img/역대급 영지 설계사/190\\20250605221538_5aff3380c3d32b6d6cc6487c342294fb_IMAG01_32.jpg (161,654 bytes)\n",
      "Writing to img/역대급 영지 설계사/190\\20250605221538_5aff3380c3d32b6d6cc6487c342294fb_IMAG01_33.jpg (250,117 bytes)\n",
      "Writing to img/역대급 영지 설계사/190\\20250605221538_5aff3380c3d32b6d6cc6487c342294fb_IMAG01_34.jpg (242,559 bytes)\n",
      "Writing to img/역대급 영지 설계사/190\\20250605221538_5aff3380c3d32b6d6cc6487c342294fb_IMAG01_35.jpg (175,071 bytes)\n",
      "Writing to img/역대급 영지 설계사/190\\20250605221538_5aff3380c3d32b6d6cc6487c342294fb_IMAG01_36.jpg (214,527 bytes)\n",
      "Writing to img/역대급 영지 설계사/190\\20250605221538_5aff3380c3d32b6d6cc6487c342294fb_IMAG01_37.jpg (181,776 bytes)\n",
      "Writing to img/역대급 영지 설계사/190\\20250605221538_5aff3380c3d32b6d6cc6487c342294fb_IMAG01_38.jpg (194,238 bytes)\n",
      "Writing to img/역대급 영지 설계사/190\\20250605221538_5aff3380c3d32b6d6cc6487c342294fb_IMAG01_39.jpg (189,950 bytes)\n",
      "Writing to img/역대급 영지 설계사/190\\20250605221538_5aff3380c3d32b6d6cc6487c342294fb_IMAG01_40.jpg (190,248 bytes)\n",
      "Writing to img/역대급 영지 설계사/190\\20250605221538_5aff3380c3d32b6d6cc6487c342294fb_IMAG01_41.jpg (163,346 bytes)\n",
      "Writing to img/역대급 영지 설계사/190\\20250605221538_5aff3380c3d32b6d6cc6487c342294fb_IMAG01_42.jpg (152,169 bytes)\n",
      "Writing to img/역대급 영지 설계사/190\\20250605221538_5aff3380c3d32b6d6cc6487c342294fb_IMAG01_43.jpg (186,493 bytes)\n",
      "Writing to img/역대급 영지 설계사/190\\20250605221538_5aff3380c3d32b6d6cc6487c342294fb_IMAG01_44.jpg (193,470 bytes)\n",
      "Writing to img/역대급 영지 설계사/190\\20250605221538_5aff3380c3d32b6d6cc6487c342294fb_IMAG01_45.jpg (183,746 bytes)\n",
      "Writing to img/역대급 영지 설계사/190\\20250605221538_5aff3380c3d32b6d6cc6487c342294fb_IMAG01_46.jpg (151,392 bytes)\n",
      "Writing to img/역대급 영지 설계사/190\\20250605221538_5aff3380c3d32b6d6cc6487c342294fb_IMAG01_47.jpg (173,354 bytes)\n",
      "Writing to img/역대급 영지 설계사/190\\20250605221538_5aff3380c3d32b6d6cc6487c342294fb_IMAG01_48.jpg (159,538 bytes)\n",
      "Writing to img/역대급 영지 설계사/190\\20250605221538_5aff3380c3d32b6d6cc6487c342294fb_IMAG01_49.jpg (170,246 bytes)\n",
      "Writing to img/역대급 영지 설계사/190\\20250605221538_5aff3380c3d32b6d6cc6487c342294fb_IMAG01_50.jpg (103,946 bytes)\n",
      "Writing to img/역대급 영지 설계사/190\\20250605221538_5aff3380c3d32b6d6cc6487c342294fb_IMAG01_51.jpg (150,885 bytes)\n",
      "Writing to img/역대급 영지 설계사/190\\20250605221538_5aff3380c3d32b6d6cc6487c342294fb_IMAG01_52.jpg (158,096 bytes)\n",
      "Writing to img/역대급 영지 설계사/190\\20250605221538_5aff3380c3d32b6d6cc6487c342294fb_IMAG01_53.jpg (217,199 bytes)\n",
      "Writing to img/역대급 영지 설계사/190\\20250605221538_5aff3380c3d32b6d6cc6487c342294fb_IMAG01_54.jpg (228,530 bytes)\n",
      "Writing to img/역대급 영지 설계사/190\\20250605221538_5aff3380c3d32b6d6cc6487c342294fb_IMAG01_55.jpg (240,139 bytes)\n",
      "Writing to img/역대급 영지 설계사/190\\20250605221538_5aff3380c3d32b6d6cc6487c342294fb_IMAG01_56.jpg (181,287 bytes)\n",
      "Writing to img/역대급 영지 설계사/190\\20250605221538_5aff3380c3d32b6d6cc6487c342294fb_IMAG01_57.jpg (176,605 bytes)\n",
      "Writing to img/역대급 영지 설계사/190\\20250605221538_5aff3380c3d32b6d6cc6487c342294fb_IMAG01_58.jpg (119,993 bytes)\n",
      "Writing to img/역대급 영지 설계사/190\\20250605221538_5aff3380c3d32b6d6cc6487c342294fb_IMAG01_59.jpg (159,939 bytes)\n",
      "Writing to img/역대급 영지 설계사/190\\20250605221538_5aff3380c3d32b6d6cc6487c342294fb_IMAG01_60.jpg (172,410 bytes)\n",
      "Writing to img/역대급 영지 설계사/190\\20250605221538_5aff3380c3d32b6d6cc6487c342294fb_IMAG01_61.jpg (166,126 bytes)\n",
      "Writing to img/역대급 영지 설계사/190\\20250605221538_5aff3380c3d32b6d6cc6487c342294fb_IMAG01_62.jpg (150,750 bytes)\n",
      "Writing to img/역대급 영지 설계사/190\\20250605221538_5aff3380c3d32b6d6cc6487c342294fb_IMAG01_63.jpg (173,849 bytes)\n",
      "Writing to img/역대급 영지 설계사/190\\20250605221538_5aff3380c3d32b6d6cc6487c342294fb_IMAG01_64.jpg (189,558 bytes)\n",
      "Writing to img/역대급 영지 설계사/190\\20250605221538_5aff3380c3d32b6d6cc6487c342294fb_IMAG01_65.jpg (156,966 bytes)\n",
      "Writing to img/역대급 영지 설계사/190\\20250605221538_5aff3380c3d32b6d6cc6487c342294fb_IMAG01_66.jpg (158,148 bytes)\n",
      "Writing to img/역대급 영지 설계사/190\\20250605221538_5aff3380c3d32b6d6cc6487c342294fb_IMAG01_67.jpg (174,915 bytes)\n",
      "Writing to img/역대급 영지 설계사/190\\20250605221538_5aff3380c3d32b6d6cc6487c342294fb_IMAG01_68.jpg (152,808 bytes)\n",
      "Writing to img/역대급 영지 설계사/190\\20250605221538_5aff3380c3d32b6d6cc6487c342294fb_IMAG01_69.jpg (155,439 bytes)\n",
      "Writing to img/역대급 영지 설계사/190\\20250605221538_5aff3380c3d32b6d6cc6487c342294fb_IMAG01_70.jpg (187,186 bytes)\n",
      "Writing to img/역대급 영지 설계사/190\\20250605221538_5aff3380c3d32b6d6cc6487c342294fb_IMAG01_71.jpg (201,221 bytes)\n",
      "Writing to img/역대급 영지 설계사/190\\20250605221538_5aff3380c3d32b6d6cc6487c342294fb_IMAG01_72.jpg (215,619 bytes)\n",
      "Writing to img/역대급 영지 설계사/190\\20250605221538_5aff3380c3d32b6d6cc6487c342294fb_IMAG01_73.jpg (126,906 bytes)\n",
      "Writing to img/역대급 영지 설계사/190\\20250605221538_5aff3380c3d32b6d6cc6487c342294fb_IMAG01_74.jpg (231,719 bytes)\n",
      "Writing to img/역대급 영지 설계사/190\\20250605221538_5aff3380c3d32b6d6cc6487c342294fb_IMAG01_75.jpg (149,320 bytes)\n",
      "Writing to img/역대급 영지 설계사/190\\20250605221538_5aff3380c3d32b6d6cc6487c342294fb_IMAG01_76.jpg (99,397 bytes)\n",
      "Writing to img/역대급 영지 설계사/190\\20250605221538_5aff3380c3d32b6d6cc6487c342294fb_IMAG01_77.jpg (160,207 bytes)\n",
      "Writing to img/역대급 영지 설계사/190\\20250605221538_5aff3380c3d32b6d6cc6487c342294fb_IMAG01_78.jpg (127,267 bytes)\n",
      "Writing to img/역대급 영지 설계사/190\\20250605221538_5aff3380c3d32b6d6cc6487c342294fb_IMAG01_79.jpg (136,323 bytes)\n",
      "Writing to img/역대급 영지 설계사/190\\20250605221538_5aff3380c3d32b6d6cc6487c342294fb_IMAG01_80.jpg (150,167 bytes)\n",
      "Writing to img/역대급 영지 설계사/190\\20250605221538_5aff3380c3d32b6d6cc6487c342294fb_IMAG01_81.jpg (205,521 bytes)\n",
      "Writing to img/역대급 영지 설계사/190\\20250605221538_5aff3380c3d32b6d6cc6487c342294fb_IMAG01_82.jpg (148,670 bytes)\n",
      "Writing to img/역대급 영지 설계사/190\\20250605221538_5aff3380c3d32b6d6cc6487c342294fb_IMAG01_83.jpg (156,811 bytes)\n",
      "Writing to img/역대급 영지 설계사/190\\20250605221538_5aff3380c3d32b6d6cc6487c342294fb_IMAG01_84.jpg (120,407 bytes)\n",
      "Writing to img/역대급 영지 설계사/190\\20250605221538_5aff3380c3d32b6d6cc6487c342294fb_IMAG01_85.jpg (125,520 bytes)\n",
      "Writing to img/역대급 영지 설계사/190\\20250605221538_5aff3380c3d32b6d6cc6487c342294fb_IMAG01_86.jpg (99,603 bytes)\n",
      "Writing to img/역대급 영지 설계사/190\\20250605221538_5aff3380c3d32b6d6cc6487c342294fb_IMAG01_87.jpg (211,865 bytes)\n",
      "Writing to img/역대급 영지 설계사/190\\20250605221538_5aff3380c3d32b6d6cc6487c342294fb_IMAG01_88.jpg (199,350 bytes)\n",
      "Writing to img/역대급 영지 설계사/190\\20250605221538_5aff3380c3d32b6d6cc6487c342294fb_IMAG01_89.jpg (188,471 bytes)\n",
      "Writing to img/역대급 영지 설계사/190\\20250605221538_5aff3380c3d32b6d6cc6487c342294fb_IMAG01_90.jpg (50,668 bytes)\n",
      "Writing to img/역대급 영지 설계사/190\\20250605221538_5aff3380c3d32b6d6cc6487c342294fb_IMAG01_91.jpg (100,778 bytes)\n",
      "Writing to img/역대급 영지 설계사/190\\20250605221538_5aff3380c3d32b6d6cc6487c342294fb_IMAG01_92.jpg (232,787 bytes)\n",
      "Writing to img/역대급 영지 설계사/190\\20250605221538_5aff3380c3d32b6d6cc6487c342294fb_IMAG01_93.jpg (30,860 bytes)\n"
     ]
    }
   ],
   "source": [
    "download_one_episode('역대급 영지 설계사',190,'https://comic.naver.com/webtoon/detail?titleId=777767&no=195&week=fri')"
   ]
  }
 ],
 "metadata": {
  "kernelspec": {
   "display_name": "base",
   "language": "python",
   "name": "python3"
  },
  "language_info": {
   "codemirror_mode": {
    "name": "ipython",
    "version": 3
   },
   "file_extension": ".py",
   "mimetype": "text/x-python",
   "name": "python",
   "nbconvert_exporter": "python",
   "pygments_lexer": "ipython3",
   "version": "3.12.7"
  }
 },
 "nbformat": 4,
 "nbformat_minor": 5
}
